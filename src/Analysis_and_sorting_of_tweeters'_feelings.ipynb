{
 "cells": [
  {
   "cell_type": "markdown",
   "metadata": {
    "id": "wkTt79exIvD5"
   },
   "source": [
    "#  Analyzing the sentiments of the people from micro-blogging site / social media sites (Twitter)\n",
    "\n",
    "\n",
    "### Dr. Abhay Bhadani\n",
    "#### Sr. Director/Head (Data Science)\n",
    "#### Yatra Online Ltd., Gurgaon\n",
    "#### Ph.D. (IIT Delhi)\n",
    "\n"
   ]
  },
  {
   "cell_type": "markdown",
   "metadata": {},
   "source": [
    "Emotions are expressed in nuanced ways, which varies by collective or individual experiences, knowledge, and beliefs. Therefore, to understand emotion, as conveyed through text, a robust mechanism capable of capturing and modeling different linguistic nuances and phenomena is needed. Emotions reflect different users’ perspectives towards actions and events, therefore they are innately expressed in dynamic linguistic forms.\n",
    "\n",
    "\n",
    "Consider the social posts <B>“Thanks God for everything”</B> and <B>“Tnx mom for waaaaking me two hours early. Cant get asleep now”,</B> a lexicon-based model may not properly represent the emotion-relevant phrases: <I> “waaaaking me”, “Thanks God”, and “Tnx mom”. </I> First, the word “waaaaking” doesn’t exist in the English vocabulary, hence its referent may vary from its standard form, “waking”. Secondly, knowledge of the semantic similarity between the words <B>“Thanks” and “Tnx” </B> is needed to establish any relationship between the last two phrases. Even if such relationship can be established through knowledgebased techniques, it’s difficult to reliably determine the association of these phrases to a group of emotions. \n",
    "\n",
    "\n",
    "<B>Sentiment analysis is part of the Natural Language Processing (NLP).\n",
    "\n",
    "<B> It is a type of text mining which aims to determine the opinion and subjectivity of its content. \n",
    "    \n",
    "We can extract emotions related to some raw texts (e.g., reviews, comments, tweets). This is usually used on social media posts, customer reviews, customer queries, etc.  \n",
    "    \n",
    "Every customer facing industry (retail, telecom, finance, etc.) or political party or any such organizations are interested in identifying their customers’ sentiment, whether they think positive or negative, are they happy, sad, and so on about them.\n",
    "    \n",
    "Today, we shall perform a study to show how sentiment analysis can be performed using Python and how it can be deployed in production systems and host as an API."
   ]
  },
  {
   "cell_type": "markdown",
   "metadata": {},
   "source": [
    "![sen](./images/performing-twitter-sentiment-analysis1.jpg)"
   ]
  },
  {
   "cell_type": "markdown",
   "metadata": {
    "id": "NOscR54nkfDe"
   },
   "source": [
    "###  Dataset:\n",
    "\n",
    "<!-- https://www.kaggle.com/datasets/praveengovi/emotions-dataset-for-nlp -->\n",
    "\n",
    "<B>Description\n",
    "\n",
    "The data is in csv format. In computing, a comma-separated values (CSV) file stores tabular data (numbers and text) in plain text. Each line of the file is a data record. Each record consists of one or more fields, normally separated by commas. However, in this case the separator used in a semi-colon.\n",
    "\n",
    "\n",
    "Here, we will aggregate Tweets based on sentiment. The aggregation process is based on the association of tweets with the same feelings, as well as the degree and proportion of the feeling.\n",
    "\n",
    "The dataset consists of sentences that have been classified into the following categories: {'sadness', 'anger', 'love', 'surprise', 'fear', 'joy'}\n",
    "    \n",
    "    \n",
    "List of documents with emotion flag, Dataset is split into train, test & validation for building the machine learning model\n",
    "\n",
    "Example :-\n",
    "    \n",
    "    i feel like I am still looking at a blank canvas blank pieces of paper;sadness\n",
    "    \n",
    "    i cant walk into a shop anywhere where i do not feel uncomfortable;fear\n",
    "    \n",
    "    i felt anger when at the end of a telephone call;anger\n",
    "\n",
    "    i never make her separate from me because i don t ever want her to feel like i m ashamed with her;sadness\n",
    "    \n",
    "\n",
    "The methodology used is based on building a classifier using different algorithms (such as recurrent neural network) that is capable of analyzing sentiment, using a data set that includes a number of emotions.\n",
    "\n",
    "     \n",
    "    \n",
    " "
   ]
  },
  {
   "cell_type": "markdown",
   "metadata": {},
   "source": [
    "### Data Pre-Processing\n",
    "![pre](https://www.electronicsmedia.info/wp-content/uploads/2017/12/Data-Preprocessing.jpg)"
   ]
  },
  {
   "cell_type": "markdown",
   "metadata": {},
   "source": [
    "   \n",
    "<B> Approach\n",
    "    \n",
    "Text Cleaning Steps:\n",
    "    \n",
    "    1) Clean the data\n",
    "        Removing Twitter Handles (@user), Punctuations, Numbers, and Special Characters, Stop Words,\n",
    "        Removing Short Words\n",
    "    \n",
    "    2) Perform Tokenization:  \n",
    "            Tokens are individual terms or words, and tokenization is the process of splitting a string of text into tokens.\n",
    "    \n",
    "![vis](./images/tokenization.png)\n",
    "    \n",
    "    3) Stemming:\n",
    "            Stemming is a rule-based process of stripping the suffixes (“ing”, “ly”, “es”, “s” etc) from a word. For example, For example – “play”, “player”, “played”, “plays” and “playing” are the different variations of the word – “play”\n",
    "    \n",
    "![vis](./images/stemming.jpeg)\n",
    "    \n",
    "    4) Visualization the Tweets using WordCloud:\n",
    "            A wordcloud is a visualization wherein the most frequent words appear in large size and the less frequent words appear in smaller sizes.\n",
    "\n",
    "\n",
    "![vis](./images/word-cloud-sample.png)\n",
    "    \n",
    "\n",
    "The next stage involves using the trained model to sort tweets based on sentiment with a rating ratio.\n",
    "    \n"
   ]
  },
  {
   "cell_type": "markdown",
   "metadata": {},
   "source": [
    "In this partial stage, we will follow two methodologies: \n",
    "    \n",
    "    The first is to draw a graph that shows the percentage of each of the feelings of the tweeters within Twitter regarding what is happening in the state of Sri Lanka.\n",
    "    \n",
    "    The next partial stage, is to move to the study of each of these feelings for the tweeters, and try to collect them in order to determine the degree of feelings for each of them.\n",
    "    \n",
    "    The final hierarchical schemas (for each one of the feelings) will show the correlation of the tweeters in terms of the degree of affiliation with that feeling.\n",
    "    \n",
    "The Euclidean distance will be used to calculate the degree of convergence for a single feeling (depending on the percentage of tweeting classification and belonging to a specific feeling)."
   ]
  },
  {
   "cell_type": "markdown",
   "metadata": {},
   "source": [
    "### Representation of Words as Vectors\n",
    "\n",
    "There are various ways to represent words in Vector Format.\n",
    "    Bag-Of-Words\n",
    "    \n",
    "    Term Frequecy - Inverse Document Frequecy (TF-IDF)\n",
    "    \n",
    "    Word2Vec (Skip-Gram and CBOW)\n",
    "    \n",
    "    GloVe: GloVe stands for Global Vectors for word representation.\n",
    "  \n",
    "   \n",
    "    Fast-Text: FastText was introduced by Facebook back in 2016. The idea behind FastText is very similar to Word2Vec. However, there was still one thing that methods like Word2Vec and GloVe lacked. Even though both of these models have been trained on billions of words, that still means our vocabulary is limited. FastText improved over other methods because of its capability of generalization to unknown words, which had been missing all along in the other methods.\n",
    "    \n",
    "    Bidirectional Encoder Representations from Transformers (BERT): BERT is a transformer-based architecture. Transformer uses a self-attention mechanism, which is suitable for language understanding. BERT is a multi-layered encoder. \n",
    "        \n",
    "        BERT base – 12 layers, 12 attention heads, and 110 million parameters. \n",
    "        \n",
    "        BERT Large – 24 layers, 16 attention heads and, 340 million parameters.\n",
    "\n",
    "\n",
    "    \n",
    "    Sentence - Encoders\n",
    "\n",
    "\n",
    "<B>Vectorization</B> is jargon for a classic approach of converting input data from its raw format (i.e. text ) into vectors of real numbers which is the format that ML models support. This approach has been there ever since computers were first built, it has worked wonderfully across various domains, and it’s now used in NLP.\n",
    "\n",
    "\n",
    "Download a pretrained vector representation of the words. \n",
    "These pre-trained vectors have been trained using GloVe embedding technique."
   ]
  },
  {
   "cell_type": "markdown",
   "metadata": {},
   "source": [
    "![viz](./images/GloVe_Representation.png)"
   ]
  },
  {
   "cell_type": "code",
   "execution_count": 1,
   "metadata": {},
   "outputs": [
    {
     "name": "stdout",
     "output_type": "stream",
     "text": [
      "/home/abhay/experiments/Tutorials/src\r\n"
     ]
    }
   ],
   "source": [
    "!pwd"
   ]
  },
  {
   "cell_type": "code",
   "execution_count": 2,
   "metadata": {
    "colab": {
     "base_uri": "https://localhost:8080/"
    },
    "id": "fdMrm2WGRhIz",
    "outputId": "40f2ca23-9f60-4ea5-976b-058165662f9b"
   },
   "outputs": [],
   "source": [
    "#!wget https://nlp.stanford.edu/data/glove.6B.zip"
   ]
  },
  {
   "cell_type": "code",
   "execution_count": 3,
   "metadata": {
    "colab": {
     "base_uri": "https://localhost:8080/"
    },
    "id": "cOdFRHWtS8qj",
    "outputId": "f59ef44d-fb7d-46b4-f1de-961df8fcbe24"
   },
   "outputs": [],
   "source": [
    "#!unzip glove.6B.zip"
   ]
  },
  {
   "cell_type": "code",
   "execution_count": 4,
   "metadata": {
    "id": "UouennyQlWL5"
   },
   "outputs": [],
   "source": [
    "# import opendatasets as op"
   ]
  },
  {
   "cell_type": "code",
   "execution_count": 5,
   "metadata": {
    "id": "_zTWC3B7q4hc"
   },
   "outputs": [],
   "source": [
    "# dataset_emotion = \"emotions-dataset-for-nlp\""
   ]
  },
  {
   "cell_type": "markdown",
   "metadata": {
    "id": "8lJZaw7rmLVq"
   },
   "source": [
    "#### Install and import relevant python Packages:"
   ]
  },
  {
   "cell_type": "code",
   "execution_count": 6,
   "metadata": {},
   "outputs": [],
   "source": [
    "# !pip install sklearn seaborn matplotlib tensorflow keras nltk flask requests "
   ]
  },
  {
   "cell_type": "code",
   "execution_count": 7,
   "metadata": {
    "id": "fXlUC8nS2Jhk"
   },
   "outputs": [
    {
     "name": "stderr",
     "output_type": "stream",
     "text": [
      "2022-09-06 14:19:42.223807: W tensorflow/stream_executor/platform/default/dso_loader.cc:64] Could not load dynamic library 'libcudart.so.11.0'; dlerror: libcudart.so.11.0: cannot open shared object file: No such file or directory\n",
      "2022-09-06 14:19:42.223836: I tensorflow/stream_executor/cuda/cudart_stub.cc:29] Ignore above cudart dlerror if you do not have a GPU set up on your machine.\n"
     ]
    }
   ],
   "source": [
    "import pandas as pd\n",
    "import os\n",
    "import numpy as np\n",
    "import tensorflow as tf\n",
    "import keras\n",
    "import nltk\n",
    "import string\n",
    "from tensorflow.keras.preprocessing.text import Tokenizer\n",
    "from tensorflow.keras.preprocessing.sequence import pad_sequences\n",
    "from tensorflow.keras.layers import Input, Embedding, LSTM ,Conv2D, Dense,GlobalAveragePooling1D,Flatten, Dropout , GRU, TimeDistributed, Conv1D, MaxPool1D, MaxPool2D\n",
    "from tensorflow.keras.models import Sequential\n",
    "import matplotlib.pyplot as plt\n",
    "from sklearn.preprocessing import LabelEncoder\n",
    "from tensorflow.keras.utils import to_categorical\n",
    "from sklearn.model_selection import train_test_split\n",
    "from keras.callbacks import EarlyStopping\n",
    "import matplotlib as mpl"
   ]
  },
  {
   "cell_type": "markdown",
   "metadata": {
    "id": "Ti78Jl77mOSQ"
   },
   "source": [
    "### First Step:\n",
    "\n",
    "Building a classifier model  capable of analyzing emotions, using a dataset that includes a number of emotions.\n",
    "\n",
    "Refer https://colah.github.io/posts/2015-08-Understanding-LSTMs/   for a detailed explanation of LSTM and RNN\n",
    "\n",
    "### RNN (Recurrent Neural Network)\n",
    "\n",
    "\n",
    "Humans don’t start their thinking from scratch every second. As you read this essay, you understand each word based on your understanding of previous words. You don’t throw everything away and start thinking from scratch again. Your thoughts have persistence.\n",
    "\n",
    "Traditional neural networks can’t do this, and it seems like a major shortcoming. For example, imagine you want to classify what kind of event is happening at every point in a movie. It’s unclear how a traditional neural network could use its reasoning about previous events in the film to inform later ones.\n",
    "\n",
    "Recurrent neural networks address this issue. They are networks with loops in them, allowing information to persist.\n",
    "\n",
    "![viz](./images/RNN-unrolled.png)\n",
    "        <B>An unrolled recurrent neural network. </B>\n",
    "\n",
    "\n",
    "Advantages and Shortcomings Of RNNs\n",
    "\n",
    "RNNs have various advantages such as:\n",
    "\n",
    "    Ability to handle sequence data.\n",
    "    Ability to handle inputs of varying lengths.\n",
    "    Ability to store or ‘memorize’ historical information.\n",
    "\n",
    "The disadvantages are:\n",
    "\n",
    "    The computation can be very slow.\n",
    "    The network does not take into account future inputs to make decisions.\n",
    "    Vanishing gradient problem, where the gradients used to compute the weight update may get very close to zero preventing the network from learning new weights. The deeper the network, the more pronounced is this problem.\n",
    "\n",
    "![viz](./images/LSTM2-notation.png)\n",
    " \n",
    " \n",
    "![viz](./images/LSTM3-SimpleRNN.png)\n",
    "    <B>The repeating module in a standard RNN contains a single layer. </B>\n",
    "\n",
    "\n"
   ]
  },
  {
   "cell_type": "code",
   "execution_count": 8,
   "metadata": {
    "colab": {
     "base_uri": "https://localhost:8080/"
    },
    "id": "QTldoyaQ5-xc",
    "outputId": "0ce16bb5-0522-4d30-fc08-4b929b1df4ce"
   },
   "outputs": [
    {
     "name": "stderr",
     "output_type": "stream",
     "text": [
      "[nltk_data] Downloading package stopwords to /home/abhay/nltk_data...\n",
      "[nltk_data]   Package stopwords is already up-to-date!\n"
     ]
    }
   ],
   "source": [
    "from nltk.stem.porter import PorterStemmer\n",
    "from nltk.corpus import stopwords\n",
    "nltk.download('stopwords')\n",
    "porter = PorterStemmer()\n",
    "stop_words = stopwords.words('english')"
   ]
  },
  {
   "cell_type": "code",
   "execution_count": 9,
   "metadata": {
    "id": "-hCaKP731THK"
   },
   "outputs": [],
   "source": [
    "class Emotion:\n",
    "  def __init__(self, datasetFolder, batch_size, validation_split, optimizer, loss, epochs):\n",
    "    self.datasetFolder = datasetFolder\n",
    "    self.batch_size = batch_size\n",
    "    self.validation_split = validation_split\n",
    "    self.optimizer = optimizer\n",
    "    self.loss = loss\n",
    "    self.epochs = epochs\n",
    "  def readDatasetCSV(self):\n",
    "    trainDataset = pd.read_csv(os.path.join(self.datasetFolder, \"data/train.txt\"), names=['Text', 'Emotion'], sep=';')\n",
    "    testDataset = pd.read_csv(os.path.join(self.datasetFolder, \"data/test.txt\"), names=['Text', 'Emotion'], sep=';')\n",
    "    validDataset = pd.read_csv(os.path.join(self.datasetFolder, \"data/val.txt\"), names=['Text', 'Emotion'], sep=';')\n",
    "    list_dataset = [trainDataset, testDataset, validDataset]\n",
    "    self.dataset = pd.concat(list_dataset)\n",
    "  def FeaturesLables(self):\n",
    "    self.features = self.dataset['Text']\n",
    "    self.labels = self.dataset['Emotion']  \n",
    "  def splitDataset(self):\n",
    "    self.X_train, self.X_test, self.Y_train, self.Y_test = train_test_split(self.features,\n",
    "                                                                            self.labels, \n",
    "                                                                            test_size = self.validation_split)\n",
    "  def CleanFeatures(self):\n",
    "    self.features = self.features.apply(lambda sequence:\n",
    "                                              [ltrs.lower() for ltrs in sequence if ltrs not in string.punctuation])\n",
    "    self.features = self.features.apply(lambda wrd: ''.join(wrd))\n",
    "  def tokenizerDataset(self):\n",
    "    self.tokenizer = Tokenizer(num_words=5000)\n",
    "    self.tokenizer.fit_on_texts(self.features)\n",
    "    train = self.tokenizer.texts_to_sequences(self.features)\n",
    "    self.features = pad_sequences(train)\n",
    "    le = LabelEncoder()\n",
    "    self.labels = le.fit_transform(self.labels)\n",
    "    self.vocabulary = len(self.tokenizer.word_index)\n",
    "  def label_categorical(self):\n",
    "    self.labels = to_categorical(self.labels, 6)\n",
    "  def glove_word_embedding(self, file_name):\n",
    "    self.embeddings_index = {}\n",
    "    file_ = open(file_name)\n",
    "    for line in file_:\n",
    "        arr = line.split()\n",
    "        single_word = arr[0]\n",
    "        w = np.asarray(arr[1:],dtype='float32')\n",
    "        self.embeddings_index[single_word] = w\n",
    "    file_.close()\n",
    "    max_words = self.vocabulary + 1\n",
    "    word_index = self.tokenizer.word_index\n",
    "    self.embedding_matrix = np.zeros((max_words,300)).astype(object)\n",
    "    for word , i in word_index.items():\n",
    "            embedding_vector = self.embeddings_index.get(word)\n",
    "            if embedding_vector is not None:\n",
    "                self.embedding_matrix[i] = embedding_vector  \n",
    "  def model(self):\n",
    "    m = Sequential()\n",
    "    m.add(Input(shape=(self.features.shape[1], )))\n",
    "    m.add(Embedding(self.vocabulary + 1,300))\n",
    "    m.add(GRU(128, recurrent_dropout=0.3, return_sequences=False, activity_regularizer = tf.keras.regularizers.L2(0.0001)))\n",
    "    m.add(Dense(6, activation=\"softmax\", activity_regularizer = tf.keras.regularizers.L2(0.0001)))\n",
    "    self.m = m\n",
    "  def compiler(self):\n",
    "    self.m.compile(loss= self.loss,optimizer=self.optimizer,metrics=['accuracy'])\n",
    "  def fit(self):\n",
    "    earlyStopping = EarlyStopping(monitor = 'loss', patience = 20, mode = 'min', restore_best_weights = True)\n",
    "    self.history_training = self.m.fit(self.X_train, self.Y_train, epochs= self.epochs,batch_size = self.batch_size,\n",
    "                                       callbacks=[ earlyStopping])   \n",
    "    \n",
    "  def save_model(self, model_file='./models/model.json'):\n",
    "    # serialize model to JSON\n",
    "    model_json = self.m.to_json()\n",
    "    with open(model_file, \"w\") as json_file:\n",
    "        json_file.write(model_json)\n",
    "    # serialize weights to HDF5\n",
    "        self.m.save_weights(model_file+\".h5\")\n",
    "    print(\"Saved model to disk\")"
   ]
  },
  {
   "cell_type": "code",
   "execution_count": null,
   "metadata": {},
   "outputs": [],
   "source": []
  },
  {
   "cell_type": "code",
   "execution_count": 10,
   "metadata": {},
   "outputs": [],
   "source": [
    "epochs = 100\n"
   ]
  },
  {
   "cell_type": "code",
   "execution_count": 11,
   "metadata": {
    "id": "7lx7E5vh4JJj"
   },
   "outputs": [],
   "source": [
    "dataset_emotion = \".\"\n",
    "emotion = Emotion(dataset_emotion, 256, 0.1, 'adam', 'categorical_crossentropy', epochs)"
   ]
  },
  {
   "cell_type": "code",
   "execution_count": 12,
   "metadata": {
    "id": "VbeS33eK4ZGo"
   },
   "outputs": [],
   "source": [
    "emotion.readDatasetCSV()"
   ]
  },
  {
   "cell_type": "code",
   "execution_count": 13,
   "metadata": {
    "colab": {
     "base_uri": "https://localhost:8080/",
     "height": 206
    },
    "id": "6LOwhoJd5G_y",
    "outputId": "f6e585c5-b1c4-4eae-c762-0801ddd422ef"
   },
   "outputs": [
    {
     "data": {
      "text/html": [
       "<div>\n",
       "<style scoped>\n",
       "    .dataframe tbody tr th:only-of-type {\n",
       "        vertical-align: middle;\n",
       "    }\n",
       "\n",
       "    .dataframe tbody tr th {\n",
       "        vertical-align: top;\n",
       "    }\n",
       "\n",
       "    .dataframe thead th {\n",
       "        text-align: right;\n",
       "    }\n",
       "</style>\n",
       "<table border=\"1\" class=\"dataframe\">\n",
       "  <thead>\n",
       "    <tr style=\"text-align: right;\">\n",
       "      <th></th>\n",
       "      <th>Text</th>\n",
       "      <th>Emotion</th>\n",
       "    </tr>\n",
       "  </thead>\n",
       "  <tbody>\n",
       "    <tr>\n",
       "      <th>0</th>\n",
       "      <td>i didnt feel humiliated</td>\n",
       "      <td>sadness</td>\n",
       "    </tr>\n",
       "    <tr>\n",
       "      <th>1</th>\n",
       "      <td>i can go from feeling so hopeless to so damned...</td>\n",
       "      <td>sadness</td>\n",
       "    </tr>\n",
       "    <tr>\n",
       "      <th>2</th>\n",
       "      <td>im grabbing a minute to post i feel greedy wrong</td>\n",
       "      <td>anger</td>\n",
       "    </tr>\n",
       "    <tr>\n",
       "      <th>3</th>\n",
       "      <td>i am ever feeling nostalgic about the fireplac...</td>\n",
       "      <td>love</td>\n",
       "    </tr>\n",
       "    <tr>\n",
       "      <th>4</th>\n",
       "      <td>i am feeling grouchy</td>\n",
       "      <td>anger</td>\n",
       "    </tr>\n",
       "  </tbody>\n",
       "</table>\n",
       "</div>"
      ],
      "text/plain": [
       "                                                Text  Emotion\n",
       "0                            i didnt feel humiliated  sadness\n",
       "1  i can go from feeling so hopeless to so damned...  sadness\n",
       "2   im grabbing a minute to post i feel greedy wrong    anger\n",
       "3  i am ever feeling nostalgic about the fireplac...     love\n",
       "4                               i am feeling grouchy    anger"
      ]
     },
     "execution_count": 13,
     "metadata": {},
     "output_type": "execute_result"
    }
   ],
   "source": [
    "emotion.dataset.head()"
   ]
  },
  {
   "cell_type": "code",
   "execution_count": 14,
   "metadata": {
    "id": "eiXNZHgv68U5"
   },
   "outputs": [],
   "source": [
    "emotion.FeaturesLables()"
   ]
  },
  {
   "cell_type": "code",
   "execution_count": 15,
   "metadata": {
    "id": "Vwzhdol861C8"
   },
   "outputs": [],
   "source": [
    "emotion.CleanFeatures()"
   ]
  },
  {
   "cell_type": "code",
   "execution_count": 16,
   "metadata": {
    "colab": {
     "base_uri": "https://localhost:8080/"
    },
    "id": "8W8kXcdj7D3V",
    "outputId": "a4a64f5b-bf51-4f67-c950-e1277ec4c420"
   },
   "outputs": [
    {
     "data": {
      "text/plain": [
       "0                              i didnt feel humiliated\n",
       "1    i can go from feeling so hopeless to so damned...\n",
       "2     im grabbing a minute to post i feel greedy wrong\n",
       "3    i am ever feeling nostalgic about the fireplac...\n",
       "4                                 i am feeling grouchy\n",
       "Name: Text, dtype: object"
      ]
     },
     "execution_count": 16,
     "metadata": {},
     "output_type": "execute_result"
    }
   ],
   "source": [
    "emotion.features.head()"
   ]
  },
  {
   "cell_type": "code",
   "execution_count": 17,
   "metadata": {
    "colab": {
     "base_uri": "https://localhost:8080/"
    },
    "id": "jboiwLYR-BH5",
    "outputId": "d5af60f6-2b8d-44b5-f1f7-14c996b54fbe"
   },
   "outputs": [
    {
     "data": {
      "text/plain": [
       "array(['sadness', 'anger', 'love', 'surprise', 'fear', 'joy'],\n",
       "      dtype=object)"
      ]
     },
     "execution_count": 17,
     "metadata": {},
     "output_type": "execute_result"
    }
   ],
   "source": [
    "emotion.labels.unique()"
   ]
  },
  {
   "cell_type": "code",
   "execution_count": 18,
   "metadata": {
    "id": "YjnxHLx27LzC"
   },
   "outputs": [],
   "source": [
    "emotion.tokenizerDataset()"
   ]
  },
  {
   "cell_type": "code",
   "execution_count": 19,
   "metadata": {
    "colab": {
     "base_uri": "https://localhost:8080/"
    },
    "id": "QadS6V1r7Nzy",
    "outputId": "3d925112-0091-4f8a-8fe5-82dbcf05c66b"
   },
   "outputs": [
    {
     "data": {
      "text/plain": [
       "array([[   0,    0,    0, ...,  138,    2,  625],\n",
       "       [   0,    0,    0, ...,    3,   21, 1383],\n",
       "       [   0,    0,    0, ...,    2,  495,  420],\n",
       "       ...,\n",
       "       [   0,    0,    0, ...,    5,  215,  191],\n",
       "       [   0,    0,    0, ...,   30,   57, 2181],\n",
       "       [   0,    0,    0, ...,   75,    5,   70]], dtype=int32)"
      ]
     },
     "execution_count": 19,
     "metadata": {},
     "output_type": "execute_result"
    }
   ],
   "source": [
    "emotion.features"
   ]
  },
  {
   "cell_type": "code",
   "execution_count": 20,
   "metadata": {
    "colab": {
     "base_uri": "https://localhost:8080/"
    },
    "id": "Fkl08uAy7Svb",
    "outputId": "dbf4de3f-076c-4d82-a5be-cd703ddd2a15"
   },
   "outputs": [
    {
     "data": {
      "text/plain": [
       "array([4, 4, 0, ..., 2, 2, 2])"
      ]
     },
     "execution_count": 20,
     "metadata": {},
     "output_type": "execute_result"
    }
   ],
   "source": [
    "emotion.labels"
   ]
  },
  {
   "cell_type": "code",
   "execution_count": 21,
   "metadata": {
    "colab": {
     "base_uri": "https://localhost:8080/"
    },
    "id": "hNC3L4Ww7VGh",
    "outputId": "a98b7a8e-fb4c-4026-b277-9e732e426fd8"
   },
   "outputs": [
    {
     "data": {
      "text/plain": [
       "(20000, 63)"
      ]
     },
     "execution_count": 21,
     "metadata": {},
     "output_type": "execute_result"
    }
   ],
   "source": [
    "emotion.features.shape"
   ]
  },
  {
   "cell_type": "code",
   "execution_count": 22,
   "metadata": {
    "colab": {
     "base_uri": "https://localhost:8080/"
    },
    "id": "MTYzKXMq7pWE",
    "outputId": "689e81db-a764-4a00-f6fc-25a7d9611a94"
   },
   "outputs": [
    {
     "data": {
      "text/plain": [
       "(20000, 63)"
      ]
     },
     "execution_count": 22,
     "metadata": {},
     "output_type": "execute_result"
    }
   ],
   "source": [
    "emotion.features.shape"
   ]
  },
  {
   "cell_type": "code",
   "execution_count": 23,
   "metadata": {
    "id": "x6ZH_xy5-v8D"
   },
   "outputs": [],
   "source": [
    "emotion.label_categorical()"
   ]
  },
  {
   "cell_type": "code",
   "execution_count": 24,
   "metadata": {
    "colab": {
     "base_uri": "https://localhost:8080/"
    },
    "id": "mL6csMqQ_H56",
    "outputId": "d0aca25f-3e98-4afa-e472-df13618c47f6"
   },
   "outputs": [
    {
     "data": {
      "text/plain": [
       "array([[0., 0., 0., 0., 1., 0.],\n",
       "       [0., 0., 0., 0., 1., 0.],\n",
       "       [1., 0., 0., 0., 0., 0.],\n",
       "       ...,\n",
       "       [0., 0., 1., 0., 0., 0.],\n",
       "       [0., 0., 1., 0., 0., 0.],\n",
       "       [0., 0., 1., 0., 0., 0.]], dtype=float32)"
      ]
     },
     "execution_count": 24,
     "metadata": {},
     "output_type": "execute_result"
    }
   ],
   "source": [
    "emotion.labels"
   ]
  },
  {
   "cell_type": "code",
   "execution_count": 25,
   "metadata": {
    "id": "FGG0v5kgzhJ3"
   },
   "outputs": [],
   "source": [
    "emotion.splitDataset()"
   ]
  },
  {
   "cell_type": "code",
   "execution_count": 26,
   "metadata": {
    "id": "ZYo7knqATXgE"
   },
   "outputs": [],
   "source": [
    "emotion.glove_word_embedding(\"./pre-trained-embeddings/glove.6B.300d.txt\")"
   ]
  },
  {
   "cell_type": "code",
   "execution_count": 27,
   "metadata": {
    "colab": {
     "base_uri": "https://localhost:8080/"
    },
    "id": "ooT0Ia3Lror9",
    "outputId": "0a2ce248-e0ec-4a5e-b975-c61bd092c948"
   },
   "outputs": [
    {
     "name": "stderr",
     "output_type": "stream",
     "text": [
      "2022-09-06 14:20:09.220150: W tensorflow/stream_executor/platform/default/dso_loader.cc:64] Could not load dynamic library 'libcuda.so.1'; dlerror: libcuda.so.1: cannot open shared object file: No such file or directory\n",
      "2022-09-06 14:20:09.220182: W tensorflow/stream_executor/cuda/cuda_driver.cc:269] failed call to cuInit: UNKNOWN ERROR (303)\n",
      "2022-09-06 14:20:09.220212: I tensorflow/stream_executor/cuda/cuda_diagnostics.cc:156] kernel driver does not appear to be running on this host (abhay-Latitude-E5570): /proc/driver/nvidia/version does not exist\n",
      "2022-09-06 14:20:09.220743: I tensorflow/core/platform/cpu_feature_guard.cc:193] This TensorFlow binary is optimized with oneAPI Deep Neural Network Library (oneDNN) to use the following CPU instructions in performance-critical operations:  AVX2 FMA\n",
      "To enable them in other operations, rebuild TensorFlow with the appropriate compiler flags.\n"
     ]
    }
   ],
   "source": [
    "emotion.model()\n",
    "emotion.m.layers[0].set_weights([emotion.embedding_matrix])\n",
    "emotion.m.layers[0].trainable = False"
   ]
  },
  {
   "cell_type": "code",
   "execution_count": 28,
   "metadata": {
    "id": "l0GVniwDTfOi"
   },
   "outputs": [],
   "source": [
    "emotion.compiler()"
   ]
  },
  {
   "cell_type": "code",
   "execution_count": 29,
   "metadata": {
    "colab": {
     "base_uri": "https://localhost:8080/"
    },
    "id": "IktgYRNWBdd6",
    "outputId": "7d0e0696-1bb5-4cf5-8a51-19d0e2390529"
   },
   "outputs": [
    {
     "name": "stdout",
     "output_type": "stream",
     "text": [
      "Model: \"sequential\"\n",
      "_________________________________________________________________\n",
      " Layer (type)                Output Shape              Param #   \n",
      "=================================================================\n",
      " embedding (Embedding)       (None, 63, 300)           5129100   \n",
      "                                                                 \n",
      " gru (GRU)                   (None, 128)               165120    \n",
      "                                                                 \n",
      " dense (Dense)               (None, 6)                 774       \n",
      "                                                                 \n",
      "=================================================================\n",
      "Total params: 5,294,994\n",
      "Trainable params: 165,894\n",
      "Non-trainable params: 5,129,100\n",
      "_________________________________________________________________\n"
     ]
    }
   ],
   "source": [
    "emotion.m.summary()"
   ]
  },
  {
   "cell_type": "code",
   "execution_count": 30,
   "metadata": {
    "colab": {
     "base_uri": "https://localhost:8080/"
    },
    "id": "PHpg5OqJBpqQ",
    "outputId": "e1355567-ebb8-4fe2-9d27-8b63787981bb"
   },
   "outputs": [
    {
     "name": "stdout",
     "output_type": "stream",
     "text": [
      "Epoch 1/100\n",
      "71/71 [==============================] - 16s 197ms/step - loss: 1.3546 - accuracy: 0.4977\n",
      "Epoch 2/100\n",
      "71/71 [==============================] - 14s 198ms/step - loss: 0.7668 - accuracy: 0.7354\n",
      "Epoch 3/100\n",
      "71/71 [==============================] - 14s 195ms/step - loss: 0.4180 - accuracy: 0.8557\n",
      "Epoch 4/100\n",
      "71/71 [==============================] - 14s 197ms/step - loss: 0.2851 - accuracy: 0.8987\n",
      "Epoch 5/100\n",
      "71/71 [==============================] - 14s 197ms/step - loss: 0.2196 - accuracy: 0.9166\n",
      "Epoch 6/100\n",
      "71/71 [==============================] - 14s 198ms/step - loss: 0.1768 - accuracy: 0.9288\n",
      "Epoch 7/100\n",
      "71/71 [==============================] - 14s 198ms/step - loss: 0.1527 - accuracy: 0.9385\n",
      "Epoch 8/100\n",
      "71/71 [==============================] - 14s 198ms/step - loss: 0.1346 - accuracy: 0.9441\n",
      "Epoch 9/100\n",
      "71/71 [==============================] - 14s 201ms/step - loss: 0.1198 - accuracy: 0.9506\n",
      "Epoch 10/100\n",
      "71/71 [==============================] - 15s 209ms/step - loss: 0.1105 - accuracy: 0.9544\n",
      "Epoch 11/100\n",
      "71/71 [==============================] - 14s 198ms/step - loss: 0.1027 - accuracy: 0.9566\n",
      "Epoch 12/100\n",
      "71/71 [==============================] - 16s 226ms/step - loss: 0.0946 - accuracy: 0.9609\n",
      "Epoch 13/100\n",
      "71/71 [==============================] - 14s 199ms/step - loss: 0.0906 - accuracy: 0.9616\n",
      "Epoch 14/100\n",
      "71/71 [==============================] - 14s 195ms/step - loss: 0.0823 - accuracy: 0.9662\n",
      "Epoch 15/100\n",
      "71/71 [==============================] - 14s 195ms/step - loss: 0.0783 - accuracy: 0.9689\n",
      "Epoch 16/100\n",
      "71/71 [==============================] - 14s 194ms/step - loss: 0.0719 - accuracy: 0.9718\n",
      "Epoch 17/100\n",
      "71/71 [==============================] - 14s 194ms/step - loss: 0.0685 - accuracy: 0.9726\n",
      "Epoch 18/100\n",
      "71/71 [==============================] - 14s 195ms/step - loss: 0.0650 - accuracy: 0.9746\n",
      "Epoch 19/100\n",
      "71/71 [==============================] - 14s 198ms/step - loss: 0.0607 - accuracy: 0.9758\n",
      "Epoch 20/100\n",
      "71/71 [==============================] - 14s 198ms/step - loss: 0.0572 - accuracy: 0.9779\n",
      "Epoch 21/100\n",
      "71/71 [==============================] - 14s 198ms/step - loss: 0.0550 - accuracy: 0.9795\n",
      "Epoch 22/100\n",
      "71/71 [==============================] - 14s 198ms/step - loss: 0.0506 - accuracy: 0.9832\n",
      "Epoch 23/100\n",
      "71/71 [==============================] - 14s 200ms/step - loss: 0.0480 - accuracy: 0.9831\n",
      "Epoch 24/100\n",
      "71/71 [==============================] - 14s 196ms/step - loss: 0.0435 - accuracy: 0.9857\n",
      "Epoch 25/100\n",
      "71/71 [==============================] - 14s 198ms/step - loss: 0.0407 - accuracy: 0.9868\n",
      "Epoch 26/100\n",
      "71/71 [==============================] - 14s 197ms/step - loss: 0.0403 - accuracy: 0.9865\n",
      "Epoch 27/100\n",
      "71/71 [==============================] - 14s 197ms/step - loss: 0.0410 - accuracy: 0.9859\n",
      "Epoch 28/100\n",
      "71/71 [==============================] - 14s 197ms/step - loss: 0.0370 - accuracy: 0.9878\n",
      "Epoch 29/100\n",
      "71/71 [==============================] - 14s 199ms/step - loss: 0.0347 - accuracy: 0.9896\n",
      "Epoch 30/100\n",
      "71/71 [==============================] - 14s 199ms/step - loss: 0.0331 - accuracy: 0.9898\n",
      "Epoch 31/100\n",
      "71/71 [==============================] - 14s 200ms/step - loss: 0.0316 - accuracy: 0.9903\n",
      "Epoch 32/100\n",
      "71/71 [==============================] - 14s 196ms/step - loss: 0.0304 - accuracy: 0.9915\n",
      "Epoch 33/100\n",
      "71/71 [==============================] - 14s 198ms/step - loss: 0.0295 - accuracy: 0.9915\n",
      "Epoch 34/100\n",
      "71/71 [==============================] - 14s 198ms/step - loss: 0.0277 - accuracy: 0.9920\n",
      "Epoch 35/100\n",
      "71/71 [==============================] - 14s 199ms/step - loss: 0.0263 - accuracy: 0.9919\n",
      "Epoch 36/100\n",
      "71/71 [==============================] - 14s 197ms/step - loss: 0.0266 - accuracy: 0.9925\n",
      "Epoch 37/100\n",
      "71/71 [==============================] - 14s 197ms/step - loss: 0.0265 - accuracy: 0.9932\n",
      "Epoch 38/100\n",
      "71/71 [==============================] - 14s 198ms/step - loss: 0.0252 - accuracy: 0.9932\n",
      "Epoch 39/100\n",
      "71/71 [==============================] - 14s 197ms/step - loss: 0.0236 - accuracy: 0.9932\n",
      "Epoch 40/100\n",
      "71/71 [==============================] - 14s 199ms/step - loss: 0.0263 - accuracy: 0.9929\n",
      "Epoch 41/100\n",
      "71/71 [==============================] - 14s 198ms/step - loss: 0.0231 - accuracy: 0.9942\n",
      "Epoch 42/100\n",
      "71/71 [==============================] - 14s 198ms/step - loss: 0.0214 - accuracy: 0.9946\n",
      "Epoch 43/100\n",
      "71/71 [==============================] - 14s 197ms/step - loss: 0.0200 - accuracy: 0.9952\n",
      "Epoch 44/100\n",
      "71/71 [==============================] - 14s 198ms/step - loss: 0.0206 - accuracy: 0.9949\n",
      "Epoch 45/100\n",
      "71/71 [==============================] - 14s 198ms/step - loss: 0.0226 - accuracy: 0.9938\n",
      "Epoch 46/100\n",
      "71/71 [==============================] - 14s 199ms/step - loss: 0.0241 - accuracy: 0.9934\n",
      "Epoch 47/100\n",
      "71/71 [==============================] - 14s 197ms/step - loss: 0.0208 - accuracy: 0.9945\n",
      "Epoch 48/100\n",
      "71/71 [==============================] - 14s 199ms/step - loss: 0.0203 - accuracy: 0.9944\n",
      "Epoch 49/100\n",
      "71/71 [==============================] - 14s 197ms/step - loss: 0.0177 - accuracy: 0.9958\n",
      "Epoch 50/100\n",
      "71/71 [==============================] - 14s 200ms/step - loss: 0.0189 - accuracy: 0.9952\n",
      "Epoch 51/100\n",
      "71/71 [==============================] - 14s 204ms/step - loss: 0.0184 - accuracy: 0.9957\n",
      "Epoch 52/100\n",
      "71/71 [==============================] - 15s 206ms/step - loss: 0.0183 - accuracy: 0.9950\n",
      "Epoch 53/100\n",
      "71/71 [==============================] - 16s 219ms/step - loss: 0.0168 - accuracy: 0.9955\n",
      "Epoch 54/100\n",
      "71/71 [==============================] - 14s 202ms/step - loss: 0.0169 - accuracy: 0.9960\n",
      "Epoch 55/100\n",
      "71/71 [==============================] - 17s 247ms/step - loss: 0.0161 - accuracy: 0.9956\n",
      "Epoch 56/100\n",
      "71/71 [==============================] - 23s 327ms/step - loss: 0.0164 - accuracy: 0.9957\n",
      "Epoch 57/100\n",
      "71/71 [==============================] - 17s 241ms/step - loss: 0.0159 - accuracy: 0.9958\n",
      "Epoch 58/100\n",
      "71/71 [==============================] - 17s 239ms/step - loss: 0.0164 - accuracy: 0.9956\n",
      "Epoch 59/100\n",
      "71/71 [==============================] - 18s 251ms/step - loss: 0.0155 - accuracy: 0.9962\n",
      "Epoch 60/100\n",
      "71/71 [==============================] - 15s 216ms/step - loss: 0.0158 - accuracy: 0.9959\n",
      "Epoch 61/100\n",
      "71/71 [==============================] - 18s 249ms/step - loss: 0.0149 - accuracy: 0.9962\n",
      "Epoch 62/100\n",
      "71/71 [==============================] - 17s 241ms/step - loss: 0.0163 - accuracy: 0.9954\n",
      "Epoch 63/100\n",
      "71/71 [==============================] - 16s 223ms/step - loss: 0.0163 - accuracy: 0.9959\n",
      "Epoch 64/100\n",
      "71/71 [==============================] - 15s 217ms/step - loss: 0.0143 - accuracy: 0.9961\n",
      "Epoch 65/100\n",
      "71/71 [==============================] - 14s 201ms/step - loss: 0.0144 - accuracy: 0.9964\n",
      "Epoch 66/100\n",
      "71/71 [==============================] - 16s 219ms/step - loss: 0.0148 - accuracy: 0.9961\n",
      "Epoch 67/100\n",
      "71/71 [==============================] - 15s 208ms/step - loss: 0.0166 - accuracy: 0.9957\n",
      "Epoch 68/100\n",
      "71/71 [==============================] - 17s 233ms/step - loss: 0.0157 - accuracy: 0.9958\n",
      "Epoch 69/100\n",
      "71/71 [==============================] - 16s 220ms/step - loss: 0.0140 - accuracy: 0.9963\n",
      "Epoch 70/100\n",
      "71/71 [==============================] - 16s 219ms/step - loss: 0.0158 - accuracy: 0.9959\n",
      "Epoch 71/100\n",
      "71/71 [==============================] - 18s 251ms/step - loss: 0.0152 - accuracy: 0.9961\n",
      "Epoch 72/100\n",
      "71/71 [==============================] - 16s 221ms/step - loss: 0.0150 - accuracy: 0.9954\n",
      "Epoch 73/100\n",
      "71/71 [==============================] - 17s 234ms/step - loss: 0.0156 - accuracy: 0.9959\n",
      "Epoch 74/100\n",
      "71/71 [==============================] - 17s 238ms/step - loss: 0.0149 - accuracy: 0.9961\n",
      "Epoch 75/100\n",
      "71/71 [==============================] - 15s 211ms/step - loss: 0.0136 - accuracy: 0.9961\n",
      "Epoch 76/100\n",
      "71/71 [==============================] - 15s 211ms/step - loss: 0.0141 - accuracy: 0.9964\n",
      "Epoch 77/100\n",
      "71/71 [==============================] - 15s 209ms/step - loss: 0.0145 - accuracy: 0.9958\n",
      "Epoch 78/100\n",
      "71/71 [==============================] - 15s 218ms/step - loss: 0.0127 - accuracy: 0.9969\n",
      "Epoch 79/100\n",
      "71/71 [==============================] - 16s 233ms/step - loss: 0.0129 - accuracy: 0.9969\n",
      "Epoch 80/100\n"
     ]
    },
    {
     "name": "stdout",
     "output_type": "stream",
     "text": [
      "71/71 [==============================] - 18s 259ms/step - loss: 0.0132 - accuracy: 0.9964\n",
      "Epoch 81/100\n",
      "71/71 [==============================] - 16s 219ms/step - loss: 0.0125 - accuracy: 0.9964\n",
      "Epoch 82/100\n",
      "71/71 [==============================] - 17s 241ms/step - loss: 0.0135 - accuracy: 0.9965\n",
      "Epoch 83/100\n",
      "71/71 [==============================] - 16s 229ms/step - loss: 0.0133 - accuracy: 0.9963\n",
      "Epoch 84/100\n",
      "71/71 [==============================] - 17s 240ms/step - loss: 0.0133 - accuracy: 0.9964\n",
      "Epoch 85/100\n",
      "71/71 [==============================] - 16s 221ms/step - loss: 0.0131 - accuracy: 0.9966\n",
      "Epoch 86/100\n",
      "71/71 [==============================] - 15s 204ms/step - loss: 0.0118 - accuracy: 0.9967\n",
      "Epoch 87/100\n",
      "71/71 [==============================] - 14s 196ms/step - loss: 0.0121 - accuracy: 0.9968\n",
      "Epoch 88/100\n",
      "71/71 [==============================] - 13s 190ms/step - loss: 0.0128 - accuracy: 0.9962\n",
      "Epoch 89/100\n",
      "71/71 [==============================] - 14s 193ms/step - loss: 0.0133 - accuracy: 0.9962\n",
      "Epoch 90/100\n",
      "71/71 [==============================] - 14s 198ms/step - loss: 0.0119 - accuracy: 0.9967\n",
      "Epoch 91/100\n",
      "71/71 [==============================] - 13s 189ms/step - loss: 0.0123 - accuracy: 0.9964\n",
      "Epoch 92/100\n",
      "71/71 [==============================] - 14s 190ms/step - loss: 0.0119 - accuracy: 0.9968\n",
      "Epoch 93/100\n",
      "71/71 [==============================] - 13s 189ms/step - loss: 0.0134 - accuracy: 0.9964\n",
      "Epoch 94/100\n",
      "71/71 [==============================] - 14s 192ms/step - loss: 0.0131 - accuracy: 0.9968\n",
      "Epoch 95/100\n",
      "71/71 [==============================] - 16s 222ms/step - loss: 0.0124 - accuracy: 0.9968\n",
      "Epoch 96/100\n",
      "71/71 [==============================] - 15s 218ms/step - loss: 0.0113 - accuracy: 0.9967\n",
      "Epoch 97/100\n",
      "71/71 [==============================] - 15s 215ms/step - loss: 0.0124 - accuracy: 0.9967\n",
      "Epoch 98/100\n",
      "71/71 [==============================] - 15s 211ms/step - loss: 0.0127 - accuracy: 0.9965\n",
      "Epoch 99/100\n",
      "71/71 [==============================] - 16s 226ms/step - loss: 0.0114 - accuracy: 0.9967\n",
      "Epoch 100/100\n",
      "71/71 [==============================] - 17s 237ms/step - loss: 0.0113 - accuracy: 0.9968\n"
     ]
    }
   ],
   "source": [
    "emotion.fit()"
   ]
  },
  {
   "cell_type": "code",
   "execution_count": 31,
   "metadata": {},
   "outputs": [
    {
     "name": "stdout",
     "output_type": "stream",
     "text": [
      "Saved model to disk\n"
     ]
    }
   ],
   "source": [
    "emotion.save_model('./models/test.json')\n",
    " \n"
   ]
  },
  {
   "cell_type": "code",
   "execution_count": null,
   "metadata": {},
   "outputs": [],
   "source": []
  },
  {
   "cell_type": "code",
   "execution_count": 32,
   "metadata": {
    "colab": {
     "base_uri": "https://localhost:8080/",
     "height": 280
    },
    "id": "84VnyiCkxM2O",
    "outputId": "b2a4c044-1920-431b-ed3f-5560e2055bec"
   },
   "outputs": [
    {
     "data": {
      "image/png": "[encoded data removed]",
      "text/plain": [
       "<Figure size 1500x400 with 1 Axes>"
      ]
     },
     "metadata": {},
     "output_type": "display_data"
    }
   ],
   "source": [
    "import matplotlib.pyplot as plt\n",
    "mpl.style.use('seaborn')\n",
    "figure = plt.figure(figsize=(15, 4))\n",
    "plt.plot(emotion.history_training.history['accuracy'], 'darkorange', label = 'Accuracy')\n",
    "plt.title(\"Accuracywhile training\")\n",
    "plt.show()"
   ]
  },
  {
   "cell_type": "code",
   "execution_count": 33,
   "metadata": {
    "colab": {
     "base_uri": "https://localhost:8080/",
     "height": 280
    },
    "id": "ngkfKyXyfVPN",
    "outputId": "ce085a6a-9529-4260-befe-fa2e4cbbe905"
   },
   "outputs": [
    {
     "data": {
      "image/png": "[encoded data removed]",
      "text/plain": [
       "<Figure size 1500x400 with 1 Axes>"
      ]
     },
     "metadata": {},
     "output_type": "display_data"
    }
   ],
   "source": [
    "figure = plt.figure(figsize=(15, 4))\n",
    "plt.plot(emotion.history_training.history['loss'], 'darkblue', label = 'Loss')\n",
    "plt.title(\"Loss while training\")\n",
    "plt.show()"
   ]
  },
  {
   "cell_type": "code",
   "execution_count": 34,
   "metadata": {
    "colab": {
     "base_uri": "https://localhost:8080/"
    },
    "id": "AmCFN7YIgYsG",
    "outputId": "97883276-5b81-490b-a002-b6b0fbdd75fd"
   },
   "outputs": [
    {
     "name": "stdout",
     "output_type": "stream",
     "text": [
      "8/8 [==============================] - 1s 60ms/step - loss: 0.2735 - accuracy: 0.9330\n"
     ]
    },
    {
     "data": {
      "text/plain": [
       "[0.2734626233577728, 0.9330000281333923]"
      ]
     },
     "execution_count": 34,
     "metadata": {},
     "output_type": "execute_result"
    }
   ],
   "source": [
    "emotion.m.evaluate(emotion.X_test, emotion.Y_test, batch_size = 256)"
   ]
  },
  {
   "cell_type": "code",
   "execution_count": 35,
   "metadata": {
    "id": "0L4SW7XTxfb2"
   },
   "outputs": [
    {
     "name": "stdout",
     "output_type": "stream",
     "text": [
      "63/63 [==============================] - 1s 16ms/step\n"
     ]
    }
   ],
   "source": [
    "y_pred = emotion.m.predict(emotion.X_test)"
   ]
  },
  {
   "cell_type": "code",
   "execution_count": 36,
   "metadata": {
    "id": "z-Bzg9rLy4TT"
   },
   "outputs": [],
   "source": [
    "y_pred = np.argmax(y_pred, axis = 1)"
   ]
  },
  {
   "cell_type": "code",
   "execution_count": 37,
   "metadata": {
    "colab": {
     "base_uri": "https://localhost:8080/"
    },
    "id": "X6nixaqUy89r",
    "outputId": "2602c5dc-7d98-4010-e13c-ad133ab04042"
   },
   "outputs": [
    {
     "data": {
      "text/plain": [
       "array([1, 3, 4, ..., 2, 4, 4])"
      ]
     },
     "execution_count": 37,
     "metadata": {},
     "output_type": "execute_result"
    }
   ],
   "source": [
    "y_pred"
   ]
  },
  {
   "cell_type": "code",
   "execution_count": 38,
   "metadata": {
    "id": "AUkw2x0ezAKS"
   },
   "outputs": [],
   "source": [
    "y_test = np.argmax(emotion.Y_test, axis = 1)"
   ]
  },
  {
   "cell_type": "code",
   "execution_count": 39,
   "metadata": {
    "colab": {
     "base_uri": "https://localhost:8080/"
    },
    "id": "9LUXLYXxzKQq",
    "outputId": "ede919dc-34f1-4dcd-a287-14ce084cd732"
   },
   "outputs": [
    {
     "data": {
      "text/plain": [
       "array([1, 3, 4, ..., 2, 4, 4])"
      ]
     },
     "execution_count": 39,
     "metadata": {},
     "output_type": "execute_result"
    }
   ],
   "source": [
    "y_test"
   ]
  },
  {
   "cell_type": "code",
   "execution_count": 40,
   "metadata": {
    "colab": {
     "base_uri": "https://localhost:8080/"
    },
    "id": "qKhpVX5TzRwM",
    "outputId": "fa50701c-3392-44b0-8862-5bf532d41428"
   },
   "outputs": [
    {
     "name": "stdout",
     "output_type": "stream",
     "text": [
      "0.933\n"
     ]
    }
   ],
   "source": [
    "from sklearn.metrics import accuracy_score as acc\n",
    "print(acc(y_pred, y_test))"
   ]
  },
  {
   "cell_type": "code",
   "execution_count": 41,
   "metadata": {
    "id": "2MHH5qrIh0P-"
   },
   "outputs": [],
   "source": [
    "res = tf.math.confusion_matrix(y_pred,y_test).numpy()"
   ]
  },
  {
   "cell_type": "code",
   "execution_count": 42,
   "metadata": {
    "colab": {
     "base_uri": "https://localhost:8080/",
     "height": 238
    },
    "id": "FbZ0pOpGh57L",
    "outputId": "ed23220f-f9b5-4535-d7d8-20b06acc758f"
   },
   "outputs": [
    {
     "data": {
      "text/html": [
       "<div>\n",
       "<style scoped>\n",
       "    .dataframe tbody tr th:only-of-type {\n",
       "        vertical-align: middle;\n",
       "    }\n",
       "\n",
       "    .dataframe tbody tr th {\n",
       "        vertical-align: top;\n",
       "    }\n",
       "\n",
       "    .dataframe thead th {\n",
       "        text-align: right;\n",
       "    }\n",
       "</style>\n",
       "<table border=\"1\" class=\"dataframe\">\n",
       "  <thead>\n",
       "    <tr style=\"text-align: right;\">\n",
       "      <th></th>\n",
       "      <th>sadness</th>\n",
       "      <th>anger</th>\n",
       "      <th>love</th>\n",
       "      <th>surprise</th>\n",
       "      <th>fear</th>\n",
       "      <th>joy</th>\n",
       "    </tr>\n",
       "  </thead>\n",
       "  <tbody>\n",
       "    <tr>\n",
       "      <th>sadness</th>\n",
       "      <td>252</td>\n",
       "      <td>4</td>\n",
       "      <td>3</td>\n",
       "      <td>1</td>\n",
       "      <td>5</td>\n",
       "      <td>0</td>\n",
       "    </tr>\n",
       "    <tr>\n",
       "      <th>anger</th>\n",
       "      <td>7</td>\n",
       "      <td>213</td>\n",
       "      <td>0</td>\n",
       "      <td>0</td>\n",
       "      <td>4</td>\n",
       "      <td>8</td>\n",
       "    </tr>\n",
       "    <tr>\n",
       "      <th>love</th>\n",
       "      <td>4</td>\n",
       "      <td>3</td>\n",
       "      <td>619</td>\n",
       "      <td>17</td>\n",
       "      <td>4</td>\n",
       "      <td>8</td>\n",
       "    </tr>\n",
       "    <tr>\n",
       "      <th>surprise</th>\n",
       "      <td>1</td>\n",
       "      <td>0</td>\n",
       "      <td>32</td>\n",
       "      <td>138</td>\n",
       "      <td>0</td>\n",
       "      <td>0</td>\n",
       "    </tr>\n",
       "    <tr>\n",
       "      <th>fear</th>\n",
       "      <td>9</td>\n",
       "      <td>4</td>\n",
       "      <td>4</td>\n",
       "      <td>1</td>\n",
       "      <td>584</td>\n",
       "      <td>0</td>\n",
       "    </tr>\n",
       "    <tr>\n",
       "      <th>joy</th>\n",
       "      <td>1</td>\n",
       "      <td>9</td>\n",
       "      <td>5</td>\n",
       "      <td>0</td>\n",
       "      <td>0</td>\n",
       "      <td>60</td>\n",
       "    </tr>\n",
       "  </tbody>\n",
       "</table>\n",
       "</div>"
      ],
      "text/plain": [
       "          sadness  anger  love  surprise  fear  joy\n",
       "sadness       252      4     3         1     5    0\n",
       "anger           7    213     0         0     4    8\n",
       "love            4      3   619        17     4    8\n",
       "surprise        1      0    32       138     0    0\n",
       "fear            9      4     4         1   584    0\n",
       "joy             1      9     5         0     0   60"
      ]
     },
     "execution_count": 42,
     "metadata": {},
     "output_type": "execute_result"
    }
   ],
   "source": [
    "cm = pd.DataFrame(res,\n",
    "                     index = ['sadness', 'anger', 'love', 'surprise', 'fear', 'joy'], \n",
    "                     columns = ['sadness', 'anger', 'love', 'surprise', 'fear', 'joy'])\n",
    "cm"
   ]
  },
  {
   "cell_type": "code",
   "execution_count": null,
   "metadata": {},
   "outputs": [],
   "source": [
    "\n"
   ]
  },
  {
   "cell_type": "code",
   "execution_count": 43,
   "metadata": {
    "colab": {
     "base_uri": "https://localhost:8080/",
     "height": 442
    },
    "id": "_q6oYtSmiI7Z",
    "outputId": "f3731b71-5429-42f8-9326-0b6b8589e53b"
   },
   "outputs": [
    {
     "data": {
      "image/png": "[encoded data removed]",
      "text/plain": [
       "<Figure size 700x700 with 2 Axes>"
      ]
     },
     "metadata": {},
     "output_type": "display_data"
    }
   ],
   "source": [
    "import seaborn as sns\n",
    "figure = plt.figure(figsize=(7, 7))\n",
    "sns.heatmap(cm, annot=True, cmap=plt.cm.Blues)\n",
    "plt.ylabel('True label')\n",
    "plt.xlabel('Predicted label')\n",
    "plt.show()"
   ]
  },
  {
   "cell_type": "code",
   "execution_count": null,
   "metadata": {},
   "outputs": [],
   "source": []
  },
  {
   "cell_type": "code",
   "execution_count": null,
   "metadata": {},
   "outputs": [],
   "source": []
  },
  {
   "cell_type": "markdown",
   "metadata": {},
   "source": [
    "## Building additional classifiers"
   ]
  },
  {
   "cell_type": "code",
   "execution_count": 44,
   "metadata": {},
   "outputs": [
    {
     "data": {
      "text/html": [
       "<div>\n",
       "<style scoped>\n",
       "    .dataframe tbody tr th:only-of-type {\n",
       "        vertical-align: middle;\n",
       "    }\n",
       "\n",
       "    .dataframe tbody tr th {\n",
       "        vertical-align: top;\n",
       "    }\n",
       "\n",
       "    .dataframe thead th {\n",
       "        text-align: right;\n",
       "    }\n",
       "</style>\n",
       "<table border=\"1\" class=\"dataframe\">\n",
       "  <thead>\n",
       "    <tr style=\"text-align: right;\">\n",
       "      <th></th>\n",
       "      <th>Text</th>\n",
       "      <th>Emotion</th>\n",
       "    </tr>\n",
       "  </thead>\n",
       "  <tbody>\n",
       "    <tr>\n",
       "      <th>0</th>\n",
       "      <td>i didnt feel humiliated</td>\n",
       "      <td>sadness</td>\n",
       "    </tr>\n",
       "    <tr>\n",
       "      <th>1</th>\n",
       "      <td>i can go from feeling so hopeless to so damned...</td>\n",
       "      <td>sadness</td>\n",
       "    </tr>\n",
       "    <tr>\n",
       "      <th>2</th>\n",
       "      <td>im grabbing a minute to post i feel greedy wrong</td>\n",
       "      <td>anger</td>\n",
       "    </tr>\n",
       "    <tr>\n",
       "      <th>3</th>\n",
       "      <td>i am ever feeling nostalgic about the fireplac...</td>\n",
       "      <td>love</td>\n",
       "    </tr>\n",
       "    <tr>\n",
       "      <th>4</th>\n",
       "      <td>i am feeling grouchy</td>\n",
       "      <td>anger</td>\n",
       "    </tr>\n",
       "  </tbody>\n",
       "</table>\n",
       "</div>"
      ],
      "text/plain": [
       "                                                Text  Emotion\n",
       "0                            i didnt feel humiliated  sadness\n",
       "1  i can go from feeling so hopeless to so damned...  sadness\n",
       "2   im grabbing a minute to post i feel greedy wrong    anger\n",
       "3  i am ever feeling nostalgic about the fireplac...     love\n",
       "4                               i am feeling grouchy    anger"
      ]
     },
     "execution_count": 44,
     "metadata": {},
     "output_type": "execute_result"
    }
   ],
   "source": [
    "trainDataset = pd.read_csv(\"data/train.txt\", names=['Text', 'Emotion'], sep=';')\n",
    "testDataset = pd.read_csv(\"data/test.txt\", names=['Text', 'Emotion'], sep=';')\n",
    "validDataset = pd.read_csv(\"data/val.txt\", names=['Text', 'Emotion'], sep=';')\n",
    "\n",
    "trainDataset.head()"
   ]
  },
  {
   "cell_type": "code",
   "execution_count": 45,
   "metadata": {},
   "outputs": [
    {
     "data": {
      "text/plain": [
       "(20000, 2)"
      ]
     },
     "execution_count": 45,
     "metadata": {},
     "output_type": "execute_result"
    }
   ],
   "source": [
    "list_dataset = [trainDataset, testDataset, validDataset]\n",
    "dataset = pd.concat(list_dataset)\n",
    "dataset.shape\n"
   ]
  },
  {
   "cell_type": "code",
   "execution_count": 46,
   "metadata": {},
   "outputs": [],
   "source": [
    "tweet = dataset['Text']\n",
    "labels = dataset['Emotion']\n",
    "sentiment_label = dataset.Emotion.factorize()\n"
   ]
  },
  {
   "cell_type": "code",
   "execution_count": 47,
   "metadata": {},
   "outputs": [
    {
     "data": {
      "text/plain": [
       "0                              i didnt feel humiliated\n",
       "1    i can go from feeling so hopeless to so damned...\n",
       "2     im grabbing a minute to post i feel greedy wrong\n",
       "3    i am ever feeling nostalgic about the fireplac...\n",
       "4                                 i am feeling grouchy\n",
       "Name: Text, dtype: object"
      ]
     },
     "execution_count": 47,
     "metadata": {},
     "output_type": "execute_result"
    }
   ],
   "source": [
    "tweet[:5]"
   ]
  },
  {
   "cell_type": "code",
   "execution_count": 50,
   "metadata": {},
   "outputs": [
    {
     "data": {
      "text/plain": [
       "20000"
      ]
     },
     "execution_count": 50,
     "metadata": {},
     "output_type": "execute_result"
    }
   ],
   "source": [
    "from tensorflow.keras.preprocessing.text import Tokenizer\n",
    "tokenizer = Tokenizer(num_words=5000)\n",
    "tokenizer.fit_on_texts(tweet)\n",
    "\n",
    "tokenizer.document_count"
   ]
  },
  {
   "cell_type": "markdown",
   "metadata": {},
   "source": [
    "# Clount Vectorizer (Term-Frequency)\n",
    "#### In this case, we demonstrate how we can compute the overall sentiments in number format so that we can comprehend it comfortably"
   ]
  },
  {
   "cell_type": "code",
   "execution_count": 51,
   "metadata": {},
   "outputs": [
    {
     "data": {
      "text/html": [
       "<div>\n",
       "<style scoped>\n",
       "    .dataframe tbody tr th:only-of-type {\n",
       "        vertical-align: middle;\n",
       "    }\n",
       "\n",
       "    .dataframe tbody tr th {\n",
       "        vertical-align: top;\n",
       "    }\n",
       "\n",
       "    .dataframe thead th {\n",
       "        text-align: right;\n",
       "    }\n",
       "</style>\n",
       "<table border=\"1\" class=\"dataframe\">\n",
       "  <thead>\n",
       "    <tr style=\"text-align: right;\">\n",
       "      <th></th>\n",
       "      <th>Text</th>\n",
       "      <th>Emotion</th>\n",
       "      <th>tweets_lemmatized</th>\n",
       "    </tr>\n",
       "  </thead>\n",
       "  <tbody>\n",
       "    <tr>\n",
       "      <th>0</th>\n",
       "      <td>i didnt feel humiliated</td>\n",
       "      <td>sadness</td>\n",
       "      <td>i didnt feel humiliated</td>\n",
       "    </tr>\n",
       "    <tr>\n",
       "      <th>1</th>\n",
       "      <td>i can go from feeling so hopeless to so damned...</td>\n",
       "      <td>sadness</td>\n",
       "      <td>i can go from feeling so hopeless to so damned...</td>\n",
       "    </tr>\n",
       "    <tr>\n",
       "      <th>2</th>\n",
       "      <td>im grabbing a minute to post i feel greedy wrong</td>\n",
       "      <td>anger</td>\n",
       "      <td>im grabbing a minute to post i feel greedy wrong</td>\n",
       "    </tr>\n",
       "    <tr>\n",
       "      <th>3</th>\n",
       "      <td>i am ever feeling nostalgic about the fireplac...</td>\n",
       "      <td>love</td>\n",
       "      <td>i am ever feeling nostalgic about the fireplac...</td>\n",
       "    </tr>\n",
       "    <tr>\n",
       "      <th>4</th>\n",
       "      <td>i am feeling grouchy</td>\n",
       "      <td>anger</td>\n",
       "      <td>i am feeling grouchy</td>\n",
       "    </tr>\n",
       "  </tbody>\n",
       "</table>\n",
       "</div>"
      ],
      "text/plain": [
       "                                                Text  Emotion  \\\n",
       "0                            i didnt feel humiliated  sadness   \n",
       "1  i can go from feeling so hopeless to so damned...  sadness   \n",
       "2   im grabbing a minute to post i feel greedy wrong    anger   \n",
       "3  i am ever feeling nostalgic about the fireplac...     love   \n",
       "4                               i am feeling grouchy    anger   \n",
       "\n",
       "                                   tweets_lemmatized  \n",
       "0                            i didnt feel humiliated  \n",
       "1  i can go from feeling so hopeless to so damned...  \n",
       "2   im grabbing a minute to post i feel greedy wrong  \n",
       "3  i am ever feeling nostalgic about the fireplac...  \n",
       "4                               i am feeling grouchy  "
      ]
     },
     "execution_count": 51,
     "metadata": {},
     "output_type": "execute_result"
    }
   ],
   "source": [
    "import nltk\n",
    "# nltk.download('wordnet')\n",
    "\n",
    "nltk.stem.WordNetLemmatizer().lemmatize('word')\n",
    "w_tokenizer = nltk.tokenize.WhitespaceTokenizer()\n",
    "lemmatizer = nltk.stem.WordNetLemmatizer()\n",
    "\n",
    "def lemmatize_text(text):\n",
    "    return [lemmatizer.lemmatize(w) for w in w_tokenizer.tokenize(text)]\n",
    "\n",
    "dataset['tweets_lemmatized'] = dataset.Text.apply(lemmatize_text).str.join(\" \")\n",
    "dataset.head()\n",
    "\n"
   ]
  },
  {
   "cell_type": "code",
   "execution_count": 52,
   "metadata": {},
   "outputs": [
    {
     "data": {
      "image/png": "[encoded data removed]",
      "text/plain": [
       "<Figure size 800x550 with 1 Axes>"
      ]
     },
     "metadata": {},
     "output_type": "display_data"
    }
   ],
   "source": [
    "from wordcloud import WordCloud\n",
    "\n",
    "#Creating the text variable\n",
    "text = \" \".join(cat.split()[1] for cat in dataset.Text)\n",
    "# Creating word_cloud with text as argument in .generate() method\n",
    "word_cloud = WordCloud(collocations = False, background_color = 'white').generate(text)\n",
    "# Display the generated Word Cloud\n",
    "plt.imshow(word_cloud, interpolation='bilinear')\n",
    "plt.axis(\"off\")\n",
    "plt.show()"
   ]
  },
  {
   "cell_type": "code",
   "execution_count": 53,
   "metadata": {},
   "outputs": [],
   "source": [
    "from sklearn.feature_extraction.text import CountVectorizer\n",
    "vec = CountVectorizer()\n",
    "docs = list(dataset.tweets_lemmatized)\n",
    "X = vec.fit_transform(docs)"
   ]
  },
  {
   "cell_type": "code",
   "execution_count": 54,
   "metadata": {},
   "outputs": [
    {
     "name": "stderr",
     "output_type": "stream",
     "text": [
      "/home/abhay/experiments/Tutorials/venv39/lib/python3.9/site-packages/sklearn/utils/deprecation.py:87: FutureWarning: Function get_feature_names is deprecated; get_feature_names is deprecated in 1.0 and will be removed in 1.2. Please use get_feature_names_out instead.\n",
      "  warnings.warn(msg, category=FutureWarning)\n"
     ]
    },
    {
     "data": {
      "text/html": [
       "<div>\n",
       "<style scoped>\n",
       "    .dataframe tbody tr th:only-of-type {\n",
       "        vertical-align: middle;\n",
       "    }\n",
       "\n",
       "    .dataframe tbody tr th {\n",
       "        vertical-align: top;\n",
       "    }\n",
       "\n",
       "    .dataframe thead th {\n",
       "        text-align: right;\n",
       "    }\n",
       "</style>\n",
       "<table border=\"1\" class=\"dataframe\">\n",
       "  <thead>\n",
       "    <tr style=\"text-align: right;\">\n",
       "      <th></th>\n",
       "      <th>aa</th>\n",
       "      <th>aaaaaaand</th>\n",
       "      <th>aaaaand</th>\n",
       "      <th>aaaah</th>\n",
       "      <th>aaaand</th>\n",
       "      <th>aac</th>\n",
       "      <th>aahhh</th>\n",
       "      <th>aaron</th>\n",
       "      <th>ab</th>\n",
       "      <th>abandon</th>\n",
       "      <th>...</th>\n",
       "      <th>zoned</th>\n",
       "      <th>zonisamide</th>\n",
       "      <th>zoo</th>\n",
       "      <th>zoom</th>\n",
       "      <th>zooming</th>\n",
       "      <th>zq</th>\n",
       "      <th>zucchini</th>\n",
       "      <th>zum</th>\n",
       "      <th>zumba</th>\n",
       "      <th>zz</th>\n",
       "    </tr>\n",
       "  </thead>\n",
       "  <tbody>\n",
       "    <tr>\n",
       "      <th>0</th>\n",
       "      <td>0</td>\n",
       "      <td>0</td>\n",
       "      <td>0</td>\n",
       "      <td>0</td>\n",
       "      <td>0</td>\n",
       "      <td>0</td>\n",
       "      <td>0</td>\n",
       "      <td>0</td>\n",
       "      <td>0</td>\n",
       "      <td>0</td>\n",
       "      <td>...</td>\n",
       "      <td>0</td>\n",
       "      <td>0</td>\n",
       "      <td>0</td>\n",
       "      <td>0</td>\n",
       "      <td>0</td>\n",
       "      <td>0</td>\n",
       "      <td>0</td>\n",
       "      <td>0</td>\n",
       "      <td>0</td>\n",
       "      <td>0</td>\n",
       "    </tr>\n",
       "    <tr>\n",
       "      <th>1</th>\n",
       "      <td>0</td>\n",
       "      <td>0</td>\n",
       "      <td>0</td>\n",
       "      <td>0</td>\n",
       "      <td>0</td>\n",
       "      <td>0</td>\n",
       "      <td>0</td>\n",
       "      <td>0</td>\n",
       "      <td>0</td>\n",
       "      <td>0</td>\n",
       "      <td>...</td>\n",
       "      <td>0</td>\n",
       "      <td>0</td>\n",
       "      <td>0</td>\n",
       "      <td>0</td>\n",
       "      <td>0</td>\n",
       "      <td>0</td>\n",
       "      <td>0</td>\n",
       "      <td>0</td>\n",
       "      <td>0</td>\n",
       "      <td>0</td>\n",
       "    </tr>\n",
       "    <tr>\n",
       "      <th>2</th>\n",
       "      <td>0</td>\n",
       "      <td>0</td>\n",
       "      <td>0</td>\n",
       "      <td>0</td>\n",
       "      <td>0</td>\n",
       "      <td>0</td>\n",
       "      <td>0</td>\n",
       "      <td>0</td>\n",
       "      <td>0</td>\n",
       "      <td>0</td>\n",
       "      <td>...</td>\n",
       "      <td>0</td>\n",
       "      <td>0</td>\n",
       "      <td>0</td>\n",
       "      <td>0</td>\n",
       "      <td>0</td>\n",
       "      <td>0</td>\n",
       "      <td>0</td>\n",
       "      <td>0</td>\n",
       "      <td>0</td>\n",
       "      <td>0</td>\n",
       "    </tr>\n",
       "    <tr>\n",
       "      <th>3</th>\n",
       "      <td>0</td>\n",
       "      <td>0</td>\n",
       "      <td>0</td>\n",
       "      <td>0</td>\n",
       "      <td>0</td>\n",
       "      <td>0</td>\n",
       "      <td>0</td>\n",
       "      <td>0</td>\n",
       "      <td>0</td>\n",
       "      <td>0</td>\n",
       "      <td>...</td>\n",
       "      <td>0</td>\n",
       "      <td>0</td>\n",
       "      <td>0</td>\n",
       "      <td>0</td>\n",
       "      <td>0</td>\n",
       "      <td>0</td>\n",
       "      <td>0</td>\n",
       "      <td>0</td>\n",
       "      <td>0</td>\n",
       "      <td>0</td>\n",
       "    </tr>\n",
       "    <tr>\n",
       "      <th>4</th>\n",
       "      <td>0</td>\n",
       "      <td>0</td>\n",
       "      <td>0</td>\n",
       "      <td>0</td>\n",
       "      <td>0</td>\n",
       "      <td>0</td>\n",
       "      <td>0</td>\n",
       "      <td>0</td>\n",
       "      <td>0</td>\n",
       "      <td>0</td>\n",
       "      <td>...</td>\n",
       "      <td>0</td>\n",
       "      <td>0</td>\n",
       "      <td>0</td>\n",
       "      <td>0</td>\n",
       "      <td>0</td>\n",
       "      <td>0</td>\n",
       "      <td>0</td>\n",
       "      <td>0</td>\n",
       "      <td>0</td>\n",
       "      <td>0</td>\n",
       "    </tr>\n",
       "  </tbody>\n",
       "</table>\n",
       "<p>5 rows × 15203 columns</p>\n",
       "</div>"
      ],
      "text/plain": [
       "   aa  aaaaaaand  aaaaand  aaaah  aaaand  aac  aahhh  aaron  ab  abandon  ...  \\\n",
       "0   0          0        0      0       0    0      0      0   0        0  ...   \n",
       "1   0          0        0      0       0    0      0      0   0        0  ...   \n",
       "2   0          0        0      0       0    0      0      0   0        0  ...   \n",
       "3   0          0        0      0       0    0      0      0   0        0  ...   \n",
       "4   0          0        0      0       0    0      0      0   0        0  ...   \n",
       "\n",
       "   zoned  zonisamide  zoo  zoom  zooming  zq  zucchini  zum  zumba  zz  \n",
       "0      0           0    0     0        0   0         0    0      0   0  \n",
       "1      0           0    0     0        0   0         0    0      0   0  \n",
       "2      0           0    0     0        0   0         0    0      0   0  \n",
       "3      0           0    0     0        0   0         0    0      0   0  \n",
       "4      0           0    0     0        0   0         0    0      0   0  \n",
       "\n",
       "[5 rows x 15203 columns]"
      ]
     },
     "execution_count": 54,
     "metadata": {},
     "output_type": "execute_result"
    }
   ],
   "source": [
    "df = pd.DataFrame(X.toarray(), columns=vec.get_feature_names())\n",
    "df.head()"
   ]
  },
  {
   "cell_type": "code",
   "execution_count": 55,
   "metadata": {},
   "outputs": [
    {
     "data": {
      "text/plain": [
       "(20000, 3733)"
      ]
     },
     "execution_count": 55,
     "metadata": {},
     "output_type": "execute_result"
    }
   ],
   "source": [
    "# Create a Counter of tokens\n",
    "count_vectorizer = CountVectorizer(decode_error='ignore', lowercase=True, min_df=5)\n",
    "# Apply it on the train data to get the vocabulary and the mapping. This vocab and mapping is then applied to the test set.\n",
    "# Before, we convert to Unicode to avoid issues with CountVectorizer\n",
    "train = count_vectorizer.fit_transform(dataset.tweets_lemmatized.astype('U'))\n",
    "train.shape"
   ]
  },
  {
   "cell_type": "code",
   "execution_count": 56,
   "metadata": {},
   "outputs": [
    {
     "name": "stdout",
     "output_type": "stream",
     "text": [
      "[('didnt', 888), ('feel', 1227), ('humiliated', 1627), ('can', 471), ('go', 1406), ('from', 1339), ('feeling', 1229), ('so', 2993), ('hopeless', 1601), ('to', 3336)]\n"
     ]
    }
   ],
   "source": [
    "# Extract the vocabulary as a list of (word, frequency)\n",
    "vocab = list(count_vectorizer.vocabulary_.items())\n",
    "print(vocab[:10])"
   ]
  },
  {
   "cell_type": "code",
   "execution_count": 57,
   "metadata": {},
   "outputs": [
    {
     "data": {
      "text/plain": [
       "20000"
      ]
     },
     "execution_count": 57,
     "metadata": {},
     "output_type": "execute_result"
    }
   ],
   "source": [
    "total_pos_count = 0\n",
    "total_neg_count = 0\n",
    "pos_count_vector = []\n",
    "neg_count_vector = []\n",
    "\n",
    "size = len(dataset.tweets_lemmatized)\n",
    "size"
   ]
  },
  {
   "cell_type": "code",
   "execution_count": 58,
   "metadata": {},
   "outputs": [
    {
     "name": "stdout",
     "output_type": "stream",
     "text": [
      "(2006, 1)\n",
      "(4783, 1)\n"
     ]
    }
   ],
   "source": [
    "positive_lexicon = pd.read_csv(\"./data/positive-lexicon.txt\", usecols=[0], names=['positive'], header=None)\n",
    "\n",
    "print(positive_lexicon.shape)\n",
    "\n",
    "negative_lexicon = pd.read_csv(\"./data/negative-lexicon.txt\", encoding='ISO-8859-1', usecols=[0], names=['negative'], header=None)\n",
    "print(negative_lexicon.shape)"
   ]
  },
  {
   "cell_type": "code",
   "execution_count": 59,
   "metadata": {},
   "outputs": [
    {
     "data": {
      "text/html": [
       "<div>\n",
       "<style scoped>\n",
       "    .dataframe tbody tr th:only-of-type {\n",
       "        vertical-align: middle;\n",
       "    }\n",
       "\n",
       "    .dataframe tbody tr th {\n",
       "        vertical-align: top;\n",
       "    }\n",
       "\n",
       "    .dataframe thead th {\n",
       "        text-align: right;\n",
       "    }\n",
       "</style>\n",
       "<table border=\"1\" class=\"dataframe\">\n",
       "  <thead>\n",
       "    <tr style=\"text-align: right;\">\n",
       "      <th></th>\n",
       "      <th>positive</th>\n",
       "    </tr>\n",
       "  </thead>\n",
       "  <tbody>\n",
       "    <tr>\n",
       "      <th>0</th>\n",
       "      <td>a+</td>\n",
       "    </tr>\n",
       "    <tr>\n",
       "      <th>1</th>\n",
       "      <td>abound</td>\n",
       "    </tr>\n",
       "    <tr>\n",
       "      <th>2</th>\n",
       "      <td>abounds</td>\n",
       "    </tr>\n",
       "    <tr>\n",
       "      <th>3</th>\n",
       "      <td>abundance</td>\n",
       "    </tr>\n",
       "    <tr>\n",
       "      <th>4</th>\n",
       "      <td>abundant</td>\n",
       "    </tr>\n",
       "  </tbody>\n",
       "</table>\n",
       "</div>"
      ],
      "text/plain": [
       "    positive\n",
       "0         a+\n",
       "1     abound\n",
       "2    abounds\n",
       "3  abundance\n",
       "4   abundant"
      ]
     },
     "execution_count": 59,
     "metadata": {},
     "output_type": "execute_result"
    }
   ],
   "source": [
    "positive_lexicon.head()"
   ]
  },
  {
   "cell_type": "code",
   "execution_count": 60,
   "metadata": {},
   "outputs": [
    {
     "data": {
      "text/html": [
       "<div>\n",
       "<style scoped>\n",
       "    .dataframe tbody tr th:only-of-type {\n",
       "        vertical-align: middle;\n",
       "    }\n",
       "\n",
       "    .dataframe tbody tr th {\n",
       "        vertical-align: top;\n",
       "    }\n",
       "\n",
       "    .dataframe thead th {\n",
       "        text-align: right;\n",
       "    }\n",
       "</style>\n",
       "<table border=\"1\" class=\"dataframe\">\n",
       "  <thead>\n",
       "    <tr style=\"text-align: right;\">\n",
       "      <th></th>\n",
       "      <th>negative</th>\n",
       "    </tr>\n",
       "  </thead>\n",
       "  <tbody>\n",
       "    <tr>\n",
       "      <th>0</th>\n",
       "      <td>2-faced</td>\n",
       "    </tr>\n",
       "    <tr>\n",
       "      <th>1</th>\n",
       "      <td>2-faces</td>\n",
       "    </tr>\n",
       "    <tr>\n",
       "      <th>2</th>\n",
       "      <td>abnormal</td>\n",
       "    </tr>\n",
       "    <tr>\n",
       "      <th>3</th>\n",
       "      <td>abolish</td>\n",
       "    </tr>\n",
       "    <tr>\n",
       "      <th>4</th>\n",
       "      <td>abominable</td>\n",
       "    </tr>\n",
       "  </tbody>\n",
       "</table>\n",
       "</div>"
      ],
      "text/plain": [
       "     negative\n",
       "0     2-faced\n",
       "1     2-faces\n",
       "2    abnormal\n",
       "3     abolish\n",
       "4  abominable"
      ]
     },
     "execution_count": 60,
     "metadata": {},
     "output_type": "execute_result"
    }
   ],
   "source": [
    "negative_lexicon.head()"
   ]
  },
  {
   "cell_type": "code",
   "execution_count": 61,
   "metadata": {},
   "outputs": [
    {
     "name": "stdout",
     "output_type": "stream",
     "text": [
      "Positive Percentage =  66.66666666666667\n",
      "Negative Percentage =  0.0\n"
     ]
    }
   ],
   "source": [
    "\n",
    "for i in range(1,size):\n",
    "# for i in range(0,4):\n",
    "    corpus_words = list(dataset.iloc[i].tweets_lemmatized.split(\" \"))\n",
    "#     print(i)\n",
    "\n",
    "    pos_count = len((set(corpus_words).intersection(set(positive_lexicon.positive))))\n",
    "#     print(pos_count)\n",
    "    neg_count = len((set(corpus_words).intersection(set(negative_lexicon.negative))))\n",
    "#     print(neg_count)\n",
    "#     if(pos_count>neg_count):\n",
    "#         print(\"It's a positive review\")\n",
    "#     else:\n",
    "#         print(\"It's a negative review\")\n",
    "    \n",
    "    total_count_for_current_review = pos_count + neg_count+1 ## current positive and negative count\n",
    "    pos_percentage = (pos_count*100)/total_count_for_current_review\n",
    "    neg_percentage = (neg_count*100)/total_count_for_current_review\n",
    "#     print(pos_percentage)\n",
    "    ## current positive percentage\n",
    "#     print(neg_percentage)\n",
    "    ## current negtive percentage\n",
    "    total_pos_count = total_pos_count + pos_count ## overall positive count\n",
    "    total_neg_count = total_neg_count + neg_count ## overall negative count\n",
    "    pos_count_vector.append(pos_count) \n",
    "    neg_count_vector.append(neg_count)\n",
    "\n",
    "    \n",
    "    \n",
    "print(\"Positive Percentage = \", pos_percentage)\n",
    "print(\"Negative Percentage = \", neg_percentage)\n",
    "\n"
   ]
  },
  {
   "cell_type": "code",
   "execution_count": 62,
   "metadata": {},
   "outputs": [
    {
     "name": "stdout",
     "output_type": "stream",
     "text": [
      "Total Positive Count:  19632\n",
      "Total Negative Count:  18350\n"
     ]
    }
   ],
   "source": [
    "print('Total Positive Count: ',total_pos_count )\n",
    "print('Total Negative Count: ',total_neg_count )"
   ]
  },
  {
   "cell_type": "code",
   "execution_count": 63,
   "metadata": {},
   "outputs": [
    {
     "data": {
      "text/html": [
       "<div>\n",
       "<style scoped>\n",
       "    .dataframe tbody tr th:only-of-type {\n",
       "        vertical-align: middle;\n",
       "    }\n",
       "\n",
       "    .dataframe tbody tr th {\n",
       "        vertical-align: top;\n",
       "    }\n",
       "\n",
       "    .dataframe thead th {\n",
       "        text-align: right;\n",
       "    }\n",
       "</style>\n",
       "<table border=\"1\" class=\"dataframe\">\n",
       "  <thead>\n",
       "    <tr style=\"text-align: right;\">\n",
       "      <th></th>\n",
       "      <th>positive_count</th>\n",
       "      <th>negative_count</th>\n",
       "    </tr>\n",
       "  </thead>\n",
       "  <tbody>\n",
       "    <tr>\n",
       "      <th>0</th>\n",
       "      <td>1</td>\n",
       "      <td>2</td>\n",
       "    </tr>\n",
       "    <tr>\n",
       "      <th>1</th>\n",
       "      <td>0</td>\n",
       "      <td>2</td>\n",
       "    </tr>\n",
       "    <tr>\n",
       "      <th>2</th>\n",
       "      <td>0</td>\n",
       "      <td>0</td>\n",
       "    </tr>\n",
       "    <tr>\n",
       "      <th>3</th>\n",
       "      <td>0</td>\n",
       "      <td>1</td>\n",
       "    </tr>\n",
       "    <tr>\n",
       "      <th>4</th>\n",
       "      <td>0</td>\n",
       "      <td>0</td>\n",
       "    </tr>\n",
       "  </tbody>\n",
       "</table>\n",
       "</div>"
      ],
      "text/plain": [
       "   positive_count  negative_count\n",
       "0               1               2\n",
       "1               0               2\n",
       "2               0               0\n",
       "3               0               1\n",
       "4               0               0"
      ]
     },
     "execution_count": 63,
     "metadata": {},
     "output_type": "execute_result"
    }
   ],
   "source": [
    "counts = pd.DataFrame(list(zip(pos_count_vector, neg_count_vector)), columns = [\"positive_count\",\"negative_count\"])\n",
    "counts.head()"
   ]
  },
  {
   "cell_type": "code",
   "execution_count": 64,
   "metadata": {},
   "outputs": [],
   "source": [
    "counts['sentiment_score'] = (counts.positive_count-counts.negative_count) / (counts.positive_count+counts.negative_count+1)"
   ]
  },
  {
   "cell_type": "code",
   "execution_count": 65,
   "metadata": {},
   "outputs": [
    {
     "data": {
      "text/html": [
       "<div>\n",
       "<style scoped>\n",
       "    .dataframe tbody tr th:only-of-type {\n",
       "        vertical-align: middle;\n",
       "    }\n",
       "\n",
       "    .dataframe tbody tr th {\n",
       "        vertical-align: top;\n",
       "    }\n",
       "\n",
       "    .dataframe thead th {\n",
       "        text-align: right;\n",
       "    }\n",
       "</style>\n",
       "<table border=\"1\" class=\"dataframe\">\n",
       "  <thead>\n",
       "    <tr style=\"text-align: right;\">\n",
       "      <th></th>\n",
       "      <th>positive_count</th>\n",
       "      <th>negative_count</th>\n",
       "      <th>sentiment_score</th>\n",
       "    </tr>\n",
       "  </thead>\n",
       "  <tbody>\n",
       "    <tr>\n",
       "      <th>0</th>\n",
       "      <td>1</td>\n",
       "      <td>2</td>\n",
       "      <td>-0.250000</td>\n",
       "    </tr>\n",
       "    <tr>\n",
       "      <th>1</th>\n",
       "      <td>0</td>\n",
       "      <td>2</td>\n",
       "      <td>-0.666667</td>\n",
       "    </tr>\n",
       "    <tr>\n",
       "      <th>2</th>\n",
       "      <td>0</td>\n",
       "      <td>0</td>\n",
       "      <td>0.000000</td>\n",
       "    </tr>\n",
       "    <tr>\n",
       "      <th>3</th>\n",
       "      <td>0</td>\n",
       "      <td>1</td>\n",
       "      <td>-0.500000</td>\n",
       "    </tr>\n",
       "    <tr>\n",
       "      <th>4</th>\n",
       "      <td>0</td>\n",
       "      <td>0</td>\n",
       "      <td>0.000000</td>\n",
       "    </tr>\n",
       "  </tbody>\n",
       "</table>\n",
       "</div>"
      ],
      "text/plain": [
       "   positive_count  negative_count  sentiment_score\n",
       "0               1               2        -0.250000\n",
       "1               0               2        -0.666667\n",
       "2               0               0         0.000000\n",
       "3               0               1        -0.500000\n",
       "4               0               0         0.000000"
      ]
     },
     "execution_count": 65,
     "metadata": {},
     "output_type": "execute_result"
    }
   ],
   "source": [
    "counts.head()"
   ]
  },
  {
   "cell_type": "code",
   "execution_count": null,
   "metadata": {},
   "outputs": [],
   "source": []
  },
  {
   "cell_type": "code",
   "execution_count": 66,
   "metadata": {},
   "outputs": [
    {
     "data": {
      "text/plain": [
       "'i didnt feel humiliated'"
      ]
     },
     "execution_count": 66,
     "metadata": {},
     "output_type": "execute_result"
    }
   ],
   "source": [
    "dataset.iloc[0].Text"
   ]
  },
  {
   "cell_type": "code",
   "execution_count": 67,
   "metadata": {},
   "outputs": [],
   "source": [
    "total_count = total_pos_count + total_neg_count\n",
    "overall_positive_percentage = (total_pos_count*100)/total_count\n",
    "overall_negative_percentage = (total_neg_count*100)/total_count\n"
   ]
  },
  {
   "cell_type": "code",
   "execution_count": 68,
   "metadata": {},
   "outputs": [
    {
     "data": {
      "text/plain": [
       "(51.687641514401555, 48.312358485598445)"
      ]
     },
     "execution_count": 68,
     "metadata": {},
     "output_type": "execute_result"
    }
   ],
   "source": [
    "overall_positive_percentage, overall_negative_percentage"
   ]
  },
  {
   "cell_type": "code",
   "execution_count": 69,
   "metadata": {},
   "outputs": [
    {
     "data": {
      "text/plain": [
       "([<matplotlib.patches.Wedge at 0x7fbcec3db640>,\n",
       "  <matplotlib.patches.Wedge at 0x7fbcec34fd90>],\n",
       " [Text(-0.05829333072613106, 1.0984543174810932, 'POSITIVE'),\n",
       "  Text(0.05829333072613118, -1.0984543174810932, 'NEGATIVE')])"
      ]
     },
     "execution_count": 69,
     "metadata": {},
     "output_type": "execute_result"
    },
    {
     "data": {
      "image/png": "[encoded data removed]",
      "text/plain": [
       "<Figure size 800x550 with 1 Axes>"
      ]
     },
     "metadata": {},
     "output_type": "display_data"
    }
   ],
   "source": [
    "plt.pie([overall_positive_percentage, overall_negative_percentage], labels = [\"POSITIVE\",\"NEGATIVE\"])\n"
   ]
  },
  {
   "cell_type": "code",
   "execution_count": null,
   "metadata": {},
   "outputs": [],
   "source": []
  },
  {
   "cell_type": "markdown",
   "metadata": {},
   "source": [
    "## Building a Classifier using LSTM\n",
    "\n",
    "Long Short-Term Memory (LSTM) networks are a type of recurrent neural network capable of learning order dependence in sequence prediction problems.\n",
    "\n",
    "This is a behavior required in complex problem domains like machine translation, speech recognition, and more.\n",
    "\n",
    "LSTMs are a complex area of deep learning. It can be hard to get your hands around what LSTMs are, and how terms like bidirectional and sequence-to-sequence relate to the field.\n",
    "\n",
    "<I>\n",
    "    The Long Short Term Memory architecture was motivated by an analysis of error flow in existing RNNs which found that long time lags were inaccessible to existing architectures, because backpropagated error either blows up or decays exponentially.\n",
    "\n",
    "    An LSTM layer consists of a set of recurrently connected blocks, known as memory blocks. These blocks can be thought of as a differentiable version of the memory chips in a digital computer. Each one contains one or more recurrently connected memory cells and three multiplicative units – the input, output and forget gates – that provide continuous analogues of write, read and reset operations for the cells. … The net can only interact with the cells via the gates.\n",
    "</I>\n",
    "\n",
    "![viz](./images/LSTM3-chain.png)\n",
    "        <B>The repeating module in an LSTM contains four interacting layers. </B>\n"
   ]
  },
  {
   "cell_type": "code",
   "execution_count": 70,
   "metadata": {},
   "outputs": [
    {
     "data": {
      "text/plain": [
       "array([  0,   0,   0,   0,   0,   0,   0,   0,   0,   0,   0,   0,   0,\n",
       "         0,   0,   0,   0,   0,   0,   0,   0,   0,   0,   0,   0,   0,\n",
       "         0,   0,   0,   0,   0,   0,   0,   0,   0,   0,   0,   0,   0,\n",
       "         0,   0,   0,   0,   0,   0,   0,   0,   0,   0,   0,   0,   0,\n",
       "         0,   0,   0,   0,   0,   0,   0,   0,   0,   0,   0,   0,   0,\n",
       "         0,   0,   0,   0,   0,   0,   0,   0,   0,   0,   0,   0,   0,\n",
       "         0,   0,   0,   0,   0,   0,   0,   0,   0,   0,   0,   0,   0,\n",
       "         0,   0,   0,   0,   0,   0,   0,   0,   0,   0,   0,   0,   0,\n",
       "         0,   0,   0,   0,   0,   0,   0,   0,   0,   0,   0,   0,   0,\n",
       "         0,   0,   0,   0,   0,   0,   0,   0,   0,   0,   0,   0,   0,\n",
       "         0,   0,   0,   0,   0,   0,   0,   0,   0,   0,   0,   0,   0,\n",
       "         0,   0,   0,   0,   0,   0,   0,   0,   0,   0,   0,   0,   0,\n",
       "         0,   0,   0,   0,   0,   0,   0,   0,   0,   0,   0,   0,   0,\n",
       "         0,   0,   0,   0,   0,   0,   0,   0,   0,   0,   0,   0,   0,\n",
       "         0,   0,   0,   0,   0,   0,   0,   0,   0,   0,   0,   0,   0,\n",
       "         0,   1, 138,   2, 625], dtype=int32)"
      ]
     },
     "execution_count": 70,
     "metadata": {},
     "output_type": "execute_result"
    }
   ],
   "source": [
    "encoded_docs = tokenizer.texts_to_sequences(tweet)\n",
    "\n",
    "from tensorflow.keras.preprocessing.sequence import pad_sequences\n",
    "padded_sequence = pad_sequences(encoded_docs, maxlen=200)\n",
    "padded_sequence[0]"
   ]
  },
  {
   "cell_type": "code",
   "execution_count": 71,
   "metadata": {
    "id": "JjNZhv6clyGi"
   },
   "outputs": [
    {
     "name": "stdout",
     "output_type": "stream",
     "text": [
      "Model: \"sequential_1\"\n",
      "_________________________________________________________________\n",
      " Layer (type)                Output Shape              Param #   \n",
      "=================================================================\n",
      " embedding_1 (Embedding)     (None, 200, 32)           160000    \n",
      "                                                                 \n",
      " spatial_dropout1d (SpatialD  (None, 200, 32)          0         \n",
      " ropout1D)                                                       \n",
      "                                                                 \n",
      " lstm (LSTM)                 (None, 50)                16600     \n",
      "                                                                 \n",
      " dropout (Dropout)           (None, 50)                0         \n",
      "                                                                 \n",
      " dense_1 (Dense)             (None, 1)                 51        \n",
      "                                                                 \n",
      "=================================================================\n",
      "Total params: 176,651\n",
      "Trainable params: 176,651\n",
      "Non-trainable params: 0\n",
      "_________________________________________________________________\n",
      "None\n"
     ]
    }
   ],
   "source": [
    "from tensorflow.keras.models import Sequential\n",
    "from tensorflow.keras.layers import LSTM,Dense, Dropout, SpatialDropout1D\n",
    "from tensorflow.keras.layers import Embedding\n",
    "embedding_vector_length = 32\n",
    "vocab_size=5000\n",
    "\n",
    "model = Sequential()\n",
    "model.add(Embedding(vocab_size, embedding_vector_length, input_length=200))\n",
    "model.add(SpatialDropout1D(0.25))\n",
    "model.add(LSTM(50, dropout=0.5, recurrent_dropout=0.5))\n",
    "model.add(Dropout(0.2))\n",
    "model.add(Dense(1, activation='sigmoid'))\n",
    "model.compile(loss='binary_crossentropy',optimizer='adam', metrics=['accuracy'])\n",
    "print(model.summary())"
   ]
  },
  {
   "cell_type": "code",
   "execution_count": 72,
   "metadata": {},
   "outputs": [
    {
     "data": {
      "text/plain": [
       "Index(['sadness', 'anger', 'love', 'surprise', 'fear', 'joy'], dtype='object')"
      ]
     },
     "execution_count": 72,
     "metadata": {},
     "output_type": "execute_result"
    }
   ],
   "source": [
    "sentiment_label[1]"
   ]
  },
  {
   "cell_type": "code",
   "execution_count": null,
   "metadata": {},
   "outputs": [
    {
     "name": "stdout",
     "output_type": "stream",
     "text": [
      "Epoch 1/10\n",
      "362/500 [====================>.........] - ETA: 14s - loss: -1178.9790 - accuracy: 0.3200"
     ]
    }
   ],
   "source": [
    "history = model.fit(padded_sequence,sentiment_label[0],validation_split=0.2, epochs=10, batch_size=32)\n",
    "history.history"
   ]
  },
  {
   "cell_type": "code",
   "execution_count": 74,
   "metadata": {},
   "outputs": [
    {
     "ename": "NameError",
     "evalue": "name 'history' is not defined",
     "output_type": "error",
     "traceback": [
      "\u001b[0;31m---------------------------------------------------------------------------\u001b[0m",
      "\u001b[0;31mNameError\u001b[0m                                 Traceback (most recent call last)",
      "Input \u001b[0;32mIn [74]\u001b[0m, in \u001b[0;36m<cell line: 1>\u001b[0;34m()\u001b[0m\n\u001b[0;32m----> 1\u001b[0m \u001b[43mhistory\u001b[49m\u001b[38;5;241m.\u001b[39mhistory[\u001b[38;5;124m'\u001b[39m\u001b[38;5;124maccuracy\u001b[39m\u001b[38;5;124m'\u001b[39m]\n",
      "\u001b[0;31mNameError\u001b[0m: name 'history' is not defined"
     ]
    }
   ],
   "source": [
    "history.history['accuracy']"
   ]
  },
  {
   "cell_type": "code",
   "execution_count": null,
   "metadata": {},
   "outputs": [],
   "source": [
    "history.history['val_accuracy']"
   ]
  },
  {
   "cell_type": "markdown",
   "metadata": {},
   "source": [
    "### Plotting the Accuraccy"
   ]
  },
  {
   "cell_type": "code",
   "execution_count": null,
   "metadata": {},
   "outputs": [],
   "source": [
    "import matplotlib.pyplot as plt\n",
    "plt.plot(history.history['accuracy'], label='acc')\n",
    "plt.plot(history.history['val_accuracy'], label='val_acc')\n",
    "plt.legend()\n",
    "plt.show()\n",
    "plt.savefig(\"Accuracy plot.jpg\")"
   ]
  },
  {
   "cell_type": "markdown",
   "metadata": {},
   "source": [
    "### Plotting the Loss "
   ]
  },
  {
   "cell_type": "code",
   "execution_count": null,
   "metadata": {},
   "outputs": [],
   "source": [
    "plt.plot(history.history['loss'], label='loss')\n",
    "plt.plot(history.history['val_loss'], label='val_loss')\n",
    "plt.legend()\n",
    "plt.show()\n",
    "plt.savefig(\"Loss plt.jpg\")"
   ]
  },
  {
   "cell_type": "code",
   "execution_count": null,
   "metadata": {},
   "outputs": [],
   "source": []
  },
  {
   "cell_type": "markdown",
   "metadata": {
    "id": "j7eOTMJlma4y"
   },
   "source": [
    "### Second Step:\n",
    "Using the model that has been trained to sort tweets based on sentiment with a rating ratio."
   ]
  },
  {
   "cell_type": "code",
   "execution_count": null,
   "metadata": {
    "id": "7UahrijBm5lP"
   },
   "outputs": [],
   "source": [
    "SriLankaTweets = \"./data/SriLankaTweets.csv\""
   ]
  },
  {
   "cell_type": "code",
   "execution_count": null,
   "metadata": {
    "id": "w0YOpknDsfpN"
   },
   "outputs": [],
   "source": [
    "SriLankaTweets = pd.read_csv(SriLankaTweets)"
   ]
  },
  {
   "cell_type": "code",
   "execution_count": null,
   "metadata": {
    "colab": {
     "base_uri": "https://localhost:8080/",
     "height": 525
    },
    "id": "mf8b6U-5szu9",
    "outputId": "f8ab68b2-e4c2-4936-9ef1-303180c7250b"
   },
   "outputs": [],
   "source": [
    "SriLankaTweets.head()"
   ]
  },
  {
   "cell_type": "code",
   "execution_count": null,
   "metadata": {
    "colab": {
     "base_uri": "https://localhost:8080/",
     "height": 394
    },
    "id": "ydkHw5Ydq7DO",
    "outputId": "bc2ca757-1ac9-40fe-c561-112874ef6e3f"
   },
   "outputs": [],
   "source": [
    "SriLankaTweets.describe()"
   ]
  },
  {
   "cell_type": "code",
   "execution_count": null,
   "metadata": {
    "colab": {
     "base_uri": "https://localhost:8080/"
    },
    "id": "XpKdM_GFrE8u",
    "outputId": "66c1acfe-0d27-4f97-cc40-d01f0ac750ed"
   },
   "outputs": [],
   "source": [
    "SriLankaTweets['language'].unique()"
   ]
  },
  {
   "cell_type": "markdown",
   "metadata": {
    "id": "GOvgh5BSGyMi"
   },
   "source": [
    "#### Dataset pretreatment"
   ]
  },
  {
   "cell_type": "code",
   "execution_count": null,
   "metadata": {
    "id": "NUuiJLaXrRJX"
   },
   "outputs": [],
   "source": [
    "SriLankaTweets = SriLankaTweets.loc[SriLankaTweets['language'] == 'en']"
   ]
  },
  {
   "cell_type": "code",
   "execution_count": null,
   "metadata": {
    "colab": {
     "base_uri": "https://localhost:8080/"
    },
    "id": "sU5ZaQZ7t2V-",
    "outputId": "ffceaad2-2f96-4511-ef0d-14dc37466069"
   },
   "outputs": [],
   "source": [
    "len(SriLankaTweets)"
   ]
  },
  {
   "cell_type": "code",
   "execution_count": null,
   "metadata": {
    "colab": {
     "base_uri": "https://localhost:8080/"
    },
    "id": "xBLP7h6SxT92",
    "outputId": "79c76c40-096a-4a3e-a036-166b8cce8121"
   },
   "outputs": [],
   "source": [
    "SriLankaTweets['tweet'].dropna()"
   ]
  },
  {
   "cell_type": "code",
   "execution_count": null,
   "metadata": {
    "id": "JSw_1ShCD99y"
   },
   "outputs": [],
   "source": [
    "def preprocessingText(sentences):\n",
    "  sentences = sentences.apply(lambda sequence:\n",
    "                                              [ltrs.lower() for ltrs in sequence if ltrs not in string.punctuation])\n",
    "  sentences = sentences.apply(lambda wrd: ''.join(wrd))\n",
    "  return sentences"
   ]
  },
  {
   "cell_type": "code",
   "execution_count": null,
   "metadata": {},
   "outputs": [],
   "source": [
    "type(SriLankaTweets['tweet'][5])"
   ]
  },
  {
   "cell_type": "code",
   "execution_count": null,
   "metadata": {
    "id": "KeHNlHcKmpll"
   },
   "outputs": [],
   "source": [
    "SriLankaTweets['tweet'] = preprocessingText(SriLankaTweets['tweet'])"
   ]
  },
  {
   "cell_type": "code",
   "execution_count": null,
   "metadata": {
    "colab": {
     "base_uri": "https://localhost:8080/",
     "height": 577
    },
    "id": "OXiVJ6Oho2BP",
    "outputId": "76402578-e11a-428f-f938-5c8b0805b45b"
   },
   "outputs": [],
   "source": [
    "SriLankaTweets.head()"
   ]
  },
  {
   "cell_type": "code",
   "execution_count": null,
   "metadata": {},
   "outputs": [],
   "source": []
  },
  {
   "cell_type": "code",
   "execution_count": null,
   "metadata": {
    "id": "ZPEEE_4F4pxk"
   },
   "outputs": [],
   "source": [
    "features = SriLankaTweets['tweet']"
   ]
  },
  {
   "cell_type": "code",
   "execution_count": null,
   "metadata": {
    "colab": {
     "base_uri": "https://localhost:8080/"
    },
    "id": "sbRP6CYu44Vj",
    "outputId": "2d4e66fc-f744-4823-cfcd-fccedd930d45"
   },
   "outputs": [],
   "source": [
    "features.head()"
   ]
  },
  {
   "cell_type": "code",
   "execution_count": null,
   "metadata": {
    "colab": {
     "base_uri": "https://localhost:8080/"
    },
    "id": "2h6l1gA5t5U8",
    "outputId": "ce110904-d226-41e6-9439-e537fc16ca80"
   },
   "outputs": [],
   "source": [
    "len(features)"
   ]
  },
  {
   "cell_type": "code",
   "execution_count": null,
   "metadata": {
    "colab": {
     "base_uri": "https://localhost:8080/"
    },
    "id": "sPsBZvm3t7-l",
    "outputId": "2b461848-0ef9-40d8-aef3-ecf8212d30b3"
   },
   "outputs": [],
   "source": [
    "features.shape"
   ]
  },
  {
   "cell_type": "code",
   "execution_count": null,
   "metadata": {
    "colab": {
     "base_uri": "https://localhost:8080/"
    },
    "id": "_w9kPXcxnnm_",
    "outputId": "5c995846-c10f-46ee-e26b-4f2ce4747535"
   },
   "outputs": [],
   "source": [
    "tweets = emotion.tokenizer.texts_to_sequences(features)\n",
    "tweets = np.array(tweets).reshape(-1)\n",
    "tweets = pad_sequences(tweets, maxlen= 63)"
   ]
  },
  {
   "cell_type": "code",
   "execution_count": null,
   "metadata": {
    "colab": {
     "base_uri": "https://localhost:8080/"
    },
    "id": "T1UsVu3VoNgQ",
    "outputId": "7805bca8-6a2e-4eca-f4cd-5aa16bcab1ce"
   },
   "outputs": [],
   "source": [
    "tweets"
   ]
  },
  {
   "cell_type": "code",
   "execution_count": null,
   "metadata": {
    "colab": {
     "base_uri": "https://localhost:8080/"
    },
    "id": "nUNpv4AByA5F",
    "outputId": "1410e864-1ece-424a-9db0-791e39945dd9"
   },
   "outputs": [],
   "source": []
  },
  {
   "cell_type": "markdown",
   "metadata": {
    "id": "sUZFmlutHNBi"
   },
   "source": [
    "##Using the sentiment analysis model:\n",
    "Using the trained sentiment analysis model, in order to analyze the sentiments of tweeters within the Sri Lanka dataset.\n",
    "Sentiment type and sentiment affiliation will be preserved for each Tweet."
   ]
  },
  {
   "cell_type": "code",
   "execution_count": null,
   "metadata": {
    "id": "svLR7m52rOIP"
   },
   "outputs": [],
   "source": [
    "sentiment_labels = ['sadness', 'anger', 'love', 'surprise', 'fear', 'joy']\n",
    "sentiment_labels_encoding = [0, 1, 2, 3, 4, 5]"
   ]
  },
  {
   "cell_type": "code",
   "execution_count": null,
   "metadata": {},
   "outputs": [],
   "source": [
    "len(tweets)"
   ]
  },
  {
   "cell_type": "code",
   "execution_count": null,
   "metadata": {
    "id": "Qtloh5qbo61p"
   },
   "outputs": [],
   "source": [
    "results_sen_tweets = emotion.m.predict(tweets, batch_size = 256)"
   ]
  },
  {
   "cell_type": "code",
   "execution_count": null,
   "metadata": {},
   "outputs": [],
   "source": [
    "len(results_sen_tweets)"
   ]
  },
  {
   "cell_type": "code",
   "execution_count": null,
   "metadata": {
    "id": "jJS57Je6r_4K"
   },
   "outputs": [],
   "source": [
    "sentiments = []\n",
    "sentiment_labels1=[]\n",
    "sentiment_labels2=[]\n",
    "\n",
    "for i in results_sen_tweets:\n",
    "  res = np.argmax(i, axis = 0)\n",
    "  sentiments.append([sentiment_labels_encoding[res], i[res]])\n",
    "  sentiment_labels1.append(sentiment_labels_encoding[res])\n",
    "  sentiment_labels2.append(sentiment_labels[res])"
   ]
  },
  {
   "cell_type": "code",
   "execution_count": null,
   "metadata": {},
   "outputs": [],
   "source": [
    "data= { \"tweets\":SriLankaTweets['tweet'],\n",
    "       \"labels_num\": sentiment_labels1, \n",
    "       \"labels_text\": sentiment_labels2 \n",
    "\n",
    "      }\n",
    "\n",
    "tweet_labels_df = pd.DataFrame(data)\n",
    "tweet_labels_df.head()"
   ]
  },
  {
   "cell_type": "code",
   "execution_count": null,
   "metadata": {},
   "outputs": [],
   "source": []
  },
  {
   "cell_type": "code",
   "execution_count": null,
   "metadata": {
    "colab": {
     "base_uri": "https://localhost:8080/"
    },
    "id": "AkDZqj66q6uW",
    "outputId": "02eb7244-66a0-43be-a93f-140361d69061"
   },
   "outputs": [],
   "source": []
  },
  {
   "cell_type": "markdown",
   "metadata": {
    "id": "2OiPtGRUHgtq"
   },
   "source": [
    "### A graph showing the distribution of tweeters' feelings regarding events in Sri Lanka"
   ]
  },
  {
   "cell_type": "code",
   "execution_count": null,
   "metadata": {
    "id": "gmpEAXENzSXA"
   },
   "outputs": [],
   "source": [
    "def count_sent(sentiments, depending_on):\n",
    "  c = 0\n",
    "  for i in sentiments:\n",
    "    if i[0] == depending_on:\n",
    "      c = c + 1\n",
    "  return c    "
   ]
  },
  {
   "cell_type": "code",
   "execution_count": null,
   "metadata": {
    "id": "GcyTuOOAzZAR"
   },
   "outputs": [],
   "source": [
    "arr = []\n",
    "for i in sentiment_labels_encoding:\n",
    "  arr.append(count_sent(sentiments, i))"
   ]
  },
  {
   "cell_type": "code",
   "execution_count": null,
   "metadata": {
    "colab": {
     "base_uri": "https://localhost:8080/"
    },
    "id": "lx37Doy13Orq",
    "outputId": "68b103fc-f3de-493c-e71c-f860576b88ae"
   },
   "outputs": [],
   "source": [
    "arr"
   ]
  },
  {
   "cell_type": "code",
   "execution_count": null,
   "metadata": {
    "colab": {
     "base_uri": "https://localhost:8080/",
     "height": 575
    },
    "id": "QOfMqOIF3ceX",
    "outputId": "5c7fb67c-9f4e-44dc-82f8-2db9ec6c40b4"
   },
   "outputs": [],
   "source": [
    "plt.pie(arr, labels = sentiment_labels)\n",
    "plt.show()"
   ]
  },
  {
   "cell_type": "markdown",
   "metadata": {
    "id": "EYR431cyHyT0"
   },
   "source": [
    "####  The hierarchical distribution of each feeling:\n",
    "This stage aims to determine the degree of convergence in terms of the single feeling of the tweeters, depending on the aggregation process based on the Euclidean distance, which depends on the percentage of feeling classification."
   ]
  },
  {
   "cell_type": "code",
   "execution_count": null,
   "metadata": {},
   "outputs": [],
   "source": [
    "tweet_labels_df['labels_num'].unique()"
   ]
  },
  {
   "cell_type": "code",
   "execution_count": null,
   "metadata": {},
   "outputs": [],
   "source": [
    "from wordcloud import WordCloud,ImageColorGenerator\n",
    "from PIL import Image\n",
    "import urllib\n",
    "import requests"
   ]
  },
  {
   "cell_type": "markdown",
   "metadata": {},
   "source": [
    "### Filter out the words of a class i.e. ('sadness', 'anger', 'love', 'surprise', 'fear', 'joy')"
   ]
  },
  {
   "cell_type": "code",
   "execution_count": null,
   "metadata": {},
   "outputs": [],
   "source": []
  },
  {
   "cell_type": "code",
   "execution_count": null,
   "metadata": {},
   "outputs": [],
   "source": [
    "apply_filter ='sadness'\n",
    "\n",
    "filtered_words = ' '.join(text for text in tweet_labels_df['tweets'][tweet_labels_df['labels_text']==apply_filter])"
   ]
  },
  {
   "cell_type": "code",
   "execution_count": null,
   "metadata": {},
   "outputs": [],
   "source": [
    "# combining the image with the dataset\n",
    "# Mask = np.array(Image.open(requests.get('http://clipart-library.com/image_gallery2/Twitter-PNG-Image.png', stream=True).raw))\n",
    "Mask = np.array(Image.open('./images/Twitter-PNG-Image.png'))\n",
    "\n",
    "# We use the ImageColorGenerator library from Wordcloud \n",
    "# Here we take the color of the image and impose it over our wordcloud\n",
    "image_colors = ImageColorGenerator(Mask)\n",
    "\n",
    "# Now we use the WordCloud function from the wordcloud library \n",
    "wc = WordCloud(background_color='black', height=1500, width=4000,mask=Mask).generate(filtered_words)\n",
    "\n",
    "# Size of the image generated \n",
    "plt.figure(figsize=(10,20))\n",
    "\n",
    "# Here we recolor the words from the dataset to the image's color\n",
    "# recolor just recolors the default colors to the image's blue color\n",
    "# interpolation is used to smooth the image generated \n",
    "plt.imshow(wc.recolor(color_func=image_colors),interpolation=\"hamming\")\n",
    "\n",
    "plt.axis('off')\n",
    "plt.show()"
   ]
  },
  {
   "cell_type": "code",
   "execution_count": null,
   "metadata": {},
   "outputs": [],
   "source": []
  },
  {
   "cell_type": "markdown",
   "metadata": {},
   "source": [
    "# Extracting Features from cleaned Tweets"
   ]
  },
  {
   "cell_type": "markdown",
   "metadata": {},
   "source": [
    "### Bag-of-Words Features"
   ]
  },
  {
   "cell_type": "markdown",
   "metadata": {},
   "source": [
    "Bag of Words is a method to extract features from text documents. These features can be used for training machine learning algorithms. It creates a vocabulary of all the unique words occurring in all the documents in the training set. \n",
    "\n",
    "Consider a corpus (a collection of texts) called C of D documents {d1,d2…..dD} and N unique tokens extracted out of the corpus C. The N tokens (words) will form a list, and the size of the bag-of-words matrix M will be given by D X N. Each row in the matrix M contains the frequency of tokens in document D(i).\n",
    "\n",
    "For example, if you have 2 documents-\n",
    "\n",
    "\n",
    "\n",
    "- D1: He is a lazy boy. She is also lazy.\n",
    "\n",
    "- D2: Smith is a lazy person.\n",
    "\n",
    "First, it creates a vocabulary using unique words from all the documents\n",
    "#### [‘He’ , ’She’ , ’lazy’ , 'boy’ ,  'Smith’  , ’person’] \n",
    "\n",
    "- Here, D=2, N=6\n",
    "\n",
    "\n",
    "\n",
    "- The matrix M of size 2 X 6 will be represented as:\n",
    "\n",
    "![bow](https://s3-ap-south-1.amazonaws.com/av-blog-media/wp-content/uploads/2018/07/table.png)\n",
    "\n",
    "The above table depicts the training features containing term frequencies of each word in each document. This is called bag-of-words approach since the number of occurrence and not sequence or order of words matters in this approach."
   ]
  },
  {
   "cell_type": "markdown",
   "metadata": {},
   "source": [
    "### TF-IDF Features"
   ]
  },
  {
   "cell_type": "markdown",
   "metadata": {},
   "source": [
    "Tf-idf stands for term frequency-inverse document frequency, and the tf-idf weight is a weight often used in information retrieval and text mining. This weight is a statistical measure used to evaluate how important a word is to a document in a collection or corpus. The importance increases proportionally to the number of times a word appears in the document but is offset by the frequency of the word in the corpus. \n",
    "\n",
    "Typically, the tf-idf weight is composed by two terms: the first computes the normalized Term Frequency (TF), aka. the number of times a word appears in a document, divided by the total number of words in that document; the second term is the Inverse Document Frequency (IDF), computed as the logarithm of the number of the documents in the corpus divided by the number of documents where the specific term appears.\n",
    "\n",
    "- TF: Term Frequency, which measures how frequently a term occurs in a document. Since every document is different in length, it is possible that a term would appear much more times in long documents than shorter ones. Thus, the term frequency is often divided by the document length (aka. the total number of terms in the document) as a way of normalization: \n",
    "#### TF(t) = (Number of times term t appears in a document) / (Total number of terms in the document).\n",
    "\n",
    "- IDF: Inverse Document Frequency, which measures how important a term is. While computing TF, all terms are considered equally important. However it is known that certain terms, such as \"is\", \"of\", and \"that\", may appear a lot of times but have little importance. Thus we need to weigh down the frequent terms while scale up the rare ones, by computing the following: \n",
    "#### IDF(t) = log_e(Total number of documents / Number of documents with term t in it).\n",
    "\n",
    "#### Example:\n",
    "\n",
    "Consider a document containing 100 words wherein the word cat appears 3 times. The term frequency (i.e., tf) for cat is then (3 / 100) = 0.03. Now, assume we have 10 million documents and the word cat appears in one thousand of these. Then, the inverse document frequency (i.e., idf) is calculated as log(10,000,000 / 1,000) = 4. Thus, the Tf-idf weight is the product of these quantities: 0.03 * 4 = 0.12.\n",
    "\n"
   ]
  },
  {
   "cell_type": "code",
   "execution_count": null,
   "metadata": {},
   "outputs": [],
   "source": []
  },
  {
   "cell_type": "code",
   "execution_count": null,
   "metadata": {},
   "outputs": [],
   "source": []
  },
  {
   "cell_type": "code",
   "execution_count": null,
   "metadata": {},
   "outputs": [],
   "source": []
  },
  {
   "cell_type": "markdown",
   "metadata": {},
   "source": [
    "### Deploy the Classifier as an API"
   ]
  },
  {
   "cell_type": "code",
   "execution_count": null,
   "metadata": {},
   "outputs": [],
   "source": [
    "from flask import Flask\n",
    "import numpy as np\n",
    "from keras.models import model_from_json\n",
    "from flask import jsonify, request\n",
    "import json\n",
    "from tensorflow.keras.preprocessing.text import Tokenizer\n",
    "from tensorflow.keras.preprocessing.sequence import pad_sequences\n",
    "\n",
    "import pandas as pd\n",
    "import string\n",
    "# import requests\n",
    "\n",
    "app = Flask(__name__)\n",
    "\n",
    "# load json and create model\n",
    "json_file = open('./models/test.json', 'r')\n",
    "loaded_model = model_from_json(json_file.read())\n",
    "json_file.close()\n",
    "\n",
    "# load weights into new model\n",
    "loaded_model.load_weights(\"./models/test.json.h5\")\n",
    "print(\"Loaded model from disk\")\n",
    "\n",
    "sentiment_labels = ['sadness', 'anger', 'love', 'surprise', 'fear', 'joy']\n",
    "sentiment_labels_encoding = [0, 1, 2, 3, 4, 5]\n",
    "\n",
    "\n",
    "def preprocessingText1(sentences):\n",
    "    sentences = sentences.apply(lambda sequence:\n",
    "                                              [ltrs.lower() for ltrs in sequence if ltrs not in string.punctuation])\n",
    "    sentences = sentences.apply(lambda wrd: ''.join(wrd))\n",
    "    return sentences\n",
    "\n",
    "\n",
    "@app.route(\"/predict_sentiment\", methods=['POST'])\n",
    "def predict_sentiment(text):\n",
    "    try:\n",
    "        params = json.loads(request.get_data())\n",
    "        text = params.get(\"query\",text)\n",
    "    except Exception as e:\n",
    "        print('text= ', text)\n",
    "\n",
    "    tokenizer = Tokenizer(num_words=5000)\n",
    "    tw = preprocessingText1(pd.Series(text))\n",
    "    tw = tokenizer.texts_to_sequences(tw)\n",
    "    tw = pad_sequences(tw, maxlen= 63)\n",
    "    prob =loaded_model.predict(tw)\n",
    "    idx=pd.Series(prob[0]).idxmax()\n",
    "    prob_score = max(prob[0])\n",
    "    print(prob_score, idx, sentiment_labels[idx])\n",
    "    return {'Label': sentiment_labels[idx], 'model probability score':prob}\n",
    "#     return jsonify({'Label': sentiment_labels[idx], \n",
    "#                     'model probability score':prob})\n",
    "\n",
    "\n",
    "# if __name__ == '__main__':\n",
    "#     app.run(host='0.0.0.0', port=105)\n",
    "\n",
    "test_sentence1 = \"I enjoyed my journey on this flight.\"\n",
    "print(predict_sentiment(test_sentence1))"
   ]
  },
  {
   "cell_type": "code",
   "execution_count": null,
   "metadata": {},
   "outputs": [],
   "source": []
  },
  {
   "cell_type": "code",
   "execution_count": null,
   "metadata": {},
   "outputs": [],
   "source": []
  },
  {
   "cell_type": "code",
   "execution_count": null,
   "metadata": {},
   "outputs": [],
   "source": []
  },
  {
   "cell_type": "code",
   "execution_count": null,
   "metadata": {},
   "outputs": [],
   "source": []
  }
 ],
 "metadata": {
  "accelerator": "GPU",
  "colab": {
   "background_execution": "on",
   "collapsed_sections": [],
   "machine_shape": "hm",
   "name": "Analysis and sorting of tweeters' feelings.ipynb",
   "provenance": []
  },
  "gpuClass": "standard",
  "kernelspec": {
   "display_name": "Python 3 (ipykernel)",
   "language": "python",
   "name": "python3"
  },
  "language_info": {
   "codemirror_mode": {
    "name": "ipython",
    "version": 3
   },
   "file_extension": ".py",
   "mimetype": "text/x-python",
   "name": "python",
   "nbconvert_exporter": "python",
   "pygments_lexer": "ipython3",
   "version": "3.9.4"
  }
 },
 "nbformat": 4,
 "nbformat_minor": 1
}
