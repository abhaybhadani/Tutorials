{
 "cells": [
  {
   "cell_type": "markdown",
   "metadata": {
    "id": "wkTt79exIvD5"
   },
   "source": [
    "#  Analyzing the sentiments of the people from micro-blogging site / social media sites (Twitter)\n",
    "\n",
    "\n",
    "### Dr. Abhay Bhadani\n",
    "#### Sr. Director/Head (Data Science)\n",
    "#### Yatra Online Ltd., Gurgaon\n",
    "#### Ph.D. (IIT Delhi)\n",
    "\n"
   ]
  },
  {
   "cell_type": "markdown",
   "metadata": {},
   "source": [
    "Emotions are expressed in nuanced ways, which varies by collective or individual experiences, knowledge, and beliefs. Therefore, to understand emotion, as conveyed through text, a robust mechanism capable of capturing and modeling different linguistic nuances and phenomena is needed. Emotions reflect different users’ perspectives towards actions and events, therefore they are innately expressed in dynamic linguistic forms.\n",
    "\n",
    "\n",
    "Consider the social posts <B>“Thanks God for everything”</B> and <B>“Tnx mom for waaaaking me two hours early. Cant get asleep now”,</B> a lexicon-based model may not properly represent the emotion-relevant phrases: <I> “waaaaking me”, “Thanks God”, and “Tnx mom”. </I> First, the word “waaaaking” doesn’t exist in the English vocabulary, hence its referent may vary from its standard form, “waking”. Secondly, knowledge of the semantic similarity between the words <B>“Thanks” and “Tnx” </B> is needed to establish any relationship between the last two phrases. Even if such relationship can be established through knowledgebased techniques, it’s difficult to reliably determine the association of these phrases to a group of emotions. \n",
    "\n",
    "\n",
    "<B>Sentiment analysis is part of the Natural Language Processing (NLP).\n",
    "\n",
    "<B> It is a type of text mining which aims to determine the opinion and subjectivity of its content. \n",
    "    \n",
    "We can extract emotions related to some raw texts (e.g., reviews, comments, tweets). This is usually used on social media posts, customer reviews, customer queries, etc.  \n",
    "    \n",
    "Every customer facing industry (retail, telecom, finance, etc.) or political party or any such organizations are interested in identifying their customers’ sentiment, whether they think positive or negative, are they happy, sad, and so on about them.\n",
    "    \n",
    "Today, we shall perform a study to show how sentiment analysis can be performed using Python and how it can be deployed in production systems and host as an API."
   ]
  },
  {
   "cell_type": "markdown",
   "metadata": {},
   "source": [
    "![sen](./images/performing-twitter-sentiment-analysis1.jpg)"
   ]
  },
  {
   "cell_type": "markdown",
   "metadata": {
    "id": "NOscR54nkfDe"
   },
   "source": [
    "###  Dataset:\n",
    "\n",
    "<!-- https://www.kaggle.com/datasets/praveengovi/emotions-dataset-for-nlp -->\n",
    "\n",
    "<B>Description\n",
    "\n",
    "The data is in csv format. In computing, a comma-separated values (CSV) file stores tabular data (numbers and text) in plain text. Each line of the file is a data record. Each record consists of one or more fields, normally separated by commas. However, in this case the separator used in a semi-colon.\n",
    "\n",
    "\n",
    "Here, we will aggregate Tweets based on sentiment. The aggregation process is based on the association of tweets with the same feelings, as well as the degree and proportion of the feeling.\n",
    "\n",
    "The dataset consists of sentences that have been classified into the following categories: {'sadness', 'anger', 'love', 'surprise', 'fear', 'joy'}\n",
    "    \n",
    "    \n",
    "List of documents with emotion flag, Dataset is split into train, test & validation for building the machine learning model\n",
    "\n",
    "Example :-\n",
    "    \n",
    "    i feel like I am still looking at a blank canvas blank pieces of paper;sadness\n",
    "    \n",
    "    i cant walk into a shop anywhere where i do not feel uncomfortable;fear\n",
    "    \n",
    "    i felt anger when at the end of a telephone call;anger\n",
    "\n",
    "    i never make her separate from me because i don t ever want her to feel like i m ashamed with her;sadness\n",
    "    \n",
    "\n",
    "The methodology used is based on building a classifier using different algorithms (such as recurrent neural network) that is capable of analyzing sentiment, using a data set that includes a number of emotions.\n",
    "\n",
    "     \n",
    "    \n",
    " "
   ]
  },
  {
   "cell_type": "markdown",
   "metadata": {},
   "source": [
    "### Data Pre-Processing\n",
    "![pre](https://www.electronicsmedia.info/wp-content/uploads/2017/12/Data-Preprocessing.jpg)"
   ]
  },
  {
   "cell_type": "markdown",
   "metadata": {},
   "source": [
    "   \n",
    "<B> Approach\n",
    "    \n",
    "Text Cleaning Steps:\n",
    "    \n",
    "    1) Clean the data\n",
    "        Removing Twitter Handles (@user), Punctuations, Numbers, and Special Characters, Stop Words,\n",
    "        Removing Short Words\n",
    "    \n",
    "    2) Perform Tokenization:  \n",
    "            Tokens are individual terms or words, and tokenization is the process of splitting a string of text into tokens.\n",
    "    \n",
    "![vis](./images/tokenization.png)\n",
    "    \n",
    "    3) Stemming:\n",
    "            Stemming is a rule-based process of stripping the suffixes (“ing”, “ly”, “es”, “s” etc) from a word. For example, For example – “play”, “player”, “played”, “plays” and “playing” are the different variations of the word – “play”\n",
    "    \n",
    "![vis](./images/stemming.jpeg)\n",
    "    \n",
    "    4) Visualization the Tweets using WordCloud:\n",
    "            A wordcloud is a visualization wherein the most frequent words appear in large size and the less frequent words appear in smaller sizes.\n",
    "\n",
    "\n",
    "![vis](./images/word-cloud-sample.png)\n",
    "    \n",
    "\n",
    "The next stage involves using the trained model to sort tweets based on sentiment with a rating ratio.\n",
    "    \n"
   ]
  },
  {
   "cell_type": "markdown",
   "metadata": {},
   "source": [
    "In this partial stage, we will follow two methodologies: \n",
    "    \n",
    "    The first is to draw a graph that shows the percentage of each of the feelings of the tweeters within Twitter regarding what is happening in the state of Sri Lanka.\n",
    "    \n",
    "    The next partial stage, is to move to the study of each of these feelings for the tweeters, and try to collect them in order to determine the degree of feelings for each of them.\n",
    "    \n",
    "    The final hierarchical schemas (for each one of the feelings) will show the correlation of the tweeters in terms of the degree of affiliation with that feeling.\n",
    "    \n",
    "The Euclidean distance will be used to calculate the degree of convergence for a single feeling (depending on the percentage of tweeting classification and belonging to a specific feeling)."
   ]
  },
  {
   "cell_type": "markdown",
   "metadata": {},
   "source": [
    "### Representation of Words as Vectors\n",
    "\n",
    "There are various ways to represent words in Vector Format.\n",
    "    Bag-Of-Words\n",
    "    \n",
    "    Term Frequecy - Inverse Document Frequecy (TF-IDF)\n",
    "    \n",
    "    Word2Vec (Skip-Gram and CBOW)\n",
    "    \n",
    "    GloVe: GloVe stands for Global Vectors for word representation.\n",
    "  \n",
    "   \n",
    "    Fast-Text: FastText was introduced by Facebook back in 2016. The idea behind FastText is very similar to Word2Vec. However, there was still one thing that methods like Word2Vec and GloVe lacked. Even though both of these models have been trained on billions of words, that still means our vocabulary is limited. FastText improved over other methods because of its capability of generalization to unknown words, which had been missing all along in the other methods.\n",
    "    \n",
    "    Bidirectional Encoder Representations from Transformers (BERT): BERT is a transformer-based architecture. Transformer uses a self-attention mechanism, which is suitable for language understanding. BERT is a multi-layered encoder. \n",
    "        \n",
    "        BERT base – 12 layers, 12 attention heads, and 110 million parameters. \n",
    "        \n",
    "        BERT Large – 24 layers, 16 attention heads and, 340 million parameters.\n",
    "\n",
    "\n",
    "    \n",
    "    Sentence - Encoders\n",
    "\n",
    "\n",
    "<B>Vectorization</B> is jargon for a classic approach of converting input data from its raw format (i.e. text ) into vectors of real numbers which is the format that ML models support. This approach has been there ever since computers were first built, it has worked wonderfully across various domains, and it’s now used in NLP.\n",
    "\n",
    "\n",
    "Download a pretrained vector representation of the words. \n",
    "These pre-trained vectors have been trained using GloVe embedding technique."
   ]
  },
  {
   "cell_type": "markdown",
   "metadata": {},
   "source": [
    "![viz](./images/GloVe_Representation.png)"
   ]
  },
  {
   "cell_type": "code",
   "execution_count": null,
   "metadata": {},
   "outputs": [],
   "source": []
  },
  {
   "cell_type": "code",
   "execution_count": 1,
   "metadata": {
    "colab": {
     "base_uri": "https://localhost:8080/"
    },
    "id": "fdMrm2WGRhIz",
    "outputId": "40f2ca23-9f60-4ea5-976b-058165662f9b"
   },
   "outputs": [],
   "source": [
    "# !wget https://nlp.stanford.edu/data/glove.6B.zip"
   ]
  },
  {
   "cell_type": "code",
   "execution_count": 2,
   "metadata": {
    "colab": {
     "base_uri": "https://localhost:8080/"
    },
    "id": "cOdFRHWtS8qj",
    "outputId": "f59ef44d-fb7d-46b4-f1de-961df8fcbe24"
   },
   "outputs": [],
   "source": [
    "# !unzip glove.6B.zip"
   ]
  },
  {
   "cell_type": "code",
   "execution_count": 3,
   "metadata": {
    "id": "UouennyQlWL5"
   },
   "outputs": [],
   "source": [
    "# import opendatasets as op"
   ]
  },
  {
   "cell_type": "code",
   "execution_count": 4,
   "metadata": {
    "id": "_zTWC3B7q4hc"
   },
   "outputs": [],
   "source": [
    "# dataset_emotion = \"emotions-dataset-for-nlp\""
   ]
  },
  {
   "cell_type": "markdown",
   "metadata": {
    "id": "8lJZaw7rmLVq"
   },
   "source": [
    "#### Install and import relevant python Packages:"
   ]
  },
  {
   "cell_type": "code",
   "execution_count": 5,
   "metadata": {},
   "outputs": [],
   "source": [
    "# !pip install sklearn seaborn matplotlib tensorflow keras nltk flask requests "
   ]
  },
  {
   "cell_type": "code",
   "execution_count": 6,
   "metadata": {
    "id": "fXlUC8nS2Jhk"
   },
   "outputs": [
    {
     "name": "stderr",
     "output_type": "stream",
     "text": [
      "2022-09-06 10:51:23.736236: W tensorflow/stream_executor/platform/default/dso_loader.cc:64] Could not load dynamic library 'libcudart.so.11.0'; dlerror: libcudart.so.11.0: cannot open shared object file: No such file or directory; LD_LIBRARY_PATH: /usr/local/mpi/lib:\n",
      "2022-09-06 10:51:23.736266: I tensorflow/stream_executor/cuda/cudart_stub.cc:29] Ignore above cudart dlerror if you do not have a GPU set up on your machine.\n"
     ]
    }
   ],
   "source": [
    "import pandas as pd\n",
    "import os\n",
    "import numpy as np\n",
    "import tensorflow as tf\n",
    "import keras\n",
    "import nltk\n",
    "import string\n",
    "from tensorflow.keras.preprocessing.text import Tokenizer\n",
    "from tensorflow.keras.preprocessing.sequence import pad_sequences\n",
    "from tensorflow.keras.layers import Input, Embedding, LSTM ,Conv2D, Dense,GlobalAveragePooling1D,Flatten, Dropout , GRU, TimeDistributed, Conv1D, MaxPool1D, MaxPool2D\n",
    "from tensorflow.keras.models import Sequential\n",
    "import matplotlib.pyplot as plt\n",
    "from sklearn.preprocessing import LabelEncoder\n",
    "from tensorflow.keras.utils import to_categorical\n",
    "from sklearn.model_selection import train_test_split\n",
    "from keras.callbacks import EarlyStopping\n",
    "import matplotlib as mpl"
   ]
  },
  {
   "cell_type": "markdown",
   "metadata": {
    "id": "Ti78Jl77mOSQ"
   },
   "source": [
    "### First Step:\n",
    "building a recurrent neural network capable of analyzing emotions, using a dataset that includes a number of emotions."
   ]
  },
  {
   "cell_type": "code",
   "execution_count": 7,
   "metadata": {
    "colab": {
     "base_uri": "https://localhost:8080/"
    },
    "id": "QTldoyaQ5-xc",
    "outputId": "0ce16bb5-0522-4d30-fc08-4b929b1df4ce"
   },
   "outputs": [
    {
     "name": "stderr",
     "output_type": "stream",
     "text": [
      "[nltk_data] Downloading package stopwords to\n",
      "[nltk_data]     /home/abhay.bhadani/nltk_data...\n",
      "[nltk_data]   Package stopwords is already up-to-date!\n"
     ]
    }
   ],
   "source": [
    "from nltk.stem.porter import PorterStemmer\n",
    "from nltk.corpus import stopwords\n",
    "nltk.download('stopwords')\n",
    "porter = PorterStemmer()\n",
    "stop_words = stopwords.words('english')"
   ]
  },
  {
   "cell_type": "code",
   "execution_count": 8,
   "metadata": {
    "id": "-hCaKP731THK"
   },
   "outputs": [],
   "source": [
    "class Emotion:\n",
    "  def __init__(self, datasetFolder, batch_size, validation_split, optimizer, loss, epochs):\n",
    "    self.datasetFolder = datasetFolder\n",
    "    self.batch_size = batch_size\n",
    "    self.validation_split = validation_split\n",
    "    self.optimizer = optimizer\n",
    "    self.loss = loss\n",
    "    self.epochs = epochs\n",
    "  def readDatasetCSV(self):\n",
    "    trainDataset = pd.read_csv(os.path.join(self.datasetFolder, \"data/train.txt\"), names=['Text', 'Emotion'], sep=';')\n",
    "    testDataset = pd.read_csv(os.path.join(self.datasetFolder, \"data/test.txt\"), names=['Text', 'Emotion'], sep=';')\n",
    "    validDataset = pd.read_csv(os.path.join(self.datasetFolder, \"data/val.txt\"), names=['Text', 'Emotion'], sep=';')\n",
    "    list_dataset = [trainDataset, testDataset, validDataset]\n",
    "    self.dataset = pd.concat(list_dataset)\n",
    "  def FeaturesLables(self):\n",
    "    self.features = self.dataset['Text']\n",
    "    self.labels = self.dataset['Emotion']  \n",
    "  def splitDataset(self):\n",
    "    self.X_train, self.X_test, self.Y_train, self.Y_test = train_test_split(self.features,\n",
    "                                                                            self.labels, \n",
    "                                                                            test_size = self.validation_split)\n",
    "  def CleanFeatures(self):\n",
    "    self.features = self.features.apply(lambda sequence:\n",
    "                                              [ltrs.lower() for ltrs in sequence if ltrs not in string.punctuation])\n",
    "    self.features = self.features.apply(lambda wrd: ''.join(wrd))\n",
    "  def tokenizerDataset(self):\n",
    "    self.tokenizer = Tokenizer(num_words=5000)\n",
    "    self.tokenizer.fit_on_texts(self.features)\n",
    "    train = self.tokenizer.texts_to_sequences(self.features)\n",
    "    self.features = pad_sequences(train)\n",
    "    le = LabelEncoder()\n",
    "    self.labels = le.fit_transform(self.labels)\n",
    "    self.vocabulary = len(self.tokenizer.word_index)\n",
    "  def label_categorical(self):\n",
    "    self.labels = to_categorical(self.labels, 6)\n",
    "  def glove_word_embedding(self, file_name):\n",
    "    self.embeddings_index = {}\n",
    "    file_ = open(file_name)\n",
    "    for line in file_:\n",
    "        arr = line.split()\n",
    "        single_word = arr[0]\n",
    "        w = np.asarray(arr[1:],dtype='float32')\n",
    "        self.embeddings_index[single_word] = w\n",
    "    file_.close()\n",
    "    max_words = self.vocabulary + 1\n",
    "    word_index = self.tokenizer.word_index\n",
    "    self.embedding_matrix = np.zeros((max_words,300)).astype(object)\n",
    "    for word , i in word_index.items():\n",
    "            embedding_vector = self.embeddings_index.get(word)\n",
    "            if embedding_vector is not None:\n",
    "                self.embedding_matrix[i] = embedding_vector  \n",
    "  def model(self):\n",
    "    m = Sequential()\n",
    "    m.add(Input(shape=(self.features.shape[1], )))\n",
    "    m.add(Embedding(self.vocabulary + 1,300))\n",
    "    m.add(GRU(128, recurrent_dropout=0.3, return_sequences=False, activity_regularizer = tf.keras.regularizers.L2(0.0001)))\n",
    "    m.add(Dense(6, activation=\"softmax\", activity_regularizer = tf.keras.regularizers.L2(0.0001)))\n",
    "    self.m = m\n",
    "  def compiler(self):\n",
    "    self.m.compile(loss= self.loss,optimizer=self.optimizer,metrics=['accuracy'])\n",
    "  def fit(self):\n",
    "    earlyStopping = EarlyStopping(monitor = 'loss', patience = 20, mode = 'min', restore_best_weights = True)\n",
    "    self.history_training = self.m.fit(self.X_train, self.Y_train, epochs= self.epochs,batch_size = self.batch_size,\n",
    "                                       callbacks=[ earlyStopping])   \n",
    "    \n",
    "  def save_model(self, model_file='model.json'):\n",
    "    # serialize model to JSON\n",
    "    model_json = self.m.to_json()\n",
    "    with open(model_file, \"w\") as json_file:\n",
    "        json_file.write(model_json)\n",
    "    # serialize weights to HDF5\n",
    "        self.m.save_weights(model_file+\".h5\")\n",
    "    print(\"Saved model to disk\")"
   ]
  },
  {
   "cell_type": "code",
   "execution_count": 9,
   "metadata": {
    "id": "7lx7E5vh4JJj"
   },
   "outputs": [],
   "source": [
    "dataset_emotion = \".\"\n",
    "epochs = 1\n",
    "emotion = Emotion(dataset_emotion, 256, 0.1, 'adam', 'categorical_crossentropy', epochs)"
   ]
  },
  {
   "cell_type": "code",
   "execution_count": 10,
   "metadata": {
    "id": "VbeS33eK4ZGo"
   },
   "outputs": [],
   "source": [
    "emotion.readDatasetCSV()"
   ]
  },
  {
   "cell_type": "code",
   "execution_count": 11,
   "metadata": {
    "colab": {
     "base_uri": "https://localhost:8080/",
     "height": 206
    },
    "id": "6LOwhoJd5G_y",
    "outputId": "f6e585c5-b1c4-4eae-c762-0801ddd422ef"
   },
   "outputs": [
    {
     "data": {
      "text/html": [
       "<div>\n",
       "<style scoped>\n",
       "    .dataframe tbody tr th:only-of-type {\n",
       "        vertical-align: middle;\n",
       "    }\n",
       "\n",
       "    .dataframe tbody tr th {\n",
       "        vertical-align: top;\n",
       "    }\n",
       "\n",
       "    .dataframe thead th {\n",
       "        text-align: right;\n",
       "    }\n",
       "</style>\n",
       "<table border=\"1\" class=\"dataframe\">\n",
       "  <thead>\n",
       "    <tr style=\"text-align: right;\">\n",
       "      <th></th>\n",
       "      <th>Text</th>\n",
       "      <th>Emotion</th>\n",
       "    </tr>\n",
       "  </thead>\n",
       "  <tbody>\n",
       "    <tr>\n",
       "      <th>0</th>\n",
       "      <td>i didnt feel humiliated</td>\n",
       "      <td>sadness</td>\n",
       "    </tr>\n",
       "    <tr>\n",
       "      <th>1</th>\n",
       "      <td>i can go from feeling so hopeless to so damned...</td>\n",
       "      <td>sadness</td>\n",
       "    </tr>\n",
       "    <tr>\n",
       "      <th>2</th>\n",
       "      <td>im grabbing a minute to post i feel greedy wrong</td>\n",
       "      <td>anger</td>\n",
       "    </tr>\n",
       "    <tr>\n",
       "      <th>3</th>\n",
       "      <td>i am ever feeling nostalgic about the fireplac...</td>\n",
       "      <td>love</td>\n",
       "    </tr>\n",
       "    <tr>\n",
       "      <th>4</th>\n",
       "      <td>i am feeling grouchy</td>\n",
       "      <td>anger</td>\n",
       "    </tr>\n",
       "  </tbody>\n",
       "</table>\n",
       "</div>"
      ],
      "text/plain": [
       "                                                Text  Emotion\n",
       "0                            i didnt feel humiliated  sadness\n",
       "1  i can go from feeling so hopeless to so damned...  sadness\n",
       "2   im grabbing a minute to post i feel greedy wrong    anger\n",
       "3  i am ever feeling nostalgic about the fireplac...     love\n",
       "4                               i am feeling grouchy    anger"
      ]
     },
     "execution_count": 11,
     "metadata": {},
     "output_type": "execute_result"
    }
   ],
   "source": [
    "emotion.dataset.head()"
   ]
  },
  {
   "cell_type": "code",
   "execution_count": 12,
   "metadata": {
    "id": "eiXNZHgv68U5"
   },
   "outputs": [],
   "source": [
    "emotion.FeaturesLables()"
   ]
  },
  {
   "cell_type": "code",
   "execution_count": 13,
   "metadata": {
    "id": "Vwzhdol861C8"
   },
   "outputs": [],
   "source": [
    "emotion.CleanFeatures()"
   ]
  },
  {
   "cell_type": "code",
   "execution_count": 14,
   "metadata": {
    "colab": {
     "base_uri": "https://localhost:8080/"
    },
    "id": "8W8kXcdj7D3V",
    "outputId": "a4a64f5b-bf51-4f67-c950-e1277ec4c420"
   },
   "outputs": [
    {
     "data": {
      "text/plain": [
       "0                              i didnt feel humiliated\n",
       "1    i can go from feeling so hopeless to so damned...\n",
       "2     im grabbing a minute to post i feel greedy wrong\n",
       "3    i am ever feeling nostalgic about the fireplac...\n",
       "4                                 i am feeling grouchy\n",
       "Name: Text, dtype: object"
      ]
     },
     "execution_count": 14,
     "metadata": {},
     "output_type": "execute_result"
    }
   ],
   "source": [
    "emotion.features.head()"
   ]
  },
  {
   "cell_type": "code",
   "execution_count": 15,
   "metadata": {
    "colab": {
     "base_uri": "https://localhost:8080/"
    },
    "id": "jboiwLYR-BH5",
    "outputId": "d5af60f6-2b8d-44b5-f1f7-14c996b54fbe"
   },
   "outputs": [
    {
     "data": {
      "text/plain": [
       "array(['sadness', 'anger', 'love', 'surprise', 'fear', 'joy'],\n",
       "      dtype=object)"
      ]
     },
     "execution_count": 15,
     "metadata": {},
     "output_type": "execute_result"
    }
   ],
   "source": [
    "emotion.labels.unique()"
   ]
  },
  {
   "cell_type": "code",
   "execution_count": 16,
   "metadata": {
    "id": "YjnxHLx27LzC"
   },
   "outputs": [],
   "source": [
    "emotion.tokenizerDataset()"
   ]
  },
  {
   "cell_type": "code",
   "execution_count": 17,
   "metadata": {
    "colab": {
     "base_uri": "https://localhost:8080/"
    },
    "id": "QadS6V1r7Nzy",
    "outputId": "3d925112-0091-4f8a-8fe5-82dbcf05c66b"
   },
   "outputs": [
    {
     "data": {
      "text/plain": [
       "array([[   0,    0,    0, ...,  138,    2,  625],\n",
       "       [   0,    0,    0, ...,    3,   21, 1383],\n",
       "       [   0,    0,    0, ...,    2,  495,  420],\n",
       "       ...,\n",
       "       [   0,    0,    0, ...,    5,  215,  191],\n",
       "       [   0,    0,    0, ...,   30,   57, 2181],\n",
       "       [   0,    0,    0, ...,   75,    5,   70]], dtype=int32)"
      ]
     },
     "execution_count": 17,
     "metadata": {},
     "output_type": "execute_result"
    }
   ],
   "source": [
    "emotion.features"
   ]
  },
  {
   "cell_type": "code",
   "execution_count": 18,
   "metadata": {
    "colab": {
     "base_uri": "https://localhost:8080/"
    },
    "id": "Fkl08uAy7Svb",
    "outputId": "dbf4de3f-076c-4d82-a5be-cd703ddd2a15"
   },
   "outputs": [
    {
     "data": {
      "text/plain": [
       "array([4, 4, 0, ..., 2, 2, 2])"
      ]
     },
     "execution_count": 18,
     "metadata": {},
     "output_type": "execute_result"
    }
   ],
   "source": [
    "emotion.labels"
   ]
  },
  {
   "cell_type": "code",
   "execution_count": 19,
   "metadata": {
    "colab": {
     "base_uri": "https://localhost:8080/"
    },
    "id": "hNC3L4Ww7VGh",
    "outputId": "a98b7a8e-fb4c-4026-b277-9e732e426fd8"
   },
   "outputs": [
    {
     "data": {
      "text/plain": [
       "(20000, 63)"
      ]
     },
     "execution_count": 19,
     "metadata": {},
     "output_type": "execute_result"
    }
   ],
   "source": [
    "emotion.features.shape"
   ]
  },
  {
   "cell_type": "code",
   "execution_count": 20,
   "metadata": {
    "colab": {
     "base_uri": "https://localhost:8080/"
    },
    "id": "MTYzKXMq7pWE",
    "outputId": "689e81db-a764-4a00-f6fc-25a7d9611a94"
   },
   "outputs": [
    {
     "data": {
      "text/plain": [
       "(20000, 63)"
      ]
     },
     "execution_count": 20,
     "metadata": {},
     "output_type": "execute_result"
    }
   ],
   "source": [
    "emotion.features.shape"
   ]
  },
  {
   "cell_type": "code",
   "execution_count": 21,
   "metadata": {
    "id": "x6ZH_xy5-v8D"
   },
   "outputs": [],
   "source": [
    "emotion.label_categorical()"
   ]
  },
  {
   "cell_type": "code",
   "execution_count": 22,
   "metadata": {
    "colab": {
     "base_uri": "https://localhost:8080/"
    },
    "id": "mL6csMqQ_H56",
    "outputId": "d0aca25f-3e98-4afa-e472-df13618c47f6"
   },
   "outputs": [
    {
     "data": {
      "text/plain": [
       "array([[0., 0., 0., 0., 1., 0.],\n",
       "       [0., 0., 0., 0., 1., 0.],\n",
       "       [1., 0., 0., 0., 0., 0.],\n",
       "       ...,\n",
       "       [0., 0., 1., 0., 0., 0.],\n",
       "       [0., 0., 1., 0., 0., 0.],\n",
       "       [0., 0., 1., 0., 0., 0.]], dtype=float32)"
      ]
     },
     "execution_count": 22,
     "metadata": {},
     "output_type": "execute_result"
    }
   ],
   "source": [
    "emotion.labels"
   ]
  },
  {
   "cell_type": "code",
   "execution_count": 23,
   "metadata": {
    "id": "FGG0v5kgzhJ3"
   },
   "outputs": [],
   "source": [
    "emotion.splitDataset()"
   ]
  },
  {
   "cell_type": "code",
   "execution_count": 24,
   "metadata": {
    "id": "ZYo7knqATXgE"
   },
   "outputs": [],
   "source": [
    "emotion.glove_word_embedding(\"./pre-trained-embeddings/glove.6B.300d.txt\")"
   ]
  },
  {
   "cell_type": "code",
   "execution_count": 25,
   "metadata": {
    "colab": {
     "base_uri": "https://localhost:8080/"
    },
    "id": "ooT0Ia3Lror9",
    "outputId": "0a2ce248-e0ec-4a5e-b975-c61bd092c948"
   },
   "outputs": [
    {
     "name": "stderr",
     "output_type": "stream",
     "text": [
      "2022-09-06 10:51:51.955615: W tensorflow/stream_executor/platform/default/dso_loader.cc:64] Could not load dynamic library 'libcuda.so.1'; dlerror: libcuda.so.1: cannot open shared object file: No such file or directory; LD_LIBRARY_PATH: /usr/local/mpi/lib:\n",
      "2022-09-06 10:51:51.955642: W tensorflow/stream_executor/cuda/cuda_driver.cc:269] failed call to cuInit: UNKNOWN ERROR (303)\n",
      "2022-09-06 10:51:51.955664: I tensorflow/stream_executor/cuda/cuda_diagnostics.cc:156] kernel driver does not appear to be running on this host (lap0002592): /proc/driver/nvidia/version does not exist\n",
      "2022-09-06 10:51:51.955896: I tensorflow/core/platform/cpu_feature_guard.cc:193] This TensorFlow binary is optimized with oneAPI Deep Neural Network Library (oneDNN) to use the following CPU instructions in performance-critical operations:  AVX2 FMA\n",
      "To enable them in other operations, rebuild TensorFlow with the appropriate compiler flags.\n"
     ]
    }
   ],
   "source": [
    "emotion.model()\n",
    "emotion.m.layers[0].set_weights([emotion.embedding_matrix])\n",
    "emotion.m.layers[0].trainable = False"
   ]
  },
  {
   "cell_type": "code",
   "execution_count": 26,
   "metadata": {
    "id": "l0GVniwDTfOi"
   },
   "outputs": [],
   "source": [
    "emotion.compiler()"
   ]
  },
  {
   "cell_type": "code",
   "execution_count": 27,
   "metadata": {
    "colab": {
     "base_uri": "https://localhost:8080/"
    },
    "id": "IktgYRNWBdd6",
    "outputId": "7d0e0696-1bb5-4cf5-8a51-19d0e2390529"
   },
   "outputs": [
    {
     "name": "stdout",
     "output_type": "stream",
     "text": [
      "Model: \"sequential\"\n",
      "_________________________________________________________________\n",
      " Layer (type)                Output Shape              Param #   \n",
      "=================================================================\n",
      " embedding (Embedding)       (None, 63, 300)           5129100   \n",
      "                                                                 \n",
      " gru (GRU)                   (None, 128)               165120    \n",
      "                                                                 \n",
      " dense (Dense)               (None, 6)                 774       \n",
      "                                                                 \n",
      "=================================================================\n",
      "Total params: 5,294,994\n",
      "Trainable params: 165,894\n",
      "Non-trainable params: 5,129,100\n",
      "_________________________________________________________________\n"
     ]
    }
   ],
   "source": [
    "emotion.m.summary()"
   ]
  },
  {
   "cell_type": "code",
   "execution_count": 28,
   "metadata": {
    "colab": {
     "base_uri": "https://localhost:8080/"
    },
    "id": "PHpg5OqJBpqQ",
    "outputId": "e1355567-ebb8-4fe2-9d27-8b63787981bb"
   },
   "outputs": [
    {
     "name": "stdout",
     "output_type": "stream",
     "text": [
      "71/71 [==============================] - 19s 241ms/step - loss: 1.3595 - accuracy: 0.4891\n"
     ]
    }
   ],
   "source": [
    "emotion.fit()"
   ]
  },
  {
   "cell_type": "code",
   "execution_count": 29,
   "metadata": {},
   "outputs": [
    {
     "name": "stdout",
     "output_type": "stream",
     "text": [
      "Saved model to disk\n"
     ]
    }
   ],
   "source": [
    "emotion.save_model('test.json')\n",
    " \n"
   ]
  },
  {
   "cell_type": "code",
   "execution_count": null,
   "metadata": {},
   "outputs": [],
   "source": []
  },
  {
   "cell_type": "code",
   "execution_count": 30,
   "metadata": {
    "colab": {
     "base_uri": "https://localhost:8080/",
     "height": 280
    },
    "id": "84VnyiCkxM2O",
    "outputId": "b2a4c044-1920-431b-ed3f-5560e2055bec"
   },
   "outputs": [
    {
     "data": {
      "image/png": "[encoded data removed]",
      "text/plain": [
       "<Figure size 1500x400 with 1 Axes>"
      ]
     },
     "metadata": {},
     "output_type": "display_data"
    }
   ],
   "source": [
    "import matplotlib.pyplot as plt\n",
    "mpl.style.use('seaborn')\n",
    "figure = plt.figure(figsize=(15, 4))\n",
    "plt.plot(emotion.history_training.history['accuracy'], 'darkorange', label = 'Accuracy')\n",
    "plt.title(\"Accuracywhile training\")\n",
    "plt.show()"
   ]
  },
  {
   "cell_type": "code",
   "execution_count": 31,
   "metadata": {
    "colab": {
     "base_uri": "https://localhost:8080/",
     "height": 280
    },
    "id": "ngkfKyXyfVPN",
    "outputId": "ce085a6a-9529-4260-befe-fa2e4cbbe905"
   },
   "outputs": [
    {
     "data": {
      "image/png": "[encoded data removed]",
      "text/plain": [
       "<Figure size 1500x400 with 1 Axes>"
      ]
     },
     "metadata": {},
     "output_type": "display_data"
    }
   ],
   "source": [
    "figure = plt.figure(figsize=(15, 4))\n",
    "plt.plot(emotion.history_training.history['loss'], 'darkblue', label = 'Loss')\n",
    "plt.title(\"Loss while training\")\n",
    "plt.show()"
   ]
  },
  {
   "cell_type": "code",
   "execution_count": 32,
   "metadata": {
    "colab": {
     "base_uri": "https://localhost:8080/"
    },
    "id": "AmCFN7YIgYsG",
    "outputId": "97883276-5b81-490b-a002-b6b0fbdd75fd"
   },
   "outputs": [
    {
     "name": "stdout",
     "output_type": "stream",
     "text": [
      "8/8 [==============================] - 1s 81ms/step - loss: 1.0378 - accuracy: 0.6285\n"
     ]
    },
    {
     "data": {
      "text/plain": [
       "[1.0377964973449707, 0.6284999847412109]"
      ]
     },
     "execution_count": 32,
     "metadata": {},
     "output_type": "execute_result"
    }
   ],
   "source": [
    "emotion.m.evaluate(emotion.X_test, emotion.Y_test, batch_size = 256)"
   ]
  },
  {
   "cell_type": "code",
   "execution_count": 33,
   "metadata": {
    "id": "0L4SW7XTxfb2"
   },
   "outputs": [
    {
     "name": "stdout",
     "output_type": "stream",
     "text": [
      "63/63 [==============================] - 1s 15ms/step\n"
     ]
    }
   ],
   "source": [
    "y_pred = emotion.m.predict(emotion.X_test)"
   ]
  },
  {
   "cell_type": "code",
   "execution_count": 34,
   "metadata": {
    "id": "z-Bzg9rLy4TT"
   },
   "outputs": [],
   "source": [
    "y_pred = np.argmax(y_pred, axis = 1)"
   ]
  },
  {
   "cell_type": "code",
   "execution_count": 35,
   "metadata": {
    "colab": {
     "base_uri": "https://localhost:8080/"
    },
    "id": "X6nixaqUy89r",
    "outputId": "2602c5dc-7d98-4010-e13c-ad133ab04042"
   },
   "outputs": [
    {
     "data": {
      "text/plain": [
       "array([4, 2, 2, ..., 2, 4, 2])"
      ]
     },
     "execution_count": 35,
     "metadata": {},
     "output_type": "execute_result"
    }
   ],
   "source": [
    "y_pred"
   ]
  },
  {
   "cell_type": "code",
   "execution_count": 36,
   "metadata": {
    "id": "AUkw2x0ezAKS"
   },
   "outputs": [],
   "source": [
    "y_test = np.argmax(emotion.Y_test, axis = 1)"
   ]
  },
  {
   "cell_type": "code",
   "execution_count": 37,
   "metadata": {
    "colab": {
     "base_uri": "https://localhost:8080/"
    },
    "id": "9LUXLYXxzKQq",
    "outputId": "ede919dc-34f1-4dcd-a287-14ce084cd732"
   },
   "outputs": [
    {
     "data": {
      "text/plain": [
       "array([2, 2, 2, ..., 1, 4, 2])"
      ]
     },
     "execution_count": 37,
     "metadata": {},
     "output_type": "execute_result"
    }
   ],
   "source": [
    "y_test"
   ]
  },
  {
   "cell_type": "code",
   "execution_count": 38,
   "metadata": {
    "colab": {
     "base_uri": "https://localhost:8080/"
    },
    "id": "qKhpVX5TzRwM",
    "outputId": "fa50701c-3392-44b0-8862-5bf532d41428"
   },
   "outputs": [
    {
     "name": "stdout",
     "output_type": "stream",
     "text": [
      "0.6285\n"
     ]
    }
   ],
   "source": [
    "from sklearn.metrics import accuracy_score as acc\n",
    "print(acc(y_pred, y_test))"
   ]
  },
  {
   "cell_type": "code",
   "execution_count": 39,
   "metadata": {
    "id": "2MHH5qrIh0P-"
   },
   "outputs": [],
   "source": [
    "res = tf.math.confusion_matrix(y_pred,y_test).numpy()"
   ]
  },
  {
   "cell_type": "code",
   "execution_count": 40,
   "metadata": {
    "colab": {
     "base_uri": "https://localhost:8080/",
     "height": 238
    },
    "id": "FbZ0pOpGh57L",
    "outputId": "ed23220f-f9b5-4535-d7d8-20b06acc758f"
   },
   "outputs": [
    {
     "data": {
      "text/html": [
       "<div>\n",
       "<style scoped>\n",
       "    .dataframe tbody tr th:only-of-type {\n",
       "        vertical-align: middle;\n",
       "    }\n",
       "\n",
       "    .dataframe tbody tr th {\n",
       "        vertical-align: top;\n",
       "    }\n",
       "\n",
       "    .dataframe thead th {\n",
       "        text-align: right;\n",
       "    }\n",
       "</style>\n",
       "<table border=\"1\" class=\"dataframe\">\n",
       "  <thead>\n",
       "    <tr style=\"text-align: right;\">\n",
       "      <th></th>\n",
       "      <th>sadness</th>\n",
       "      <th>anger</th>\n",
       "      <th>love</th>\n",
       "      <th>surprise</th>\n",
       "      <th>fear</th>\n",
       "      <th>joy</th>\n",
       "    </tr>\n",
       "  </thead>\n",
       "  <tbody>\n",
       "    <tr>\n",
       "      <th>sadness</th>\n",
       "      <td>99</td>\n",
       "      <td>34</td>\n",
       "      <td>3</td>\n",
       "      <td>5</td>\n",
       "      <td>35</td>\n",
       "      <td>3</td>\n",
       "    </tr>\n",
       "    <tr>\n",
       "      <th>anger</th>\n",
       "      <td>11</td>\n",
       "      <td>50</td>\n",
       "      <td>1</td>\n",
       "      <td>0</td>\n",
       "      <td>4</td>\n",
       "      <td>8</td>\n",
       "    </tr>\n",
       "    <tr>\n",
       "      <th>love</th>\n",
       "      <td>32</td>\n",
       "      <td>29</td>\n",
       "      <td>629</td>\n",
       "      <td>103</td>\n",
       "      <td>64</td>\n",
       "      <td>36</td>\n",
       "    </tr>\n",
       "    <tr>\n",
       "      <th>surprise</th>\n",
       "      <td>2</td>\n",
       "      <td>0</td>\n",
       "      <td>5</td>\n",
       "      <td>22</td>\n",
       "      <td>0</td>\n",
       "      <td>0</td>\n",
       "    </tr>\n",
       "    <tr>\n",
       "      <th>fear</th>\n",
       "      <td>123</td>\n",
       "      <td>126</td>\n",
       "      <td>62</td>\n",
       "      <td>30</td>\n",
       "      <td>457</td>\n",
       "      <td>27</td>\n",
       "    </tr>\n",
       "    <tr>\n",
       "      <th>joy</th>\n",
       "      <td>0</td>\n",
       "      <td>0</td>\n",
       "      <td>0</td>\n",
       "      <td>0</td>\n",
       "      <td>0</td>\n",
       "      <td>0</td>\n",
       "    </tr>\n",
       "  </tbody>\n",
       "</table>\n",
       "</div>"
      ],
      "text/plain": [
       "          sadness  anger  love  surprise  fear  joy\n",
       "sadness        99     34     3         5    35    3\n",
       "anger          11     50     1         0     4    8\n",
       "love           32     29   629       103    64   36\n",
       "surprise        2      0     5        22     0    0\n",
       "fear          123    126    62        30   457   27\n",
       "joy             0      0     0         0     0    0"
      ]
     },
     "execution_count": 40,
     "metadata": {},
     "output_type": "execute_result"
    }
   ],
   "source": [
    "cm = pd.DataFrame(res,\n",
    "                     index = ['sadness', 'anger', 'love', 'surprise', 'fear', 'joy'], \n",
    "                     columns = ['sadness', 'anger', 'love', 'surprise', 'fear', 'joy'])\n",
    "cm"
   ]
  },
  {
   "cell_type": "code",
   "execution_count": null,
   "metadata": {},
   "outputs": [],
   "source": [
    "\n"
   ]
  },
  {
   "cell_type": "code",
   "execution_count": 41,
   "metadata": {
    "colab": {
     "base_uri": "https://localhost:8080/",
     "height": 442
    },
    "id": "_q6oYtSmiI7Z",
    "outputId": "f3731b71-5429-42f8-9326-0b6b8589e53b"
   },
   "outputs": [
    {
     "data": {
      "image/png": "[encoded data removed]",
      "text/plain": [
       "<Figure size 700x700 with 2 Axes>"
      ]
     },
     "metadata": {},
     "output_type": "display_data"
    }
   ],
   "source": [
    "import seaborn as sns\n",
    "figure = plt.figure(figsize=(7, 7))\n",
    "sns.heatmap(cm, annot=True, cmap=plt.cm.Blues)\n",
    "plt.ylabel('True label')\n",
    "plt.xlabel('Predicted label')\n",
    "plt.show()"
   ]
  },
  {
   "cell_type": "code",
   "execution_count": null,
   "metadata": {
    "id": "JjNZhv6clyGi"
   },
   "outputs": [],
   "source": []
  },
  {
   "cell_type": "markdown",
   "metadata": {
    "id": "j7eOTMJlma4y"
   },
   "source": [
    "### Second Step:\n",
    "Using the model that has been trained to sort tweets based on sentiment with a rating ratio."
   ]
  },
  {
   "cell_type": "code",
   "execution_count": 42,
   "metadata": {
    "id": "7UahrijBm5lP"
   },
   "outputs": [],
   "source": [
    "SriLankaTweets = \"./data/SriLankaTweets.csv\""
   ]
  },
  {
   "cell_type": "code",
   "execution_count": 43,
   "metadata": {
    "id": "w0YOpknDsfpN"
   },
   "outputs": [],
   "source": [
    "SriLankaTweets = pd.read_csv(SriLankaTweets)"
   ]
  },
  {
   "cell_type": "code",
   "execution_count": 44,
   "metadata": {
    "colab": {
     "base_uri": "https://localhost:8080/",
     "height": 525
    },
    "id": "mf8b6U-5szu9",
    "outputId": "f8ab68b2-e4c2-4936-9ef1-303180c7250b"
   },
   "outputs": [
    {
     "data": {
      "text/html": [
       "<div>\n",
       "<style scoped>\n",
       "    .dataframe tbody tr th:only-of-type {\n",
       "        vertical-align: middle;\n",
       "    }\n",
       "\n",
       "    .dataframe tbody tr th {\n",
       "        vertical-align: top;\n",
       "    }\n",
       "\n",
       "    .dataframe thead th {\n",
       "        text-align: right;\n",
       "    }\n",
       "</style>\n",
       "<table border=\"1\" class=\"dataframe\">\n",
       "  <thead>\n",
       "    <tr style=\"text-align: right;\">\n",
       "      <th></th>\n",
       "      <th>Unnamed: 0</th>\n",
       "      <th>id</th>\n",
       "      <th>conversation_id</th>\n",
       "      <th>created_at</th>\n",
       "      <th>date</th>\n",
       "      <th>timezone</th>\n",
       "      <th>place</th>\n",
       "      <th>tweet</th>\n",
       "      <th>language</th>\n",
       "      <th>hashtags</th>\n",
       "      <th>...</th>\n",
       "      <th>geo</th>\n",
       "      <th>source</th>\n",
       "      <th>user_rt_id</th>\n",
       "      <th>user_rt</th>\n",
       "      <th>retweet_id</th>\n",
       "      <th>reply_to</th>\n",
       "      <th>retweet_date</th>\n",
       "      <th>translate</th>\n",
       "      <th>trans_src</th>\n",
       "      <th>trans_dest</th>\n",
       "    </tr>\n",
       "  </thead>\n",
       "  <tbody>\n",
       "    <tr>\n",
       "      <th>0</th>\n",
       "      <td>0</td>\n",
       "      <td>1546235784730230785</td>\n",
       "      <td>1546089912042127362</td>\n",
       "      <td>1.657486e+12</td>\n",
       "      <td>2022-07-10 20:51:53</td>\n",
       "      <td>0</td>\n",
       "      <td>NaN</td>\n",
       "      <td>@MrJonasDanner Das geht doch seit Beginn der B...</td>\n",
       "      <td>de</td>\n",
       "      <td>[]</td>\n",
       "      <td>...</td>\n",
       "      <td>NaN</td>\n",
       "      <td>NaN</td>\n",
       "      <td>NaN</td>\n",
       "      <td>NaN</td>\n",
       "      <td>NaN</td>\n",
       "      <td>[{'screen_name': 'MrJonasDanner', 'name': 'Jon...</td>\n",
       "      <td>NaN</td>\n",
       "      <td>NaN</td>\n",
       "      <td>NaN</td>\n",
       "      <td>NaN</td>\n",
       "    </tr>\n",
       "    <tr>\n",
       "      <th>1</th>\n",
       "      <td>1</td>\n",
       "      <td>1546235779906781186</td>\n",
       "      <td>1546235779906781186</td>\n",
       "      <td>1.657486e+12</td>\n",
       "      <td>2022-07-10 20:51:52</td>\n",
       "      <td>0</td>\n",
       "      <td>NaN</td>\n",
       "      <td>Artículo lúcido y bien informado sobre la cris...</td>\n",
       "      <td>es</td>\n",
       "      <td>[]</td>\n",
       "      <td>...</td>\n",
       "      <td>NaN</td>\n",
       "      <td>NaN</td>\n",
       "      <td>NaN</td>\n",
       "      <td>NaN</td>\n",
       "      <td>NaN</td>\n",
       "      <td>[]</td>\n",
       "      <td>NaN</td>\n",
       "      <td>NaN</td>\n",
       "      <td>NaN</td>\n",
       "      <td>NaN</td>\n",
       "    </tr>\n",
       "    <tr>\n",
       "      <th>2</th>\n",
       "      <td>2</td>\n",
       "      <td>1546235777633468416</td>\n",
       "      <td>1546235777633468416</td>\n",
       "      <td>1.657486e+12</td>\n",
       "      <td>2022-07-10 20:51:51</td>\n",
       "      <td>0</td>\n",
       "      <td>NaN</td>\n",
       "      <td>En argentina y después de lo de Sri Lanka la g...</td>\n",
       "      <td>es</td>\n",
       "      <td>[]</td>\n",
       "      <td>...</td>\n",
       "      <td>NaN</td>\n",
       "      <td>NaN</td>\n",
       "      <td>NaN</td>\n",
       "      <td>NaN</td>\n",
       "      <td>NaN</td>\n",
       "      <td>[]</td>\n",
       "      <td>NaN</td>\n",
       "      <td>NaN</td>\n",
       "      <td>NaN</td>\n",
       "      <td>NaN</td>\n",
       "    </tr>\n",
       "    <tr>\n",
       "      <th>3</th>\n",
       "      <td>3</td>\n",
       "      <td>1546235770582847496</td>\n",
       "      <td>1546185673593524225</td>\n",
       "      <td>1.657486e+12</td>\n",
       "      <td>2022-07-10 20:51:50</td>\n",
       "      <td>0</td>\n",
       "      <td>NaN</td>\n",
       "      <td>@Haqeeqat_TV Ab na daro aur sikho  in Sri lank...</td>\n",
       "      <td>hi</td>\n",
       "      <td>[]</td>\n",
       "      <td>...</td>\n",
       "      <td>NaN</td>\n",
       "      <td>NaN</td>\n",
       "      <td>NaN</td>\n",
       "      <td>NaN</td>\n",
       "      <td>NaN</td>\n",
       "      <td>[{'screen_name': 'Haqeeqat_TV', 'name': 'Haqee...</td>\n",
       "      <td>NaN</td>\n",
       "      <td>NaN</td>\n",
       "      <td>NaN</td>\n",
       "      <td>NaN</td>\n",
       "    </tr>\n",
       "    <tr>\n",
       "      <th>4</th>\n",
       "      <td>4</td>\n",
       "      <td>1546235754342498308</td>\n",
       "      <td>1546235754342498308</td>\n",
       "      <td>1.657486e+12</td>\n",
       "      <td>2022-07-10 20:51:46</td>\n",
       "      <td>0</td>\n",
       "      <td>NaN</td>\n",
       "      <td>Resigned or Arrested?  1. Sri Lanka's presiden...</td>\n",
       "      <td>et</td>\n",
       "      <td>[]</td>\n",
       "      <td>...</td>\n",
       "      <td>NaN</td>\n",
       "      <td>NaN</td>\n",
       "      <td>NaN</td>\n",
       "      <td>NaN</td>\n",
       "      <td>NaN</td>\n",
       "      <td>[]</td>\n",
       "      <td>NaN</td>\n",
       "      <td>NaN</td>\n",
       "      <td>NaN</td>\n",
       "      <td>NaN</td>\n",
       "    </tr>\n",
       "  </tbody>\n",
       "</table>\n",
       "<p>5 rows × 39 columns</p>\n",
       "</div>"
      ],
      "text/plain": [
       "   Unnamed: 0                   id      conversation_id    created_at  \\\n",
       "0           0  1546235784730230785  1546089912042127362  1.657486e+12   \n",
       "1           1  1546235779906781186  1546235779906781186  1.657486e+12   \n",
       "2           2  1546235777633468416  1546235777633468416  1.657486e+12   \n",
       "3           3  1546235770582847496  1546185673593524225  1.657486e+12   \n",
       "4           4  1546235754342498308  1546235754342498308  1.657486e+12   \n",
       "\n",
       "                  date  timezone place  \\\n",
       "0  2022-07-10 20:51:53         0   NaN   \n",
       "1  2022-07-10 20:51:52         0   NaN   \n",
       "2  2022-07-10 20:51:51         0   NaN   \n",
       "3  2022-07-10 20:51:50         0   NaN   \n",
       "4  2022-07-10 20:51:46         0   NaN   \n",
       "\n",
       "                                               tweet language hashtags  ...  \\\n",
       "0  @MrJonasDanner Das geht doch seit Beginn der B...       de       []  ...   \n",
       "1  Artículo lúcido y bien informado sobre la cris...       es       []  ...   \n",
       "2  En argentina y después de lo de Sri Lanka la g...       es       []  ...   \n",
       "3  @Haqeeqat_TV Ab na daro aur sikho  in Sri lank...       hi       []  ...   \n",
       "4  Resigned or Arrested?  1. Sri Lanka's presiden...       et       []  ...   \n",
       "\n",
       "  geo  source  user_rt_id user_rt retweet_id  \\\n",
       "0 NaN     NaN         NaN     NaN        NaN   \n",
       "1 NaN     NaN         NaN     NaN        NaN   \n",
       "2 NaN     NaN         NaN     NaN        NaN   \n",
       "3 NaN     NaN         NaN     NaN        NaN   \n",
       "4 NaN     NaN         NaN     NaN        NaN   \n",
       "\n",
       "                                            reply_to  retweet_date translate  \\\n",
       "0  [{'screen_name': 'MrJonasDanner', 'name': 'Jon...           NaN       NaN   \n",
       "1                                                 []           NaN       NaN   \n",
       "2                                                 []           NaN       NaN   \n",
       "3  [{'screen_name': 'Haqeeqat_TV', 'name': 'Haqee...           NaN       NaN   \n",
       "4                                                 []           NaN       NaN   \n",
       "\n",
       "  trans_src trans_dest  \n",
       "0       NaN        NaN  \n",
       "1       NaN        NaN  \n",
       "2       NaN        NaN  \n",
       "3       NaN        NaN  \n",
       "4       NaN        NaN  \n",
       "\n",
       "[5 rows x 39 columns]"
      ]
     },
     "execution_count": 44,
     "metadata": {},
     "output_type": "execute_result"
    }
   ],
   "source": [
    "SriLankaTweets.head()"
   ]
  },
  {
   "cell_type": "code",
   "execution_count": 45,
   "metadata": {
    "colab": {
     "base_uri": "https://localhost:8080/",
     "height": 394
    },
    "id": "ydkHw5Ydq7DO",
    "outputId": "bc2ca757-1ac9-40fe-c561-112874ef6e3f"
   },
   "outputs": [
    {
     "data": {
      "text/html": [
       "<div>\n",
       "<style scoped>\n",
       "    .dataframe tbody tr th:only-of-type {\n",
       "        vertical-align: middle;\n",
       "    }\n",
       "\n",
       "    .dataframe tbody tr th {\n",
       "        vertical-align: top;\n",
       "    }\n",
       "\n",
       "    .dataframe thead th {\n",
       "        text-align: right;\n",
       "    }\n",
       "</style>\n",
       "<table border=\"1\" class=\"dataframe\">\n",
       "  <thead>\n",
       "    <tr style=\"text-align: right;\">\n",
       "      <th></th>\n",
       "      <th>Unnamed: 0</th>\n",
       "      <th>id</th>\n",
       "      <th>conversation_id</th>\n",
       "      <th>created_at</th>\n",
       "      <th>timezone</th>\n",
       "      <th>user_id</th>\n",
       "      <th>user_id_str</th>\n",
       "      <th>day</th>\n",
       "      <th>hour</th>\n",
       "      <th>video</th>\n",
       "      <th>...</th>\n",
       "      <th>near</th>\n",
       "      <th>geo</th>\n",
       "      <th>source</th>\n",
       "      <th>user_rt_id</th>\n",
       "      <th>user_rt</th>\n",
       "      <th>retweet_id</th>\n",
       "      <th>retweet_date</th>\n",
       "      <th>translate</th>\n",
       "      <th>trans_src</th>\n",
       "      <th>trans_dest</th>\n",
       "    </tr>\n",
       "  </thead>\n",
       "  <tbody>\n",
       "    <tr>\n",
       "      <th>count</th>\n",
       "      <td>10004.00000</td>\n",
       "      <td>1.000400e+04</td>\n",
       "      <td>1.000400e+04</td>\n",
       "      <td>1.000400e+04</td>\n",
       "      <td>10004.0</td>\n",
       "      <td>1.000400e+04</td>\n",
       "      <td>1.000400e+04</td>\n",
       "      <td>10004.0</td>\n",
       "      <td>10004.000000</td>\n",
       "      <td>10004.000000</td>\n",
       "      <td>...</td>\n",
       "      <td>0.0</td>\n",
       "      <td>0.0</td>\n",
       "      <td>0.0</td>\n",
       "      <td>0.0</td>\n",
       "      <td>0.0</td>\n",
       "      <td>0.0</td>\n",
       "      <td>0.0</td>\n",
       "      <td>0.0</td>\n",
       "      <td>0.0</td>\n",
       "      <td>0.0</td>\n",
       "    </tr>\n",
       "    <tr>\n",
       "      <th>mean</th>\n",
       "      <td>5001.50000</td>\n",
       "      <td>1.546203e+18</td>\n",
       "      <td>1.545351e+18</td>\n",
       "      <td>1.657478e+12</td>\n",
       "      <td>0.0</td>\n",
       "      <td>7.201205e+17</td>\n",
       "      <td>7.201205e+17</td>\n",
       "      <td>7.0</td>\n",
       "      <td>18.183727</td>\n",
       "      <td>0.158437</td>\n",
       "      <td>...</td>\n",
       "      <td>NaN</td>\n",
       "      <td>NaN</td>\n",
       "      <td>NaN</td>\n",
       "      <td>NaN</td>\n",
       "      <td>NaN</td>\n",
       "      <td>NaN</td>\n",
       "      <td>NaN</td>\n",
       "      <td>NaN</td>\n",
       "      <td>NaN</td>\n",
       "      <td>NaN</td>\n",
       "    </tr>\n",
       "    <tr>\n",
       "      <th>std</th>\n",
       "      <td>2888.05038</td>\n",
       "      <td>1.702829e+13</td>\n",
       "      <td>1.817498e+16</td>\n",
       "      <td>4.059854e+06</td>\n",
       "      <td>0.0</td>\n",
       "      <td>6.565444e+17</td>\n",
       "      <td>6.565444e+17</td>\n",
       "      <td>0.0</td>\n",
       "      <td>1.131568</td>\n",
       "      <td>0.365168</td>\n",
       "      <td>...</td>\n",
       "      <td>NaN</td>\n",
       "      <td>NaN</td>\n",
       "      <td>NaN</td>\n",
       "      <td>NaN</td>\n",
       "      <td>NaN</td>\n",
       "      <td>NaN</td>\n",
       "      <td>NaN</td>\n",
       "      <td>NaN</td>\n",
       "      <td>NaN</td>\n",
       "      <td>NaN</td>\n",
       "    </tr>\n",
       "    <tr>\n",
       "      <th>min</th>\n",
       "      <td>0.00000</td>\n",
       "      <td>1.546176e+18</td>\n",
       "      <td>4.317868e+17</td>\n",
       "      <td>1.657472e+12</td>\n",
       "      <td>0.0</td>\n",
       "      <td>7.592490e+05</td>\n",
       "      <td>7.592490e+05</td>\n",
       "      <td>7.0</td>\n",
       "      <td>16.000000</td>\n",
       "      <td>0.000000</td>\n",
       "      <td>...</td>\n",
       "      <td>NaN</td>\n",
       "      <td>NaN</td>\n",
       "      <td>NaN</td>\n",
       "      <td>NaN</td>\n",
       "      <td>NaN</td>\n",
       "      <td>NaN</td>\n",
       "      <td>NaN</td>\n",
       "      <td>NaN</td>\n",
       "      <td>NaN</td>\n",
       "      <td>NaN</td>\n",
       "    </tr>\n",
       "    <tr>\n",
       "      <th>25%</th>\n",
       "      <td>2500.75000</td>\n",
       "      <td>1.546188e+18</td>\n",
       "      <td>1.546161e+18</td>\n",
       "      <td>1.657475e+12</td>\n",
       "      <td>0.0</td>\n",
       "      <td>5.259509e+08</td>\n",
       "      <td>5.259509e+08</td>\n",
       "      <td>7.0</td>\n",
       "      <td>17.000000</td>\n",
       "      <td>0.000000</td>\n",
       "      <td>...</td>\n",
       "      <td>NaN</td>\n",
       "      <td>NaN</td>\n",
       "      <td>NaN</td>\n",
       "      <td>NaN</td>\n",
       "      <td>NaN</td>\n",
       "      <td>NaN</td>\n",
       "      <td>NaN</td>\n",
       "      <td>NaN</td>\n",
       "      <td>NaN</td>\n",
       "      <td>NaN</td>\n",
       "    </tr>\n",
       "    <tr>\n",
       "      <th>50%</th>\n",
       "      <td>5001.50000</td>\n",
       "      <td>1.546201e+18</td>\n",
       "      <td>1.546189e+18</td>\n",
       "      <td>1.657478e+12</td>\n",
       "      <td>0.0</td>\n",
       "      <td>9.101587e+17</td>\n",
       "      <td>9.101587e+17</td>\n",
       "      <td>7.0</td>\n",
       "      <td>18.000000</td>\n",
       "      <td>0.000000</td>\n",
       "      <td>...</td>\n",
       "      <td>NaN</td>\n",
       "      <td>NaN</td>\n",
       "      <td>NaN</td>\n",
       "      <td>NaN</td>\n",
       "      <td>NaN</td>\n",
       "      <td>NaN</td>\n",
       "      <td>NaN</td>\n",
       "      <td>NaN</td>\n",
       "      <td>NaN</td>\n",
       "      <td>NaN</td>\n",
       "    </tr>\n",
       "    <tr>\n",
       "      <th>75%</th>\n",
       "      <td>7502.25000</td>\n",
       "      <td>1.546217e+18</td>\n",
       "      <td>1.546208e+18</td>\n",
       "      <td>1.657482e+12</td>\n",
       "      <td>0.0</td>\n",
       "      <td>1.383220e+18</td>\n",
       "      <td>1.383220e+18</td>\n",
       "      <td>7.0</td>\n",
       "      <td>19.000000</td>\n",
       "      <td>0.000000</td>\n",
       "      <td>...</td>\n",
       "      <td>NaN</td>\n",
       "      <td>NaN</td>\n",
       "      <td>NaN</td>\n",
       "      <td>NaN</td>\n",
       "      <td>NaN</td>\n",
       "      <td>NaN</td>\n",
       "      <td>NaN</td>\n",
       "      <td>NaN</td>\n",
       "      <td>NaN</td>\n",
       "      <td>NaN</td>\n",
       "    </tr>\n",
       "    <tr>\n",
       "      <th>max</th>\n",
       "      <td>10003.00000</td>\n",
       "      <td>1.546236e+18</td>\n",
       "      <td>1.546236e+18</td>\n",
       "      <td>1.657486e+12</td>\n",
       "      <td>0.0</td>\n",
       "      <td>1.546220e+18</td>\n",
       "      <td>1.546220e+18</td>\n",
       "      <td>7.0</td>\n",
       "      <td>20.000000</td>\n",
       "      <td>1.000000</td>\n",
       "      <td>...</td>\n",
       "      <td>NaN</td>\n",
       "      <td>NaN</td>\n",
       "      <td>NaN</td>\n",
       "      <td>NaN</td>\n",
       "      <td>NaN</td>\n",
       "      <td>NaN</td>\n",
       "      <td>NaN</td>\n",
       "      <td>NaN</td>\n",
       "      <td>NaN</td>\n",
       "      <td>NaN</td>\n",
       "    </tr>\n",
       "  </tbody>\n",
       "</table>\n",
       "<p>8 rows × 23 columns</p>\n",
       "</div>"
      ],
      "text/plain": [
       "        Unnamed: 0            id  conversation_id    created_at  timezone  \\\n",
       "count  10004.00000  1.000400e+04     1.000400e+04  1.000400e+04   10004.0   \n",
       "mean    5001.50000  1.546203e+18     1.545351e+18  1.657478e+12       0.0   \n",
       "std     2888.05038  1.702829e+13     1.817498e+16  4.059854e+06       0.0   \n",
       "min        0.00000  1.546176e+18     4.317868e+17  1.657472e+12       0.0   \n",
       "25%     2500.75000  1.546188e+18     1.546161e+18  1.657475e+12       0.0   \n",
       "50%     5001.50000  1.546201e+18     1.546189e+18  1.657478e+12       0.0   \n",
       "75%     7502.25000  1.546217e+18     1.546208e+18  1.657482e+12       0.0   \n",
       "max    10003.00000  1.546236e+18     1.546236e+18  1.657486e+12       0.0   \n",
       "\n",
       "            user_id   user_id_str      day          hour         video  ...  \\\n",
       "count  1.000400e+04  1.000400e+04  10004.0  10004.000000  10004.000000  ...   \n",
       "mean   7.201205e+17  7.201205e+17      7.0     18.183727      0.158437  ...   \n",
       "std    6.565444e+17  6.565444e+17      0.0      1.131568      0.365168  ...   \n",
       "min    7.592490e+05  7.592490e+05      7.0     16.000000      0.000000  ...   \n",
       "25%    5.259509e+08  5.259509e+08      7.0     17.000000      0.000000  ...   \n",
       "50%    9.101587e+17  9.101587e+17      7.0     18.000000      0.000000  ...   \n",
       "75%    1.383220e+18  1.383220e+18      7.0     19.000000      0.000000  ...   \n",
       "max    1.546220e+18  1.546220e+18      7.0     20.000000      1.000000  ...   \n",
       "\n",
       "       near  geo  source  user_rt_id  user_rt  retweet_id  retweet_date  \\\n",
       "count   0.0  0.0     0.0         0.0      0.0         0.0           0.0   \n",
       "mean    NaN  NaN     NaN         NaN      NaN         NaN           NaN   \n",
       "std     NaN  NaN     NaN         NaN      NaN         NaN           NaN   \n",
       "min     NaN  NaN     NaN         NaN      NaN         NaN           NaN   \n",
       "25%     NaN  NaN     NaN         NaN      NaN         NaN           NaN   \n",
       "50%     NaN  NaN     NaN         NaN      NaN         NaN           NaN   \n",
       "75%     NaN  NaN     NaN         NaN      NaN         NaN           NaN   \n",
       "max     NaN  NaN     NaN         NaN      NaN         NaN           NaN   \n",
       "\n",
       "       translate  trans_src  trans_dest  \n",
       "count        0.0        0.0         0.0  \n",
       "mean         NaN        NaN         NaN  \n",
       "std          NaN        NaN         NaN  \n",
       "min          NaN        NaN         NaN  \n",
       "25%          NaN        NaN         NaN  \n",
       "50%          NaN        NaN         NaN  \n",
       "75%          NaN        NaN         NaN  \n",
       "max          NaN        NaN         NaN  \n",
       "\n",
       "[8 rows x 23 columns]"
      ]
     },
     "execution_count": 45,
     "metadata": {},
     "output_type": "execute_result"
    }
   ],
   "source": [
    "SriLankaTweets.describe()"
   ]
  },
  {
   "cell_type": "code",
   "execution_count": 46,
   "metadata": {
    "colab": {
     "base_uri": "https://localhost:8080/"
    },
    "id": "XpKdM_GFrE8u",
    "outputId": "66c1acfe-0d27-4f97-cc40-d01f0ac750ed"
   },
   "outputs": [
    {
     "data": {
      "text/plain": [
       "array(['de', 'es', 'hi', 'et', 'en', 'in', 'fr', 'tr', 'qht', 'it', 'ar',\n",
       "       'lt', 'und', 'ca', 'tl', 'qme', 'pt', 'ur', 'pl', 'zxx', 'nl',\n",
       "       'sv', 'bn', 'cs', 'ht', 'ta', 'da', 'qam', 'ro', 'si', 'fi', 'el',\n",
       "       'sl', 'cy', 'th', 'no', 'mr', 'kn', 'fa', 'ml', 'hu', 'lv', 'am',\n",
       "       'ru', 'vi', 'ja', 'ne', 'te', 'gu'], dtype=object)"
      ]
     },
     "execution_count": 46,
     "metadata": {},
     "output_type": "execute_result"
    }
   ],
   "source": [
    "SriLankaTweets['language'].unique()"
   ]
  },
  {
   "cell_type": "markdown",
   "metadata": {
    "id": "GOvgh5BSGyMi"
   },
   "source": [
    "#### Dataset pretreatment"
   ]
  },
  {
   "cell_type": "code",
   "execution_count": 47,
   "metadata": {
    "id": "NUuiJLaXrRJX"
   },
   "outputs": [],
   "source": [
    "SriLankaTweets = SriLankaTweets.loc[SriLankaTweets['language'] == 'en']"
   ]
  },
  {
   "cell_type": "code",
   "execution_count": 48,
   "metadata": {
    "colab": {
     "base_uri": "https://localhost:8080/"
    },
    "id": "sU5ZaQZ7t2V-",
    "outputId": "ffceaad2-2f96-4511-ef0d-14dc37466069"
   },
   "outputs": [
    {
     "data": {
      "text/plain": [
       "5008"
      ]
     },
     "execution_count": 48,
     "metadata": {},
     "output_type": "execute_result"
    }
   ],
   "source": [
    "len(SriLankaTweets)"
   ]
  },
  {
   "cell_type": "code",
   "execution_count": 49,
   "metadata": {
    "colab": {
     "base_uri": "https://localhost:8080/"
    },
    "id": "xBLP7h6SxT92",
    "outputId": "79c76c40-096a-4a3e-a036-166b8cce8121"
   },
   "outputs": [
    {
     "data": {
      "text/plain": [
       "5        Sri Lanka protesters vow to occupy presidentia...\n",
       "7        @cricketbetting @sampsoncollins @Richard_Mann1...\n",
       "8        @CeyTamAtheist Worship animals hoping for divi...\n",
       "10       Yesterday it was Sri Lanka. Today it's Albania...\n",
       "11       Groundwater shortage is known, flooding too. W...\n",
       "                               ...                        \n",
       "9993     @narendramodi ji are you aware of what's happe...\n",
       "9994     \"The United States, together with many other m...\n",
       "9995     @Swamy39 You never know or get what people are...\n",
       "9997     Education minister is busy in cutting ribbons ...\n",
       "10003    Are you going to attack the peaceful protester...\n",
       "Name: tweet, Length: 5008, dtype: object"
      ]
     },
     "execution_count": 49,
     "metadata": {},
     "output_type": "execute_result"
    }
   ],
   "source": [
    "SriLankaTweets['tweet'].dropna()"
   ]
  },
  {
   "cell_type": "code",
   "execution_count": 50,
   "metadata": {
    "id": "JSw_1ShCD99y"
   },
   "outputs": [],
   "source": [
    "def preprocessingText(sentences):\n",
    "  sentences = sentences.apply(lambda sequence:\n",
    "                                              [ltrs.lower() for ltrs in sequence if ltrs not in string.punctuation])\n",
    "  sentences = sentences.apply(lambda wrd: ''.join(wrd))\n",
    "  return sentences"
   ]
  },
  {
   "cell_type": "code",
   "execution_count": 51,
   "metadata": {},
   "outputs": [
    {
     "data": {
      "text/plain": [
       "str"
      ]
     },
     "execution_count": 51,
     "metadata": {},
     "output_type": "execute_result"
    }
   ],
   "source": [
    "type(SriLankaTweets['tweet'][5])"
   ]
  },
  {
   "cell_type": "code",
   "execution_count": 52,
   "metadata": {
    "id": "KeHNlHcKmpll"
   },
   "outputs": [],
   "source": [
    "SriLankaTweets['tweet'] = preprocessingText(SriLankaTweets['tweet'])"
   ]
  },
  {
   "cell_type": "code",
   "execution_count": 53,
   "metadata": {
    "colab": {
     "base_uri": "https://localhost:8080/",
     "height": 577
    },
    "id": "OXiVJ6Oho2BP",
    "outputId": "76402578-e11a-428f-f938-5c8b0805b45b"
   },
   "outputs": [
    {
     "data": {
      "text/html": [
       "<div>\n",
       "<style scoped>\n",
       "    .dataframe tbody tr th:only-of-type {\n",
       "        vertical-align: middle;\n",
       "    }\n",
       "\n",
       "    .dataframe tbody tr th {\n",
       "        vertical-align: top;\n",
       "    }\n",
       "\n",
       "    .dataframe thead th {\n",
       "        text-align: right;\n",
       "    }\n",
       "</style>\n",
       "<table border=\"1\" class=\"dataframe\">\n",
       "  <thead>\n",
       "    <tr style=\"text-align: right;\">\n",
       "      <th></th>\n",
       "      <th>Unnamed: 0</th>\n",
       "      <th>id</th>\n",
       "      <th>conversation_id</th>\n",
       "      <th>created_at</th>\n",
       "      <th>date</th>\n",
       "      <th>timezone</th>\n",
       "      <th>place</th>\n",
       "      <th>tweet</th>\n",
       "      <th>language</th>\n",
       "      <th>hashtags</th>\n",
       "      <th>...</th>\n",
       "      <th>geo</th>\n",
       "      <th>source</th>\n",
       "      <th>user_rt_id</th>\n",
       "      <th>user_rt</th>\n",
       "      <th>retweet_id</th>\n",
       "      <th>reply_to</th>\n",
       "      <th>retweet_date</th>\n",
       "      <th>translate</th>\n",
       "      <th>trans_src</th>\n",
       "      <th>trans_dest</th>\n",
       "    </tr>\n",
       "  </thead>\n",
       "  <tbody>\n",
       "    <tr>\n",
       "      <th>5</th>\n",
       "      <td>5</td>\n",
       "      <td>1546235750446170113</td>\n",
       "      <td>1546235750446170113</td>\n",
       "      <td>1.657486e+12</td>\n",
       "      <td>2022-07-10 20:51:45</td>\n",
       "      <td>0</td>\n",
       "      <td>NaN</td>\n",
       "      <td>sri lanka protesters vow to occupy presidentia...</td>\n",
       "      <td>en</td>\n",
       "      <td>[]</td>\n",
       "      <td>...</td>\n",
       "      <td>NaN</td>\n",
       "      <td>NaN</td>\n",
       "      <td>NaN</td>\n",
       "      <td>NaN</td>\n",
       "      <td>NaN</td>\n",
       "      <td>[]</td>\n",
       "      <td>NaN</td>\n",
       "      <td>NaN</td>\n",
       "      <td>NaN</td>\n",
       "      <td>NaN</td>\n",
       "    </tr>\n",
       "    <tr>\n",
       "      <th>7</th>\n",
       "      <td>7</td>\n",
       "      <td>1546235749594439683</td>\n",
       "      <td>1544613357034110976</td>\n",
       "      <td>1.657486e+12</td>\n",
       "      <td>2022-07-10 20:51:45</td>\n",
       "      <td>0</td>\n",
       "      <td>NaN</td>\n",
       "      <td>cricketbetting sampsoncollins richardmann11 pa...</td>\n",
       "      <td>en</td>\n",
       "      <td>[]</td>\n",
       "      <td>...</td>\n",
       "      <td>NaN</td>\n",
       "      <td>NaN</td>\n",
       "      <td>NaN</td>\n",
       "      <td>NaN</td>\n",
       "      <td>NaN</td>\n",
       "      <td>[{'screen_name': 'cricketbetting', 'name': 'Ed...</td>\n",
       "      <td>NaN</td>\n",
       "      <td>NaN</td>\n",
       "      <td>NaN</td>\n",
       "      <td>NaN</td>\n",
       "    </tr>\n",
       "    <tr>\n",
       "      <th>8</th>\n",
       "      <td>8</td>\n",
       "      <td>1546235748357062657</td>\n",
       "      <td>1546029883591106562</td>\n",
       "      <td>1.657486e+12</td>\n",
       "      <td>2022-07-10 20:51:44</td>\n",
       "      <td>0</td>\n",
       "      <td>NaN</td>\n",
       "      <td>ceytamatheist worship animals hoping for divin...</td>\n",
       "      <td>en</td>\n",
       "      <td>[]</td>\n",
       "      <td>...</td>\n",
       "      <td>NaN</td>\n",
       "      <td>NaN</td>\n",
       "      <td>NaN</td>\n",
       "      <td>NaN</td>\n",
       "      <td>NaN</td>\n",
       "      <td>[{'screen_name': 'CeyTamAtheist', 'name': 'Cey...</td>\n",
       "      <td>NaN</td>\n",
       "      <td>NaN</td>\n",
       "      <td>NaN</td>\n",
       "      <td>NaN</td>\n",
       "    </tr>\n",
       "    <tr>\n",
       "      <th>10</th>\n",
       "      <td>10</td>\n",
       "      <td>1546235733685555201</td>\n",
       "      <td>1546235733685555201</td>\n",
       "      <td>1.657486e+12</td>\n",
       "      <td>2022-07-10 20:51:41</td>\n",
       "      <td>0</td>\n",
       "      <td>NaN</td>\n",
       "      <td>yesterday it was sri lanka today its albania i...</td>\n",
       "      <td>en</td>\n",
       "      <td>[]</td>\n",
       "      <td>...</td>\n",
       "      <td>NaN</td>\n",
       "      <td>NaN</td>\n",
       "      <td>NaN</td>\n",
       "      <td>NaN</td>\n",
       "      <td>NaN</td>\n",
       "      <td>[]</td>\n",
       "      <td>NaN</td>\n",
       "      <td>NaN</td>\n",
       "      <td>NaN</td>\n",
       "      <td>NaN</td>\n",
       "    </tr>\n",
       "    <tr>\n",
       "      <th>11</th>\n",
       "      <td>11</td>\n",
       "      <td>1546235705747202051</td>\n",
       "      <td>1546235705747202051</td>\n",
       "      <td>1.657486e+12</td>\n",
       "      <td>2022-07-10 20:51:34</td>\n",
       "      <td>0</td>\n",
       "      <td>NaN</td>\n",
       "      <td>groundwater shortage is known flooding too we ...</td>\n",
       "      <td>en</td>\n",
       "      <td>['srilanka', 'baerbock', 'lanz', 'annewill']</td>\n",
       "      <td>...</td>\n",
       "      <td>NaN</td>\n",
       "      <td>NaN</td>\n",
       "      <td>NaN</td>\n",
       "      <td>NaN</td>\n",
       "      <td>NaN</td>\n",
       "      <td>[]</td>\n",
       "      <td>NaN</td>\n",
       "      <td>NaN</td>\n",
       "      <td>NaN</td>\n",
       "      <td>NaN</td>\n",
       "    </tr>\n",
       "  </tbody>\n",
       "</table>\n",
       "<p>5 rows × 39 columns</p>\n",
       "</div>"
      ],
      "text/plain": [
       "    Unnamed: 0                   id      conversation_id    created_at  \\\n",
       "5            5  1546235750446170113  1546235750446170113  1.657486e+12   \n",
       "7            7  1546235749594439683  1544613357034110976  1.657486e+12   \n",
       "8            8  1546235748357062657  1546029883591106562  1.657486e+12   \n",
       "10          10  1546235733685555201  1546235733685555201  1.657486e+12   \n",
       "11          11  1546235705747202051  1546235705747202051  1.657486e+12   \n",
       "\n",
       "                   date  timezone place  \\\n",
       "5   2022-07-10 20:51:45         0   NaN   \n",
       "7   2022-07-10 20:51:45         0   NaN   \n",
       "8   2022-07-10 20:51:44         0   NaN   \n",
       "10  2022-07-10 20:51:41         0   NaN   \n",
       "11  2022-07-10 20:51:34         0   NaN   \n",
       "\n",
       "                                                tweet language  \\\n",
       "5   sri lanka protesters vow to occupy presidentia...       en   \n",
       "7   cricketbetting sampsoncollins richardmann11 pa...       en   \n",
       "8   ceytamatheist worship animals hoping for divin...       en   \n",
       "10  yesterday it was sri lanka today its albania i...       en   \n",
       "11  groundwater shortage is known flooding too we ...       en   \n",
       "\n",
       "                                        hashtags  ... geo  source  user_rt_id  \\\n",
       "5                                             []  ... NaN     NaN         NaN   \n",
       "7                                             []  ... NaN     NaN         NaN   \n",
       "8                                             []  ... NaN     NaN         NaN   \n",
       "10                                            []  ... NaN     NaN         NaN   \n",
       "11  ['srilanka', 'baerbock', 'lanz', 'annewill']  ... NaN     NaN         NaN   \n",
       "\n",
       "   user_rt retweet_id                                           reply_to  \\\n",
       "5      NaN        NaN                                                 []   \n",
       "7      NaN        NaN  [{'screen_name': 'cricketbetting', 'name': 'Ed...   \n",
       "8      NaN        NaN  [{'screen_name': 'CeyTamAtheist', 'name': 'Cey...   \n",
       "10     NaN        NaN                                                 []   \n",
       "11     NaN        NaN                                                 []   \n",
       "\n",
       "    retweet_date translate trans_src trans_dest  \n",
       "5            NaN       NaN       NaN        NaN  \n",
       "7            NaN       NaN       NaN        NaN  \n",
       "8            NaN       NaN       NaN        NaN  \n",
       "10           NaN       NaN       NaN        NaN  \n",
       "11           NaN       NaN       NaN        NaN  \n",
       "\n",
       "[5 rows x 39 columns]"
      ]
     },
     "execution_count": 53,
     "metadata": {},
     "output_type": "execute_result"
    }
   ],
   "source": [
    "SriLankaTweets.head()"
   ]
  },
  {
   "cell_type": "code",
   "execution_count": null,
   "metadata": {},
   "outputs": [],
   "source": []
  },
  {
   "cell_type": "code",
   "execution_count": 54,
   "metadata": {
    "id": "ZPEEE_4F4pxk"
   },
   "outputs": [],
   "source": [
    "features = SriLankaTweets['tweet']"
   ]
  },
  {
   "cell_type": "code",
   "execution_count": 55,
   "metadata": {
    "colab": {
     "base_uri": "https://localhost:8080/"
    },
    "id": "sbRP6CYu44Vj",
    "outputId": "2d4e66fc-f744-4823-cfcd-fccedd930d45"
   },
   "outputs": [
    {
     "data": {
      "text/plain": [
       "5     sri lanka protesters vow to occupy presidentia...\n",
       "7     cricketbetting sampsoncollins richardmann11 pa...\n",
       "8     ceytamatheist worship animals hoping for divin...\n",
       "10    yesterday it was sri lanka today its albania i...\n",
       "11    groundwater shortage is known flooding too we ...\n",
       "Name: tweet, dtype: object"
      ]
     },
     "execution_count": 55,
     "metadata": {},
     "output_type": "execute_result"
    }
   ],
   "source": [
    "features.head()"
   ]
  },
  {
   "cell_type": "code",
   "execution_count": 56,
   "metadata": {
    "colab": {
     "base_uri": "https://localhost:8080/"
    },
    "id": "2h6l1gA5t5U8",
    "outputId": "ce110904-d226-41e6-9439-e537fc16ca80"
   },
   "outputs": [
    {
     "data": {
      "text/plain": [
       "5008"
      ]
     },
     "execution_count": 56,
     "metadata": {},
     "output_type": "execute_result"
    }
   ],
   "source": [
    "len(features)"
   ]
  },
  {
   "cell_type": "code",
   "execution_count": 57,
   "metadata": {
    "colab": {
     "base_uri": "https://localhost:8080/"
    },
    "id": "sPsBZvm3t7-l",
    "outputId": "2b461848-0ef9-40d8-aef3-ecf8212d30b3"
   },
   "outputs": [
    {
     "data": {
      "text/plain": [
       "(5008,)"
      ]
     },
     "execution_count": 57,
     "metadata": {},
     "output_type": "execute_result"
    }
   ],
   "source": [
    "features.shape"
   ]
  },
  {
   "cell_type": "code",
   "execution_count": 65,
   "metadata": {
    "colab": {
     "base_uri": "https://localhost:8080/"
    },
    "id": "_w9kPXcxnnm_",
    "outputId": "5c995846-c10f-46ee-e26b-4f2ce4747535"
   },
   "outputs": [
    {
     "name": "stderr",
     "output_type": "stream",
     "text": [
      "/tmp/ipykernel_9353/4167990740.py:2: VisibleDeprecationWarning: Creating an ndarray from ragged nested sequences (which is a list-or-tuple of lists-or-tuples-or ndarrays with different lengths or shapes) is deprecated. If you meant to do this, you must specify 'dtype=object' when creating the ndarray.\n",
      "  tweets = np.array(tweets).reshape(-1)\n"
     ]
    }
   ],
   "source": [
    "tweets = emotion.tokenizer.texts_to_sequences(features)\n",
    "tweets = np.array(tweets).reshape(-1)\n",
    "tweets = pad_sequences(tweets, maxlen= 63)"
   ]
  },
  {
   "cell_type": "code",
   "execution_count": 66,
   "metadata": {
    "colab": {
     "base_uri": "https://localhost:8080/"
    },
    "id": "T1UsVu3VoNgQ",
    "outputId": "7805bca8-6a2e-4eca-f4cd-5aa16bcab1ce"
   },
   "outputs": [
    {
     "data": {
      "text/plain": [
       "array([[   0,    0,    0, ...,    4,  315,  185],\n",
       "       [   0,    0,    0, ...,  932,   11,    5],\n",
       "       [   0,    0,    0, ..., 1306,    4, 1097],\n",
       "       ...,\n",
       "       [   0,    0,    0, ...,   95,  134,   32],\n",
       "       [   0,    0,    0, ..., 1748,   21,   22],\n",
       "       [   0,    0,    0, ...,    5,  638,  127]], dtype=int32)"
      ]
     },
     "execution_count": 66,
     "metadata": {},
     "output_type": "execute_result"
    }
   ],
   "source": [
    "tweets"
   ]
  },
  {
   "cell_type": "code",
   "execution_count": null,
   "metadata": {
    "colab": {
     "base_uri": "https://localhost:8080/"
    },
    "id": "nUNpv4AByA5F",
    "outputId": "1410e864-1ece-424a-9db0-791e39945dd9"
   },
   "outputs": [],
   "source": []
  },
  {
   "cell_type": "markdown",
   "metadata": {
    "id": "sUZFmlutHNBi"
   },
   "source": [
    "##Using the sentiment analysis model:\n",
    "Using the trained sentiment analysis model, in order to analyze the sentiments of tweeters within the Sri Lanka dataset.\n",
    "Sentiment type and sentiment affiliation will be preserved for each Tweet."
   ]
  },
  {
   "cell_type": "code",
   "execution_count": 61,
   "metadata": {
    "id": "svLR7m52rOIP"
   },
   "outputs": [],
   "source": [
    "sentiment_labels = ['sadness', 'anger', 'love', 'surprise', 'fear', 'joy']\n",
    "sentiment_labels_encoding = [0, 1, 2, 3, 4, 5]"
   ]
  },
  {
   "cell_type": "code",
   "execution_count": 62,
   "metadata": {},
   "outputs": [
    {
     "data": {
      "text/plain": [
       "5008"
      ]
     },
     "execution_count": 62,
     "metadata": {},
     "output_type": "execute_result"
    }
   ],
   "source": [
    "len(tweets)"
   ]
  },
  {
   "cell_type": "code",
   "execution_count": 67,
   "metadata": {
    "id": "Qtloh5qbo61p"
   },
   "outputs": [
    {
     "name": "stdout",
     "output_type": "stream",
     "text": [
      "20/20 [==============================] - 2s 84ms/step\n"
     ]
    }
   ],
   "source": [
    "results_sen_tweets = emotion.m.predict(tweets, batch_size = 256)"
   ]
  },
  {
   "cell_type": "code",
   "execution_count": 68,
   "metadata": {},
   "outputs": [
    {
     "data": {
      "text/plain": [
       "5008"
      ]
     },
     "execution_count": 68,
     "metadata": {},
     "output_type": "execute_result"
    }
   ],
   "source": [
    "len(results_sen_tweets)"
   ]
  },
  {
   "cell_type": "code",
   "execution_count": 69,
   "metadata": {
    "id": "jJS57Je6r_4K"
   },
   "outputs": [],
   "source": [
    "sentiments = []\n",
    "sentiment_labels1=[]\n",
    "sentiment_labels2=[]\n",
    "\n",
    "for i in results_sen_tweets:\n",
    "  res = np.argmax(i, axis = 0)\n",
    "  sentiments.append([sentiment_labels_encoding[res], i[res]])\n",
    "  sentiment_labels1.append(sentiment_labels_encoding[res])\n",
    "  sentiment_labels2.append(sentiment_labels[res])"
   ]
  },
  {
   "cell_type": "code",
   "execution_count": 70,
   "metadata": {},
   "outputs": [
    {
     "data": {
      "text/html": [
       "<div>\n",
       "<style scoped>\n",
       "    .dataframe tbody tr th:only-of-type {\n",
       "        vertical-align: middle;\n",
       "    }\n",
       "\n",
       "    .dataframe tbody tr th {\n",
       "        vertical-align: top;\n",
       "    }\n",
       "\n",
       "    .dataframe thead th {\n",
       "        text-align: right;\n",
       "    }\n",
       "</style>\n",
       "<table border=\"1\" class=\"dataframe\">\n",
       "  <thead>\n",
       "    <tr style=\"text-align: right;\">\n",
       "      <th></th>\n",
       "      <th>tweets</th>\n",
       "      <th>labels_num</th>\n",
       "      <th>labels_text</th>\n",
       "    </tr>\n",
       "  </thead>\n",
       "  <tbody>\n",
       "    <tr>\n",
       "      <th>5</th>\n",
       "      <td>sri lanka protesters vow to occupy presidentia...</td>\n",
       "      <td>2</td>\n",
       "      <td>love</td>\n",
       "    </tr>\n",
       "    <tr>\n",
       "      <th>7</th>\n",
       "      <td>cricketbetting sampsoncollins richardmann11 pa...</td>\n",
       "      <td>4</td>\n",
       "      <td>fear</td>\n",
       "    </tr>\n",
       "    <tr>\n",
       "      <th>8</th>\n",
       "      <td>ceytamatheist worship animals hoping for divin...</td>\n",
       "      <td>2</td>\n",
       "      <td>love</td>\n",
       "    </tr>\n",
       "    <tr>\n",
       "      <th>10</th>\n",
       "      <td>yesterday it was sri lanka today its albania i...</td>\n",
       "      <td>2</td>\n",
       "      <td>love</td>\n",
       "    </tr>\n",
       "    <tr>\n",
       "      <th>11</th>\n",
       "      <td>groundwater shortage is known flooding too we ...</td>\n",
       "      <td>1</td>\n",
       "      <td>anger</td>\n",
       "    </tr>\n",
       "  </tbody>\n",
       "</table>\n",
       "</div>"
      ],
      "text/plain": [
       "                                               tweets  labels_num labels_text\n",
       "5   sri lanka protesters vow to occupy presidentia...           2        love\n",
       "7   cricketbetting sampsoncollins richardmann11 pa...           4        fear\n",
       "8   ceytamatheist worship animals hoping for divin...           2        love\n",
       "10  yesterday it was sri lanka today its albania i...           2        love\n",
       "11  groundwater shortage is known flooding too we ...           1       anger"
      ]
     },
     "execution_count": 70,
     "metadata": {},
     "output_type": "execute_result"
    }
   ],
   "source": [
    "data= { \"tweets\":SriLankaTweets['tweet'],\n",
    "       \"labels_num\": sentiment_labels1, \n",
    "       \"labels_text\": sentiment_labels2 \n",
    "\n",
    "      }\n",
    "\n",
    "tweet_labels_df = pd.DataFrame(data)\n",
    "tweet_labels_df.head()"
   ]
  },
  {
   "cell_type": "code",
   "execution_count": null,
   "metadata": {},
   "outputs": [],
   "source": []
  },
  {
   "cell_type": "code",
   "execution_count": null,
   "metadata": {
    "colab": {
     "base_uri": "https://localhost:8080/"
    },
    "id": "AkDZqj66q6uW",
    "outputId": "02eb7244-66a0-43be-a93f-140361d69061"
   },
   "outputs": [],
   "source": []
  },
  {
   "cell_type": "markdown",
   "metadata": {
    "id": "2OiPtGRUHgtq"
   },
   "source": [
    "### A graph showing the distribution of tweeters' feelings regarding events in Sri Lanka"
   ]
  },
  {
   "cell_type": "code",
   "execution_count": 71,
   "metadata": {
    "id": "gmpEAXENzSXA"
   },
   "outputs": [],
   "source": [
    "def count_sent(sentiments, depending_on):\n",
    "  c = 0\n",
    "  for i in sentiments:\n",
    "    if i[0] == depending_on:\n",
    "      c = c + 1\n",
    "  return c    "
   ]
  },
  {
   "cell_type": "code",
   "execution_count": 72,
   "metadata": {
    "id": "GcyTuOOAzZAR"
   },
   "outputs": [],
   "source": [
    "arr = []\n",
    "for i in sentiment_labels_encoding:\n",
    "  arr.append(count_sent(sentiments, i))"
   ]
  },
  {
   "cell_type": "code",
   "execution_count": 73,
   "metadata": {
    "colab": {
     "base_uri": "https://localhost:8080/"
    },
    "id": "lx37Doy13Orq",
    "outputId": "68b103fc-f3de-493c-e71c-f860576b88ae"
   },
   "outputs": [
    {
     "data": {
      "text/plain": [
       "[217, 97, 3031, 27, 1636, 0]"
      ]
     },
     "execution_count": 73,
     "metadata": {},
     "output_type": "execute_result"
    }
   ],
   "source": [
    "arr"
   ]
  },
  {
   "cell_type": "code",
   "execution_count": 74,
   "metadata": {
    "colab": {
     "base_uri": "https://localhost:8080/",
     "height": 575
    },
    "id": "QOfMqOIF3ceX",
    "outputId": "5c7fb67c-9f4e-44dc-82f8-2db9ec6c40b4"
   },
   "outputs": [
    {
     "data": {
      "image/png": "[encoded data removed]",
      "text/plain": [
       "<Figure size 800x550 with 1 Axes>"
      ]
     },
     "metadata": {},
     "output_type": "display_data"
    }
   ],
   "source": [
    "plt.pie(arr, labels = sentiment_labels)\n",
    "plt.show()"
   ]
  },
  {
   "cell_type": "markdown",
   "metadata": {
    "id": "EYR431cyHyT0"
   },
   "source": [
    "####  The hierarchical distribution of each feeling:\n",
    "This stage aims to determine the degree of convergence in terms of the single feeling of the tweeters, depending on the aggregation process based on the Euclidean distance, which depends on the percentage of feeling classification."
   ]
  },
  {
   "cell_type": "code",
   "execution_count": 77,
   "metadata": {},
   "outputs": [
    {
     "data": {
      "text/plain": [
       "array([2, 4, 1, 0, 3])"
      ]
     },
     "execution_count": 77,
     "metadata": {},
     "output_type": "execute_result"
    }
   ],
   "source": [
    "tweet_labels_df['labels_num'].unique()"
   ]
  },
  {
   "cell_type": "code",
   "execution_count": 78,
   "metadata": {},
   "outputs": [],
   "source": [
    "from wordcloud import WordCloud,ImageColorGenerator\n",
    "from PIL import Image\n",
    "import urllib\n",
    "import requests"
   ]
  },
  {
   "cell_type": "markdown",
   "metadata": {},
   "source": [
    "### Filter out the words of a class i.e. ('sadness', 'anger', 'love', 'surprise', 'fear', 'joy')"
   ]
  },
  {
   "cell_type": "code",
   "execution_count": null,
   "metadata": {},
   "outputs": [],
   "source": []
  },
  {
   "cell_type": "code",
   "execution_count": 79,
   "metadata": {},
   "outputs": [],
   "source": [
    "apply_filter ='sadness'\n",
    "\n",
    "filtered_words = ' '.join(text for text in tweet_labels_df['tweets'][tweet_labels_df['labels_text']==apply_filter])"
   ]
  },
  {
   "cell_type": "code",
   "execution_count": 80,
   "metadata": {},
   "outputs": [
    {
     "data": {
      "image/png": "[encoded data removed]",
      "text/plain": [
       "<Figure size 1000x2000 with 1 Axes>"
      ]
     },
     "metadata": {},
     "output_type": "display_data"
    }
   ],
   "source": [
    "# combining the image with the dataset\n",
    "# Mask = np.array(Image.open(requests.get('http://clipart-library.com/image_gallery2/Twitter-PNG-Image.png', stream=True).raw))\n",
    "Mask = np.array(Image.open('./images/Twitter-PNG-Image.png').raw)\n",
    "\n",
    "# We use the ImageColorGenerator library from Wordcloud \n",
    "# Here we take the color of the image and impose it over our wordcloud\n",
    "image_colors = ImageColorGenerator(Mask)\n",
    "\n",
    "# Now we use the WordCloud function from the wordcloud library \n",
    "wc = WordCloud(background_color='black', height=1500, width=4000,mask=Mask).generate(filtered_words)\n",
    "\n",
    "# Size of the image generated \n",
    "plt.figure(figsize=(10,20))\n",
    "\n",
    "# Here we recolor the words from the dataset to the image's color\n",
    "# recolor just recolors the default colors to the image's blue color\n",
    "# interpolation is used to smooth the image generated \n",
    "plt.imshow(wc.recolor(color_func=image_colors),interpolation=\"hamming\")\n",
    "\n",
    "plt.axis('off')\n",
    "plt.show()"
   ]
  },
  {
   "cell_type": "code",
   "execution_count": null,
   "metadata": {},
   "outputs": [],
   "source": []
  },
  {
   "cell_type": "markdown",
   "metadata": {},
   "source": [
    "# Extracting Features from cleaned Tweets"
   ]
  },
  {
   "cell_type": "markdown",
   "metadata": {},
   "source": [
    "### Bag-of-Words Features"
   ]
  },
  {
   "cell_type": "markdown",
   "metadata": {},
   "source": [
    "Bag of Words is a method to extract features from text documents. These features can be used for training machine learning algorithms. It creates a vocabulary of all the unique words occurring in all the documents in the training set. \n",
    "\n",
    "Consider a corpus (a collection of texts) called C of D documents {d1,d2…..dD} and N unique tokens extracted out of the corpus C. The N tokens (words) will form a list, and the size of the bag-of-words matrix M will be given by D X N. Each row in the matrix M contains the frequency of tokens in document D(i).\n",
    "\n",
    "For example, if you have 2 documents-\n",
    "\n",
    "\n",
    "\n",
    "- D1: He is a lazy boy. She is also lazy.\n",
    "\n",
    "- D2: Smith is a lazy person.\n",
    "\n",
    "First, it creates a vocabulary using unique words from all the documents\n",
    "#### [‘He’ , ’She’ , ’lazy’ , 'boy’ ,  'Smith’  , ’person’] \n",
    "\n",
    "- Here, D=2, N=6\n",
    "\n",
    "\n",
    "\n",
    "- The matrix M of size 2 X 6 will be represented as:\n",
    "\n",
    "![bow](https://s3-ap-south-1.amazonaws.com/av-blog-media/wp-content/uploads/2018/07/table.png)\n",
    "\n",
    "The above table depicts the training features containing term frequencies of each word in each document. This is called bag-of-words approach since the number of occurrence and not sequence or order of words matters in this approach."
   ]
  },
  {
   "cell_type": "markdown",
   "metadata": {},
   "source": [
    "### TF-IDF Features"
   ]
  },
  {
   "cell_type": "markdown",
   "metadata": {},
   "source": [
    "Tf-idf stands for term frequency-inverse document frequency, and the tf-idf weight is a weight often used in information retrieval and text mining. This weight is a statistical measure used to evaluate how important a word is to a document in a collection or corpus. The importance increases proportionally to the number of times a word appears in the document but is offset by the frequency of the word in the corpus. \n",
    "\n",
    "Typically, the tf-idf weight is composed by two terms: the first computes the normalized Term Frequency (TF), aka. the number of times a word appears in a document, divided by the total number of words in that document; the second term is the Inverse Document Frequency (IDF), computed as the logarithm of the number of the documents in the corpus divided by the number of documents where the specific term appears.\n",
    "\n",
    "- TF: Term Frequency, which measures how frequently a term occurs in a document. Since every document is different in length, it is possible that a term would appear much more times in long documents than shorter ones. Thus, the term frequency is often divided by the document length (aka. the total number of terms in the document) as a way of normalization: \n",
    "#### TF(t) = (Number of times term t appears in a document) / (Total number of terms in the document).\n",
    "\n",
    "- IDF: Inverse Document Frequency, which measures how important a term is. While computing TF, all terms are considered equally important. However it is known that certain terms, such as \"is\", \"of\", and \"that\", may appear a lot of times but have little importance. Thus we need to weigh down the frequent terms while scale up the rare ones, by computing the following: \n",
    "#### IDF(t) = log_e(Total number of documents / Number of documents with term t in it).\n",
    "\n",
    "#### Example:\n",
    "\n",
    "Consider a document containing 100 words wherein the word cat appears 3 times. The term frequency (i.e., tf) for cat is then (3 / 100) = 0.03. Now, assume we have 10 million documents and the word cat appears in one thousand of these. Then, the inverse document frequency (i.e., idf) is calculated as log(10,000,000 / 1,000) = 4. Thus, the Tf-idf weight is the product of these quantities: 0.03 * 4 = 0.12.\n",
    "\n"
   ]
  },
  {
   "cell_type": "code",
   "execution_count": null,
   "metadata": {},
   "outputs": [],
   "source": []
  },
  {
   "cell_type": "code",
   "execution_count": null,
   "metadata": {},
   "outputs": [],
   "source": []
  },
  {
   "cell_type": "code",
   "execution_count": null,
   "metadata": {},
   "outputs": [],
   "source": []
  },
  {
   "cell_type": "markdown",
   "metadata": {},
   "source": [
    "### Deploy the Classifier as an API"
   ]
  },
  {
   "cell_type": "code",
   "execution_count": 84,
   "metadata": {},
   "outputs": [
    {
     "name": "stdout",
     "output_type": "stream",
     "text": [
      "Loaded model from disk\n",
      "text=  I enjoyed my journey on this flight.\n",
      "1/1 [==============================] - 0s 268ms/step\n",
      "{'Label': 'love', 'model probability score': array([[0.0126336 , 0.02011475, 0.80463266, 0.0891477 , 0.04657218,\n",
      "        0.02689911]], dtype=float32)}\n"
     ]
    }
   ],
   "source": [
    "from flask import Flask\n",
    "import numpy as np\n",
    "from keras.models import model_from_json\n",
    "from flask import jsonify, request\n",
    "import json\n",
    "# import requests\n",
    "\n",
    "app = Flask(__name__)\n",
    "\n",
    "# load json and create model\n",
    "json_file = open('./models/test.json', 'r')\n",
    "loaded_model = model_from_json(json_file.read())\n",
    "json_file.close()\n",
    "\n",
    "# load weights into new model\n",
    "loaded_model.load_weights(\"./models/test.json.h5\")\n",
    "print(\"Loaded model from disk\")\n",
    "\n",
    "sentiment_labels = ['sadness', 'anger', 'love', 'surprise', 'fear', 'joy']\n",
    "sentiment_labels_encoding = [0, 1, 2, 3, 4, 5]\n",
    "\n",
    "\n",
    "def preprocessingText1(sentences):\n",
    "    sentences = sentences.apply(lambda sequence:\n",
    "                                              [ltrs.lower() for ltrs in sequence if ltrs not in string.punctuation])\n",
    "    sentences = sentences.apply(lambda wrd: ''.join(wrd))\n",
    "    return sentences\n",
    "\n",
    "\n",
    "@app.route(\"/predict_sentiment\", methods=['POST'])\n",
    "def predict_sentiment(text):\n",
    "    try:\n",
    "        params = json.loads(request.get_data())\n",
    "        text = params.get(\"query\",text)\n",
    "    except Exception as e:\n",
    "        print('text= ', text)\n",
    "        \n",
    "    tw = preprocessingText1(pd.Series(text))\n",
    "    tw = emotion.tokenizer.texts_to_sequences(tw)\n",
    "    tw = pad_sequences(tw, maxlen= 63)\n",
    "    prob =loaded_model.predict(tw)\n",
    "    idx=pd.Series(prob[0]).idxmax()\n",
    "    return {'Label': sentiment_labels[idx], 'model probability score':prob}\n",
    "#     return jsonify({'Label': sentiment_labels[idx], \n",
    "#                     'model probability score':prob})\n",
    "\n",
    "\n",
    "# if __name__ == '__main__':\n",
    "#     app.run(host='0.0.0.0', port=105)\n",
    "\n",
    "test_sentence1 = \"I enjoyed my journey on this flight.\"\n",
    "print(predict_sentiment(test_sentence1))"
   ]
  },
  {
   "cell_type": "code",
   "execution_count": null,
   "metadata": {},
   "outputs": [],
   "source": []
  },
  {
   "cell_type": "code",
   "execution_count": null,
   "metadata": {},
   "outputs": [],
   "source": []
  },
  {
   "cell_type": "code",
   "execution_count": null,
   "metadata": {},
   "outputs": [],
   "source": []
  },
  {
   "cell_type": "code",
   "execution_count": null,
   "metadata": {},
   "outputs": [],
   "source": []
  }
 ],
 "metadata": {
  "accelerator": "GPU",
  "colab": {
   "background_execution": "on",
   "collapsed_sections": [],
   "machine_shape": "hm",
   "name": "Analysis and sorting of tweeters' feelings.ipynb",
   "provenance": []
  },
  "gpuClass": "standard",
  "kernelspec": {
   "display_name": "Python 3",
   "language": "python",
   "name": "python3"
  },
  "language_info": {
   "codemirror_mode": {
    "name": "ipython",
    "version": 3
   },
   "file_extension": ".py",
   "mimetype": "text/x-python",
   "name": "python",
   "nbconvert_exporter": "python",
   "pygments_lexer": "ipython3",
   "version": "3.9.7"
  }
 },
 "nbformat": 4,
 "nbformat_minor": 1
}
